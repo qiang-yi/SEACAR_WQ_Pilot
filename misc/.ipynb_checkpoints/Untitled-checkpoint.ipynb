{
 "cells": [
  {
   "cell_type": "code",
   "execution_count": null,
   "metadata": {},
   "outputs": [],
   "source": [
    "import rasterio\n",
    "\n",
    "# Open the GeoTIFF file in read mode\n",
    "with rasterio.open('C:/projects/SEACAR_WQ_Pilot/GIS_data/output_raster/Big Bend/bb_2004Fall_S.tif') as dataset:\n",
    "    # Get the existing layer names\n",
    "    layer_names = dataset.descriptions\n",
    "\n",
    "    # Display the current layer names\n",
    "    print(\"Current layer names:\")\n",
    "    for i, name in enumerate(layer_names):\n",
    "        print(f\"Layer {i+1}: {name}\")\n",
    "\n",
    "    # Specify the index of the layer you want to rename\n",
    "    layer_index = 0  # Adjust this to the desired layer index (0-based)\n",
    "\n",
    "    # Specify the new layer name\n",
    "    new_name = \"bb_2004Fall_S_changed\"\n",
    "\n",
    "    # Create a copy of the dataset with updated layer name\n",
    "    updated_dataset = rasterio.open(\n",
    "        'C:/projects/SEACAR_WQ_Pilot/GIS_data/output_raster/Big Bend/bb_2004Fall_S.tif',\n",
    "        'w',\n",
    "        driver=dataset.driver,\n",
    "        width=dataset.width,\n",
    "        height=dataset.height,\n",
    "        count=dataset.count,\n",
    "        dtype=dataset.dtypes[0],\n",
    "        crs=dataset.crs,\n",
    "        transform=dataset.transform,\n",
    "        nodata=dataset.nodata,\n",
    "        compress=dataset.compression,\n",
    "        predictor=dataset.predictor,\n",
    "        photometric=dataset.photometric,\n",
    "        descriptions=layer_names,\n",
    "    )\n",
    "\n",
    "    # Copy each band to the updated dataset with the new layer name\n",
    "    for i in range(dataset.count):\n",
    "        band = dataset.read(i + 1)\n",
    "        updated_dataset.write(band, i + 1)\n",
    "\n",
    "    # Update the description of the specified layer\n",
    "    updated_dataset.descriptions[layer_index] = new_name\n",
    "\n",
    "    # Close the datasets\n",
    "    dataset.close()\n",
    "    updated_dataset.close()"
   ]
  }
 ],
 "metadata": {
  "kernelspec": {
   "display_name": "Python 3 (ipykernel)",
   "language": "python",
   "name": "python3"
  },
  "language_info": {
   "codemirror_mode": {
    "name": "ipython",
    "version": 3
   },
   "file_extension": ".py",
   "mimetype": "text/x-python",
   "name": "python",
   "nbconvert_exporter": "python",
   "pygments_lexer": "ipython3",
   "version": "3.10.4"
  }
 },
 "nbformat": 4,
 "nbformat_minor": 4
}
