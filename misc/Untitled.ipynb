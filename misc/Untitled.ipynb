{
 "cells": [
  {
   "cell_type": "code",
   "execution_count": 4,
   "metadata": {},
   "outputs": [
    {
     "name": "stdout",
     "output_type": "stream",
     "text": [
      "Current layer names:\n",
      "Layer 1: None\n"
     ]
    },
    {
     "ename": "CPLE_AppDefinedError",
     "evalue": "Deleting C:/projects/SEACAR_WQ_Pilot/GIS_data/output_raster/Big Bend/bb_2004Fall_S.tif failed: Permission denied",
     "output_type": "error",
     "traceback": [
      "\u001b[1;31m---------------------------------------------------------------------------\u001b[0m",
      "\u001b[1;31mCPLE_AppDefinedError\u001b[0m                      Traceback (most recent call last)",
      "\u001b[1;32m~\\AppData\\Local\\Temp/ipykernel_496/1537529716.py\u001b[0m in \u001b[0;36m<cell line: 4>\u001b[1;34m()\u001b[0m\n\u001b[0;32m     18\u001b[0m \u001b[1;33m\u001b[0m\u001b[0m\n\u001b[0;32m     19\u001b[0m     \u001b[1;31m# Create a copy of the dataset with updated layer name\u001b[0m\u001b[1;33m\u001b[0m\u001b[1;33m\u001b[0m\u001b[0m\n\u001b[1;32m---> 20\u001b[1;33m     updated_dataset = rasterio.open(\n\u001b[0m\u001b[0;32m     21\u001b[0m         \u001b[1;34m'C:/projects/SEACAR_WQ_Pilot/GIS_data/output_raster/Big Bend/bb_2004Fall_S.tif'\u001b[0m\u001b[1;33m,\u001b[0m\u001b[1;33m\u001b[0m\u001b[1;33m\u001b[0m\u001b[0m\n\u001b[0;32m     22\u001b[0m         \u001b[1;34m'w'\u001b[0m\u001b[1;33m,\u001b[0m\u001b[1;33m\u001b[0m\u001b[1;33m\u001b[0m\u001b[0m\n",
      "\u001b[1;32m~\\.conda\\envs\\geo\\lib\\site-packages\\rasterio\\env.py\u001b[0m in \u001b[0;36mwrapper\u001b[1;34m(*args, **kwds)\u001b[0m\n\u001b[0;32m    440\u001b[0m \u001b[1;33m\u001b[0m\u001b[0m\n\u001b[0;32m    441\u001b[0m         \u001b[1;32mwith\u001b[0m \u001b[0menv_ctor\u001b[0m\u001b[1;33m(\u001b[0m\u001b[0msession\u001b[0m\u001b[1;33m=\u001b[0m\u001b[0msession\u001b[0m\u001b[1;33m)\u001b[0m\u001b[1;33m:\u001b[0m\u001b[1;33m\u001b[0m\u001b[1;33m\u001b[0m\u001b[0m\n\u001b[1;32m--> 442\u001b[1;33m             \u001b[1;32mreturn\u001b[0m \u001b[0mf\u001b[0m\u001b[1;33m(\u001b[0m\u001b[1;33m*\u001b[0m\u001b[0margs\u001b[0m\u001b[1;33m,\u001b[0m \u001b[1;33m**\u001b[0m\u001b[0mkwds\u001b[0m\u001b[1;33m)\u001b[0m\u001b[1;33m\u001b[0m\u001b[1;33m\u001b[0m\u001b[0m\n\u001b[0m\u001b[0;32m    443\u001b[0m \u001b[1;33m\u001b[0m\u001b[0m\n\u001b[0;32m    444\u001b[0m     \u001b[1;32mreturn\u001b[0m \u001b[0mwrapper\u001b[0m\u001b[1;33m\u001b[0m\u001b[1;33m\u001b[0m\u001b[0m\n",
      "\u001b[1;32m~\\.conda\\envs\\geo\\lib\\site-packages\\rasterio\\__init__.py\u001b[0m in \u001b[0;36mopen\u001b[1;34m(fp, mode, driver, width, height, count, crs, transform, dtype, nodata, sharing, **kwargs)\u001b[0m\n\u001b[0;32m    285\u001b[0m             \u001b[0mwriter\u001b[0m \u001b[1;33m=\u001b[0m \u001b[0mget_writer_for_driver\u001b[0m\u001b[1;33m(\u001b[0m\u001b[0mdriver\u001b[0m\u001b[1;33m)\u001b[0m\u001b[1;33m\u001b[0m\u001b[1;33m\u001b[0m\u001b[0m\n\u001b[0;32m    286\u001b[0m             \u001b[1;32mif\u001b[0m \u001b[0mwriter\u001b[0m \u001b[1;32mis\u001b[0m \u001b[1;32mnot\u001b[0m \u001b[1;32mNone\u001b[0m\u001b[1;33m:\u001b[0m\u001b[1;33m\u001b[0m\u001b[1;33m\u001b[0m\u001b[0m\n\u001b[1;32m--> 287\u001b[1;33m                 dataset = writer(\n\u001b[0m\u001b[0;32m    288\u001b[0m                     \u001b[0mpath\u001b[0m\u001b[1;33m,\u001b[0m\u001b[1;33m\u001b[0m\u001b[1;33m\u001b[0m\u001b[0m\n\u001b[0;32m    289\u001b[0m                     \u001b[0mmode\u001b[0m\u001b[1;33m,\u001b[0m\u001b[1;33m\u001b[0m\u001b[1;33m\u001b[0m\u001b[0m\n",
      "\u001b[1;32mrasterio\\_io.pyx\u001b[0m in \u001b[0;36mrasterio._io.DatasetWriterBase.__init__\u001b[1;34m()\u001b[0m\n",
      "\u001b[1;32mrasterio\\_io.pyx\u001b[0m in \u001b[0;36mrasterio._io._delete_dataset_if_exists\u001b[1;34m()\u001b[0m\n",
      "\u001b[1;32mrasterio\\_err.pyx\u001b[0m in \u001b[0;36mrasterio._err.exc_wrap_int\u001b[1;34m()\u001b[0m\n",
      "\u001b[1;31mCPLE_AppDefinedError\u001b[0m: Deleting C:/projects/SEACAR_WQ_Pilot/GIS_data/output_raster/Big Bend/bb_2004Fall_S.tif failed: Permission denied"
     ]
    }
   ],
   "source": [
    "import rasterio\n",
    "\n",
    "# Open the GeoTIFF file in read mode\n",
    "with rasterio.open('C:/projects/SEACAR_WQ_Pilot/GIS_data/output_raster/Big Bend/bb_2004Fall_S.tif') as dataset:\n",
    "    # Get the existing layer names\n",
    "    layer_names = dataset.descriptions\n",
    "\n",
    "    # Display the current layer names\n",
    "    print(\"Current layer names:\")\n",
    "    for i, name in enumerate(layer_names):\n",
    "        print(f\"Layer {i+1}: {name}\")\n",
    "\n",
    "    # Specify the index of the layer you want to rename\n",
    "    layer_index = 0  # Adjust this to the desired layer index (0-based)\n",
    "\n",
    "    # Specify the new layer name\n",
    "    new_name = \"bb_2004Fall_S_changed\"\n",
    "\n",
    "    # Create a copy of the dataset with updated layer name\n",
    "    updated_dataset = rasterio.open(\n",
    "        'C:/projects/SEACAR_WQ_Pilot/GIS_data/output_raster/Big Bend/bb_2004Fall_S.tif',\n",
    "        'w',\n",
    "        driver=dataset.driver,\n",
    "        width=dataset.width,\n",
    "        height=dataset.height,\n",
    "        count=dataset.count,\n",
    "        dtype=dataset.dtypes[0],\n",
    "        crs=dataset.crs,\n",
    "        transform=dataset.transform,\n",
    "        nodata=dataset.nodata,\n",
    "        compress=dataset.compression,\n",
    "        photometric=dataset.photometric,\n",
    "        descriptions=layer_names,\n",
    "    )\n",
    "\n",
    "    # Copy each band to the updated dataset with the new layer name\n",
    "    for i in range(dataset.count):\n",
    "        band = dataset.read(i + 1)\n",
    "        updated_dataset.write(band, i + 1)\n",
    "\n",
    "    # Update the description of the specified layer\n",
    "    updated_dataset.descriptions[layer_index] = new_name\n",
    "\n",
    "    # Close the datasets\n",
    "    dataset.close()\n",
    "    updated_dataset.close()"
   ]
  },
  {
   "cell_type": "code",
   "execution_count": 7,
   "metadata": {},
   "outputs": [
    {
     "name": "stdout",
     "output_type": "stream",
     "text": [
      "Current band descriptions:\n",
      "Band 0: None\n"
     ]
    },
    {
     "ename": "TypeError",
     "evalue": "'tuple' object does not support item assignment",
     "output_type": "error",
     "traceback": [
      "\u001b[1;31m---------------------------------------------------------------------------\u001b[0m",
      "\u001b[1;31mTypeError\u001b[0m                                 Traceback (most recent call last)",
      "\u001b[1;32m~\\AppData\\Local\\Temp/ipykernel_496/2245320415.py\u001b[0m in \u001b[0;36m<cell line: 1>\u001b[1;34m()\u001b[0m\n\u001b[0;32m     15\u001b[0m \u001b[1;33m\u001b[0m\u001b[0m\n\u001b[0;32m     16\u001b[0m     \u001b[1;31m# Update the band description\u001b[0m\u001b[1;33m\u001b[0m\u001b[1;33m\u001b[0m\u001b[0m\n\u001b[1;32m---> 17\u001b[1;33m     \u001b[0mband_descriptions\u001b[0m\u001b[1;33m[\u001b[0m\u001b[0mband_index\u001b[0m\u001b[1;33m]\u001b[0m \u001b[1;33m=\u001b[0m \u001b[0mnew_description\u001b[0m\u001b[1;33m\u001b[0m\u001b[1;33m\u001b[0m\u001b[0m\n\u001b[0m\u001b[0;32m     18\u001b[0m \u001b[1;33m\u001b[0m\u001b[0m\n\u001b[0;32m     19\u001b[0m \u001b[1;31m# Open the TIFF file in update mode\u001b[0m\u001b[1;33m\u001b[0m\u001b[1;33m\u001b[0m\u001b[0m\n",
      "\u001b[1;31mTypeError\u001b[0m: 'tuple' object does not support item assignment"
     ]
    }
   ],
   "source": [
    "with rasterio.open('C:/projects/SEACAR_WQ_Pilot/GIS_data/output_raster/Big Bend/bb_2004Fall_S.tif', 'r') as dataset:\n",
    "    # Get the current band descriptions\n",
    "    band_descriptions = dataset.descriptions\n",
    "\n",
    "    # Display the current band descriptions\n",
    "    print(\"Current band descriptions:\")\n",
    "    for i, description in enumerate(band_descriptions):\n",
    "        print(f\"Band {i+1}: {description}\")\n",
    "\n",
    "    # Specify the index of the band you want to rename\n",
    "    band_index = 0  # Adjust this to the desired band index (0-based)\n",
    "\n",
    "    # Specify the new band description\n",
    "    new_description = \"bb_2004Fall_S\"\n",
    "\n",
    "    # Update the band description\n",
    "    band_descriptions[band_index] = new_description\n",
    "\n",
    "# Open the TIFF file in update mode\n",
    "with rasterio.open('C:/projects/SEACAR_WQ_Pilot/GIS_data/output_raster/Big Bend/bb_2004Fall_S.tif', 'r+') as dataset:\n",
    "    # Update the band descriptions\n",
    "    dataset.descriptions = band_descriptions"
   ]
  },
  {
   "cell_type": "code",
   "execution_count": null,
   "metadata": {},
   "outputs": [],
   "source": []
  }
 ],
 "metadata": {
  "kernelspec": {
   "display_name": "Python 3 (ipykernel)",
   "language": "python",
   "name": "python3"
  },
  "language_info": {
   "codemirror_mode": {
    "name": "ipython",
    "version": 3
   },
   "file_extension": ".py",
   "mimetype": "text/x-python",
   "name": "python",
   "nbconvert_exporter": "python",
   "pygments_lexer": "ipython3",
   "version": "3.10.4"
  }
 },
 "nbformat": 4,
 "nbformat_minor": 4
}
