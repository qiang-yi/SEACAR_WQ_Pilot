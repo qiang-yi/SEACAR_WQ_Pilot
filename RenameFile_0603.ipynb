{
 "cells": [
  {
   "cell_type": "code",
   "execution_count": 1,
   "id": "b8e05a80",
   "metadata": {},
   "outputs": [],
   "source": [
    "import glob\n",
    "import os"
   ]
  },
  {
   "cell_type": "code",
   "execution_count": 2,
   "id": "9b6e6972",
   "metadata": {},
   "outputs": [],
   "source": [
    "dictArea = {\n",
    "    'Charlotte Harbor':\"CH\",\n",
    "    'Big Bend':\"BB\",\n",
    "    'GTM Reserve':\"GTM\",\n",
    "    'Estero Bay':\"EB\",\n",
    "    'Biscayne Bay':\"Bbay\"\n",
    "}\n",
    "dictAreaChange = {\n",
    "    \"ch\":\"CH\",\n",
    "    \"bb\":\"BB\",\n",
    "    \"gtm\":\"GTM\",\n",
    "    \"eb\":\"EB\",\n",
    "    \"bbay\":\"Bbay\"\n",
    "}\n",
    "dictPara = {\n",
    "    \"S\":\"Sal\",\n",
    "    \"TN\":\"TN\",\n",
    "    \"T\":\"Turb\",\n",
    "    \"SD\":\"SD\",\n",
    "    \"DO\":\"DO\"\n",
    "}\n",
    "dictUnits = {\n",
    "    \"Sal\":\"ppt\",\n",
    "    \"TN\":\"mgl\",\n",
    "    \"Turb\":\"ntu\",\n",
    "    \"SD\":\"m\",\n",
    "    \"DO\":\"mgl\"\n",
    "}"
   ]
  },
  {
   "cell_type": "code",
   "execution_count": 3,
   "id": "85c8303f",
   "metadata": {},
   "outputs": [],
   "source": [
    "path = r\"D:\\Water_Quailty\\GIS_data\\output_raster\"\n",
    "all_folders = glob.glob(os.path.join(str(path) , \"*\"))\n",
    "all_folders"
   ]
  },
  {
   "cell_type": "code",
   "execution_count": 50,
   "id": "d9198f4f",
   "metadata": {},
   "outputs": [],
   "source": [
    "# It's for output_raster\n",
    "for i in range(len(all_folders)):\n",
    "    Fullname = all_folders[i].split(\"\\\\\")[-1]\n",
    "    newPath = path + \"\\\\\" + Fullname\n",
    "    abName = dictArea[Fullname]\n",
    "    all_files = glob.glob(os.path.join(str(newPath) , \"*\"))\n",
    "    for j in range(len(all_files)):\n",
    "        name = all_files[j].split(\"\\\\\",-1)\n",
    "        name1 = name[0:-1]\n",
    "        name1 = \"\\\\\".join(name1)\n",
    "        name2 = name[-1]\n",
    "        if abName in name2:\n",
    "            continue\n",
    "        else:\n",
    "            nameSep = name2.split(\"_\")\n",
    "            nameAreaAb  = nameSep[0]\n",
    "            newNameArea = dictAreaChange[nameAreaAb]\n",
    "            namePareAb  = nameSep[2].split(\".\",1)[0]\n",
    "            newNamePara = dictPara[namePareAb]\n",
    "            newNameUnit = dictUnits[newNamePara]\n",
    "            year        = nameSep[1][0:4]\n",
    "            season      = nameSep[1][4:]\n",
    "            fileType    = nameSep[2].split(\".\",1)[1]\n",
    "            newName     = newNameArea+\"_\"+newNamePara+\"_\"+newNameUnit+\"_\"+year+\"_\"+season+\".\"+fileType\n",
    "            oldFile     = newPath + \"\\\\\" + name2\n",
    "            newFile     = newPath + \"\\\\\" + newName\n",
    "            os.rename(oldFile, newFile)"
   ]
  },
  {
   "cell_type": "code",
   "execution_count": 56,
   "id": "3085124d",
   "metadata": {},
   "outputs": [],
   "source": [
    "path_2 = r\"D:\\Water_Quailty\\GIS_data\\standard_error_prediction\"\n",
    "all_folders_2 = glob.glob(os.path.join(str(path_2) , \"*\"))\n",
    "# Select five folders about five management area\n",
    "all_folders_2 = all_folders_2[1:6]\n",
    "all_folders_2"
   ]
  },
  {
   "cell_type": "code",
   "execution_count": 55,
   "id": "d7eb37ba",
   "metadata": {},
   "outputs": [],
   "source": [
    "# It's for standard_error_prediction\n",
    "for i in range(len(all_folders_2)):\n",
    "    Fullname = all_folders_2[i].split(\"\\\\\")[-1]\n",
    "    newPath = path_2 + \"\\\\\" + Fullname\n",
    "    abName = dictArea[Fullname]\n",
    "    all_files = glob.glob(os.path.join(str(newPath) , \"*\"))\n",
    "    for j in range(len(all_files)):\n",
    "        name = all_files[j].split(\"\\\\\",-1)\n",
    "        name1 = name[0:-1]\n",
    "        name1 = \"\\\\\".join(name1)\n",
    "        name2 = name[-1]\n",
    "        if abName in name2:\n",
    "            continue\n",
    "        else:\n",
    "            nameSep = name2.split(\"_\")\n",
    "            nameAreaAb  = nameSep[0]\n",
    "            newNameArea = dictAreaChange[nameAreaAb]\n",
    "            namePareAb  = nameSep[2].split(\".\",1)[0]\n",
    "            newNamePara = dictPara[namePareAb]\n",
    "            newNameUnit = dictUnits[newNamePara]\n",
    "            year        = nameSep[1][0:4]\n",
    "            season      = nameSep[1][4:]\n",
    "            fileType    = nameSep[-1].split(\".\",1)[1]\n",
    "            newName     = newNameArea+\"_\"+newNamePara+\"_\"+newNameUnit+\"_\"+year+\"_\"+season+\"_sep.\"+fileType\n",
    "            oldFile     = newPath + \"\\\\\" + name2\n",
    "            newFile     = newPath + \"\\\\\" + newName\n",
    "            os.rename(oldFile, newFile)"
   ]
  }
 ],
 "metadata": {
  "kernelspec": {
   "display_name": "Python 3 (ipykernel)",
   "language": "python",
   "name": "python3"
  },
  "language_info": {
   "codemirror_mode": {
    "name": "ipython",
    "version": 3
   },
   "file_extension": ".py",
   "mimetype": "text/x-python",
   "name": "python",
   "nbconvert_exporter": "python",
   "pygments_lexer": "ipython3",
   "version": "3.10.6"
  }
 },
 "nbformat": 4,
 "nbformat_minor": 5
}
