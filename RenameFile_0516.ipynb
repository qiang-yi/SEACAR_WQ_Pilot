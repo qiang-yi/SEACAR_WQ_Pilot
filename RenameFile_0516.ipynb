{
 "cells": [
  {
   "cell_type": "code",
   "execution_count": 2,
   "id": "b8e05a80",
   "metadata": {},
   "outputs": [],
   "source": [
    "import glob\n",
    "import os"
   ]
  },
  {
   "cell_type": "code",
   "execution_count": 59,
   "id": "85c8303f",
   "metadata": {},
   "outputs": [],
   "source": [
    "path = r\"D:\\Water_Quailty\\GIS_data\\standard_error_prediction\\test2\"\n",
    "all_folders = glob.glob(os.path.join(str(path) , \"*\"))\n",
    "dictArea = {\n",
    "    'Charlotte Harbor':\"ch\",\n",
    "    'Big Bend':\"bb\",\n",
    "    'GTM Reserve':\"gtm\",\n",
    "    'Estero Bay':\"eb\",\n",
    "    'Biscayne Bay':\"bbay\"\n",
    "}"
   ]
  },
  {
   "cell_type": "code",
   "execution_count": 60,
   "id": "703d19d2",
   "metadata": {},
   "outputs": [],
   "source": [
    "# It's for output_raster\n",
    "for i in range(len(all_folders)):\n",
    "    Fullname = all_folders[i].split(\"\\\\\")[-1]\n",
    "    newPath = path + \"\\\\\" + Fullname\n",
    "    abName = dictArea[Fullname]\n",
    "    all_files = glob.glob(os.path.join(str(newPath) , \"*\"))\n",
    "    for j in range(len(all_files)):\n",
    "        name = all_files[j].split(\"\\\\\",-1)\n",
    "        name1 = name[0:-1]\n",
    "        name1 = \"\\\\\".join(name1)\n",
    "        name2 = name[-1]\n",
    "        nameSplit = name2.split(\".\",1)\n",
    "        oriName = nameSplit[0]\n",
    "        attri   = nameSplit[1]\n",
    "        newName = abName + \"_\" + oriName + \".\" + attri\n",
    "        oldFile = newPath +\"\\\\\"+ name2\n",
    "        newFile = newPath +\"\\\\\"+ newName\n",
    "        os.rename(oldFile, newFile)"
   ]
  },
  {
   "cell_type": "code",
   "execution_count": 65,
   "id": "3085124d",
   "metadata": {},
   "outputs": [],
   "source": [
    "path_2 = r\"D:\\Water_Quailty\\GIS_data\\standard_error_prediction\"\n",
    "all_folders_2 = glob.glob(os.path.join(str(path_2) , \"*\"))"
   ]
  },
  {
   "cell_type": "code",
   "execution_count": 66,
   "id": "d7eb37ba",
   "metadata": {},
   "outputs": [],
   "source": [
    "# It's for standard_error_prediction\n",
    "for i in range(len(all_folders_2)):\n",
    "    Fullname = all_folders_2[i].split(\"\\\\\")[-1]\n",
    "    newPath = path_2 + \"\\\\\" + Fullname\n",
    "    abName = dictArea[Fullname]\n",
    "    all_files = glob.glob(os.path.join(str(newPath) , \"*\"))\n",
    "    for j in range(len(all_files)):\n",
    "        name = all_files[j].split(\"\\\\\",-1)\n",
    "        name1 = name[0:-1]\n",
    "        name1 = \"\\\\\".join(name1)\n",
    "        name2 = name[-1]\n",
    "        nameSplit = name2.split(\".\",1)\n",
    "        oriName = nameSplit[0]\n",
    "        attri   = nameSplit[1]\n",
    "        newName = abName + \"_\" + oriName + \"_sep.\" + attri\n",
    "        oldFile = newPath +\"\\\\\"+ name2\n",
    "        newFile = newPath +\"\\\\\"+ newName\n",
    "        os.rename(oldFile, newFile)"
   ]
  }
 ],
 "metadata": {
  "kernelspec": {
   "display_name": "Python 3 (ipykernel)",
   "language": "python",
   "name": "python3"
  },
  "language_info": {
   "codemirror_mode": {
    "name": "ipython",
    "version": 3
   },
   "file_extension": ".py",
   "mimetype": "text/x-python",
   "name": "python",
   "nbconvert_exporter": "python",
   "pygments_lexer": "ipython3",
   "version": "3.10.6"
  }
 },
 "nbformat": 4,
 "nbformat_minor": 5
}
