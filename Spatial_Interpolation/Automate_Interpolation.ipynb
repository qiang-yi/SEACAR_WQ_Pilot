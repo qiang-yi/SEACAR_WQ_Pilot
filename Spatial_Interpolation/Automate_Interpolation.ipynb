{
 "cells": [
  {
   "cell_type": "code",
   "execution_count": 39,
   "id": "23a3ef10",
   "metadata": {},
   "outputs": [],
   "source": [
    "import pandas as pd\n",
    "import geopandas as gpd\n",
    "import numpy as np\n",
    "\n",
    "import sys\n",
    "sys.path.append('..')\n",
    "import misc.autointerpolation\n",
    "\n",
    "# Reload misc module after editing\n",
    "import importlib\n",
    "importlib.reload(misc.autointerpolation)\n",
    "importlib.reload(misc)"
   ]
  },
  {
   "cell_type": "markdown",
   "id": "a146fb00",
   "metadata": {},
   "source": [
    "# 1. Load and Preprocess Data <a class=\"anchor\" id=\"load_data\"></a>"
   ]
  },
  {
   "cell_type": "code",
   "execution_count": 3,
   "id": "05ea86f9",
   "metadata": {},
   "outputs": [],
   "source": [
    "path = \"E:/Projects/SEACAR_WQ_Pilot/\"\n",
    "gis_path = path+'GIS_data/'\n",
    "\n",
    "# path = \"D:/Water_Quailty/\"\n",
    "# gis_path = path+'GIS_data/'"
   ]
  },
  {
   "cell_type": "markdown",
   "id": "1e08231f",
   "metadata": {},
   "source": [
    "Combine and preprocess discrete and continuous data."
   ]
  },
  {
   "cell_type": "code",
   "execution_count": 4,
   "id": "b1a2a964",
   "metadata": {},
   "outputs": [],
   "source": [
    "# dfDis, dfCon = misc.preprocess.preprocess(path + r\"OEAT_Discrete-2023-Jan-23.csv\", \n",
    "#                     path + r\"OEAT_Continuous_1-2023-Jan-23.csv\",\n",
    "#                     path + r\"OEAT_Continuous_2-2023-Jan-23.csv\")\n",
    "\n",
    "# dfAll = pd.concat([dfDis,dfCon]).drop(columns = ['Hour'])\n",
    "\n",
    "# dfAll.to_csv(path + \"all_0214.csv\")"
   ]
  },
  {
   "cell_type": "code",
   "execution_count": 5,
   "id": "ee879c00",
   "metadata": {},
   "outputs": [
    {
     "name": "stderr",
     "output_type": "stream",
     "text": [
      "C:\\Users\\qiangy\\AppData\\Local\\ESRI\\conda\\envs\\geo3\\lib\\site-packages\\IPython\\core\\interactiveshell.py:3442: DtypeWarning: Columns (6,12) have mixed types.Specify dtype option on import or set low_memory=False.\n",
      "  exec(code_obj, self.user_global_ns, self.user_ns)\n"
     ]
    }
   ],
   "source": [
    "# Reload modules in external .py files after editing.\n",
    "dfAll = pd.read_csv(path + \"all_0214.csv\").drop(columns=['Unnamed: 0','Unnamed: 0.1','RowID','ValueQualifier'])\n",
    "# Convert SampleDate froms str to date\n",
    "dfAll['SampleDate'] = pd.to_datetime(dfAll['SampleDate']).dt.date"
   ]
  },
  {
   "cell_type": "code",
   "execution_count": 6,
   "id": "d5743a66",
   "metadata": {},
   "outputs": [],
   "source": [
    "col_ls = ['RowID','ParameterName','ParameterUnits','ProgramLocationID','ActivityType','ManagedAreaName',\n",
    "                   'SampleDate','Year','Month','ResultValue','ValueQualifier','Latitude_DD','Longitude_DD']\n",
    "para_ls = [\"Salinity\",\"Total Nitrogen\",\"Dissolved Oxygen\",\"Turbidity\",\"Secchi Depth\"]\n",
    "para_ls_ab = [\"S\",\"TN\",\"DO\",\"T\",\"SD\"]\n",
    "# Convert full MA names to short names\n",
    "dictArea    = {'Gasparilla Sound-Charlotte Harbor Aquatic Preserve':'Charlotte Harbor','Big Bend Seagrasses Aquatic Preserve':'Big Bend',\n",
    "                'Guana Tolomato Matanzas National Estuarine Research Reserve':'GTM Reserve','Estero Bay Aquatic Preserve':'Estero Bay',\n",
    "                'Biscayne Bay Aquatic Preserve':'Biscayne Bay','Matlacha Pass Aquatic Preserve':'Matlacha Pass AP',\n",
    "                'Lemon Bay Aquatic Preserve':'Lemon Bay','Cape Haze Aquatic Preserve':'Cape Haze','Pine Island Sound Aquatic Preserve':'Pine Island'}\n",
    "\n",
    "# Convert full MA names to MA name in ORCP_Managed_Areas_Oct2021\n",
    "dictArea2    = {'Gasparilla Sound-Charlotte Harbor Aquatic Preserve':'Gasparilla Sound-Charlotte Harbor','Big Bend Seagrasses Aquatic Preserve':'Big Bend Seagrasses',\n",
    "                'Guana Tolomato Matanzas National Estuarine Research Reserve':'Guana Tolomato Matanzas NERR','Estero Bay Aquatic Preserve':'Estero Bay',\n",
    "                'Biscayne Bay Aquatic Preserve':'Biscayne Bay','Matlacha Pass Aquatic Preserve':'Matlacha Pass',\n",
    "                'Lemon Bay Aquatic Preserve':'Lemon Bay','Cape Haze Aquatic Preserve':'Cape Haze','Pine Island Sound Aquatic Preserve':'Pine Island Sound'}\n",
    "\n",
    "# Convert full MA names to abbreviations\n",
    "dictArea3    = {'Gasparilla Sound-Charlotte Harbor Aquatic Preserve':'ch','Big Bend Seagrasses Aquatic Preserve':'bb',\n",
    "                'Guana Tolomato Matanzas National Estuarine Research Reserve':'gtm','Estero Bay Aquatic Preserve':'eb',\n",
    "                'Biscayne Bay Aquatic Preserve':'bbay','Matlacha Pass Aquatic Preserve':'mp',\n",
    "                'Lemon Bay Aquatic Preserve':'lb','Cape Haze Aquatic Preserve':'ch','Pine Island Sound Aquatic Preserve':'pi'}\n",
    "\n",
    "dictPara = {\"Salinity\":'S','Total Nitrogen':'TN','Dissolved Oxygen':'DO','Turbidity':'T','Secchi Depth':'SD'}\n",
    "dictUnits   = {\"Salinity\":\"ppt\",\"Total Nitrogen\": \"mg/L\",\"Dissolved Oxygen\": \"mg/L\",\"Turbidity\": \"NTU\", \"Secchi Depth\": \"m\"}\n",
    "listArea    = dfAll[\"ManagedAreaName\"].unique()\n",
    "listPara    = [\"Salinity\",\"Total Nitrogen\",\"Dissolved Oxygen\",\"Turbidity\",\"Secchi Depth\"]\n",
    "SpatialRef = '3086'"
   ]
  },
  {
   "cell_type": "markdown",
   "id": "b9769017",
   "metadata": {},
   "source": [
    "# 2. Run spatial interpolation through seasonality table <a class=\"anchor\" id=\"combine\"></a>"
   ]
  },
  {
   "cell_type": "markdown",
   "id": "7096d23b",
   "metadata": {},
   "source": [
    "Delete incorrect seasons"
   ]
  },
  {
   "cell_type": "code",
   "execution_count": 8,
   "id": "fff8fd30",
   "metadata": {
    "scrolled": false
   },
   "outputs": [
    {
     "data": {
      "text/html": [
       "<div>\n",
       "<style scoped>\n",
       "    .dataframe tbody tr th:only-of-type {\n",
       "        vertical-align: middle;\n",
       "    }\n",
       "\n",
       "    .dataframe tbody tr th {\n",
       "        vertical-align: top;\n",
       "    }\n",
       "\n",
       "    .dataframe thead th {\n",
       "        text-align: right;\n",
       "    }\n",
       "</style>\n",
       "<table border=\"1\" class=\"dataframe\">\n",
       "  <thead>\n",
       "    <tr style=\"text-align: right;\">\n",
       "      <th></th>\n",
       "      <th>Unnamed: 0.1</th>\n",
       "      <th>param</th>\n",
       "      <th>ma</th>\n",
       "      <th>st_Year</th>\n",
       "      <th>season</th>\n",
       "      <th>med_seamo_ma</th>\n",
       "      <th>s_start</th>\n",
       "      <th>s_end</th>\n",
       "      <th>covariates</th>\n",
       "      <th>Processed</th>\n",
       "      <th>Total Nitrogen</th>\n",
       "      <th>Dissolved Oxygen</th>\n",
       "      <th>Salinity</th>\n",
       "      <th>Secchi Depth</th>\n",
       "      <th>Turbidity</th>\n",
       "    </tr>\n",
       "  </thead>\n",
       "  <tbody>\n",
       "    <tr>\n",
       "      <th>0</th>\n",
       "      <td>147</td>\n",
       "      <td>temp</td>\n",
       "      <td>Estero Bay Aquatic Preserve</td>\n",
       "      <td>2022</td>\n",
       "      <td>Summer</td>\n",
       "      <td>7-Jun</td>\n",
       "      <td>2022-06-07</td>\n",
       "      <td>2022-08-26</td>\n",
       "      <td>bathymetry+LDI+popden</td>\n",
       "      <td>1</td>\n",
       "      <td>E:/Projects/SEACAR_WQ_Pilot/GIS_data/output_ra...</td>\n",
       "      <td>E:/Projects/SEACAR_WQ_Pilot/GIS_data/output_ra...</td>\n",
       "      <td>NaN</td>\n",
       "      <td>NaN</td>\n",
       "      <td>E:/Projects/SEACAR_WQ_Pilot/GIS_data/output_ra...</td>\n",
       "    </tr>\n",
       "    <tr>\n",
       "      <th>1</th>\n",
       "      <td>71</td>\n",
       "      <td>temp</td>\n",
       "      <td>Biscayne Bay Aquatic Preserve</td>\n",
       "      <td>2022</td>\n",
       "      <td>Summer</td>\n",
       "      <td>1-Jun</td>\n",
       "      <td>2022-06-01</td>\n",
       "      <td>2022-08-26</td>\n",
       "      <td>bathymetry+LDI+popden</td>\n",
       "      <td>1</td>\n",
       "      <td>NaN</td>\n",
       "      <td>NaN</td>\n",
       "      <td>NaN</td>\n",
       "      <td>NaN</td>\n",
       "      <td>NaN</td>\n",
       "    </tr>\n",
       "    <tr>\n",
       "      <th>2</th>\n",
       "      <td>70</td>\n",
       "      <td>temp</td>\n",
       "      <td>Biscayne Bay Aquatic Preserve</td>\n",
       "      <td>2022</td>\n",
       "      <td>Spring</td>\n",
       "      <td>2-Mar</td>\n",
       "      <td>2022-03-02</td>\n",
       "      <td>2022-05-31</td>\n",
       "      <td>bathymetry+LDI+popden</td>\n",
       "      <td>1</td>\n",
       "      <td>E:/Projects/SEACAR_WQ_Pilot/GIS_data/output_ra...</td>\n",
       "      <td>E:/Projects/SEACAR_WQ_Pilot/GIS_data/output_ra...</td>\n",
       "      <td>E:/Projects/SEACAR_WQ_Pilot/GIS_data/output_ra...</td>\n",
       "      <td>NaN</td>\n",
       "      <td>E:/Projects/SEACAR_WQ_Pilot/GIS_data/output_ra...</td>\n",
       "    </tr>\n",
       "    <tr>\n",
       "      <th>3</th>\n",
       "      <td>146</td>\n",
       "      <td>temp</td>\n",
       "      <td>Estero Bay Aquatic Preserve</td>\n",
       "      <td>2022</td>\n",
       "      <td>Spring</td>\n",
       "      <td>27-Feb</td>\n",
       "      <td>2022-02-27</td>\n",
       "      <td>2022-06-06</td>\n",
       "      <td>bathymetry+LDI+popden</td>\n",
       "      <td>1</td>\n",
       "      <td>E:/Projects/SEACAR_WQ_Pilot/GIS_data/output_ra...</td>\n",
       "      <td>E:/Projects/SEACAR_WQ_Pilot/GIS_data/output_ra...</td>\n",
       "      <td>NaN</td>\n",
       "      <td>NaN</td>\n",
       "      <td>E:/Projects/SEACAR_WQ_Pilot/GIS_data/output_ra...</td>\n",
       "    </tr>\n",
       "    <tr>\n",
       "      <th>4</th>\n",
       "      <td>69</td>\n",
       "      <td>temp</td>\n",
       "      <td>Biscayne Bay Aquatic Preserve</td>\n",
       "      <td>2022</td>\n",
       "      <td>Winter</td>\n",
       "      <td>8-Feb</td>\n",
       "      <td>2022-02-08</td>\n",
       "      <td>2022-03-01</td>\n",
       "      <td>bathymetry+LDI+popden</td>\n",
       "      <td>1</td>\n",
       "      <td>E:/Projects/SEACAR_WQ_Pilot/GIS_data/output_ra...</td>\n",
       "      <td>E:/Projects/SEACAR_WQ_Pilot/GIS_data/output_ra...</td>\n",
       "      <td>E:/Projects/SEACAR_WQ_Pilot/GIS_data/output_ra...</td>\n",
       "      <td>NaN</td>\n",
       "      <td>E:/Projects/SEACAR_WQ_Pilot/GIS_data/output_ra...</td>\n",
       "    </tr>\n",
       "  </tbody>\n",
       "</table>\n",
       "</div>"
      ],
      "text/plain": [
       "   Unnamed: 0.1 param                             ma  st_Year  season  \\\n",
       "0           147  temp    Estero Bay Aquatic Preserve     2022  Summer   \n",
       "1            71  temp  Biscayne Bay Aquatic Preserve     2022  Summer   \n",
       "2            70  temp  Biscayne Bay Aquatic Preserve     2022  Spring   \n",
       "3           146  temp    Estero Bay Aquatic Preserve     2022  Spring   \n",
       "4            69  temp  Biscayne Bay Aquatic Preserve     2022  Winter   \n",
       "\n",
       "  med_seamo_ma    s_start      s_end             covariates  Processed  \\\n",
       "0        7-Jun 2022-06-07 2022-08-26  bathymetry+LDI+popden          1   \n",
       "1        1-Jun 2022-06-01 2022-08-26  bathymetry+LDI+popden          1   \n",
       "2        2-Mar 2022-03-02 2022-05-31  bathymetry+LDI+popden          1   \n",
       "3       27-Feb 2022-02-27 2022-06-06  bathymetry+LDI+popden          1   \n",
       "4        8-Feb 2022-02-08 2022-03-01  bathymetry+LDI+popden          1   \n",
       "\n",
       "                                      Total Nitrogen  \\\n",
       "0  E:/Projects/SEACAR_WQ_Pilot/GIS_data/output_ra...   \n",
       "1                                                NaN   \n",
       "2  E:/Projects/SEACAR_WQ_Pilot/GIS_data/output_ra...   \n",
       "3  E:/Projects/SEACAR_WQ_Pilot/GIS_data/output_ra...   \n",
       "4  E:/Projects/SEACAR_WQ_Pilot/GIS_data/output_ra...   \n",
       "\n",
       "                                    Dissolved Oxygen  \\\n",
       "0  E:/Projects/SEACAR_WQ_Pilot/GIS_data/output_ra...   \n",
       "1                                                NaN   \n",
       "2  E:/Projects/SEACAR_WQ_Pilot/GIS_data/output_ra...   \n",
       "3  E:/Projects/SEACAR_WQ_Pilot/GIS_data/output_ra...   \n",
       "4  E:/Projects/SEACAR_WQ_Pilot/GIS_data/output_ra...   \n",
       "\n",
       "                                            Salinity Secchi Depth  \\\n",
       "0                                                NaN          NaN   \n",
       "1                                                NaN          NaN   \n",
       "2  E:/Projects/SEACAR_WQ_Pilot/GIS_data/output_ra...          NaN   \n",
       "3                                                NaN          NaN   \n",
       "4  E:/Projects/SEACAR_WQ_Pilot/GIS_data/output_ra...          NaN   \n",
       "\n",
       "                                           Turbidity  \n",
       "0  E:/Projects/SEACAR_WQ_Pilot/GIS_data/output_ra...  \n",
       "1                                                NaN  \n",
       "2  E:/Projects/SEACAR_WQ_Pilot/GIS_data/output_ra...  \n",
       "3  E:/Projects/SEACAR_WQ_Pilot/GIS_data/output_ra...  \n",
       "4  E:/Projects/SEACAR_WQ_Pilot/GIS_data/output_ra...  "
      ]
     },
     "execution_count": 8,
     "metadata": {},
     "output_type": "execute_result"
    }
   ],
   "source": [
    "dfSeason = pd.read_csv(path + \"OEATUSF_Geospatial_TempSeasons_update_0510.csv\").drop(columns = \"Unnamed: 0\")\n",
    "dfSeason = dfSeason.dropna(subset=[\"s_start\",\"s_end\"]).reset_index(drop=True)\n",
    "\n",
    "dfSeason['s_start'] = pd.to_datetime(dfSeason['s_start'])\n",
    "dfSeason[\"s_end\"] = pd.to_datetime(dfSeason[\"s_end\"])\n",
    "dfSeason[\"date_range\"] = dfSeason[\"s_end\"] - dfSeason[\"s_start\"]\n",
    "dfSeason[\"date_range\"] = dfSeason.apply(lambda x: int(str(x[\"date_range\"]).split(\" \")[0]),axis=1)\n",
    "dfSeason = dfSeason[dfSeason[\"date_range\"]>0].drop(columns=\"date_range\").reset_index(drop=True)\n",
    "dfSeason.head()"
   ]
  },
  {
   "cell_type": "code",
   "execution_count": 8,
   "id": "f8e54040",
   "metadata": {},
   "outputs": [
    {
     "data": {
      "text/plain": [
       "array(['Estero Bay Aquatic Preserve', 'Biscayne Bay Aquatic Preserve',\n",
       "       'Guana Tolomato Matanzas National Estuarine Research Reserve',\n",
       "       'Gasparilla Sound-Charlotte Harbor Aquatic Preserve',\n",
       "       'Big Bend Seagrasses Aquatic Preserve'], dtype=object)"
      ]
     },
     "metadata": {},
     "output_type": "display_data"
    }
   ],
   "source": [
    "# Print all managed areas\n",
    "display(dfSeason['ma'].unique())\n",
    "\n",
    "# Create empty columns to store paths of exported files\n",
    "# data = dfSeason.assign(**{'Total Nitrogen': np.nan, 'Dissolved Oxygen': np.nan, 'Salinity': np.nan, 'Secchi Depth': np.nan, 'Turbidity': np.nan})"
   ]
  },
  {
   "cell_type": "code",
   "execution_count": 42,
   "id": "4fa647de",
   "metadata": {
    "scrolled": false
   },
   "outputs": [
    {
     "name": "stdout",
     "output_type": "stream",
     "text": [
      "Start the interpolation with the RK method\n",
      "Salinity in 2021 Fall caused an error:\n",
      "ERROR 040039: Not enough data to compute method.\n",
      "Failed to execute (EBKRegressionPrediction).\n",
      "\n"
     ]
    },
    {
     "data": {
      "text/plain": [
       "\"Interpolated Row 6, ['Estero Bay', 2021, 'Fall', 'S']\""
      ]
     },
     "metadata": {},
     "output_type": "display_data"
    },
    {
     "name": "stdout",
     "output_type": "stream",
     "text": [
      "Start the interpolation with the RK method\n",
      "--- Time lapse: 120.7061095237732 seconds ---\n"
     ]
    },
    {
     "data": {
      "text/plain": [
       "\"Interpolated Row 6, ['Estero Bay', 2021, 'Fall', 'TN']\""
      ]
     },
     "metadata": {},
     "output_type": "display_data"
    },
    {
     "name": "stdout",
     "output_type": "stream",
     "text": [
      "Start the interpolation with the RK method\n",
      "--- Time lapse: 118.93717074394226 seconds ---\n"
     ]
    },
    {
     "data": {
      "text/plain": [
       "\"Interpolated Row 6, ['Estero Bay', 2021, 'Fall', 'DO']\""
      ]
     },
     "metadata": {},
     "output_type": "display_data"
    },
    {
     "name": "stdout",
     "output_type": "stream",
     "text": [
      "Start the interpolation with the RK method\n"
     ]
    },
    {
     "ename": "KeyboardInterrupt",
     "evalue": "",
     "output_type": "error",
     "traceback": [
      "\u001b[1;31m---------------------------------------------------------------------------\u001b[0m",
      "\u001b[1;31mKeyboardInterrupt\u001b[0m                         Traceback (most recent call last)",
      "Cell \u001b[1;32mIn[42], line 6\u001b[0m\n\u001b[0;32m      4\u001b[0m \u001b[38;5;28;01mfor\u001b[39;00m para \u001b[38;5;129;01min\u001b[39;00m listPara[\u001b[38;5;241m0\u001b[39m:\u001b[38;5;241m3\u001b[39m]:\n\u001b[0;32m      5\u001b[0m     name \u001b[38;5;241m=\u001b[39m [dictArea[dfSeason\u001b[38;5;241m.\u001b[39miloc[i][\u001b[38;5;124m\"\u001b[39m\u001b[38;5;124mma\u001b[39m\u001b[38;5;124m\"\u001b[39m]],dfSeason\u001b[38;5;241m.\u001b[39miloc[i][\u001b[38;5;124m\"\u001b[39m\u001b[38;5;124mst_Year\u001b[39m\u001b[38;5;124m\"\u001b[39m],dfSeason\u001b[38;5;241m.\u001b[39miloc[i][\u001b[38;5;124m\"\u001b[39m\u001b[38;5;124mseason\u001b[39m\u001b[38;5;124m\"\u001b[39m],dictPara[para]]\n\u001b[1;32m----> 6\u001b[0m     out_raster,out_ga_layer,ga_to_raster \u001b[38;5;241m=\u001b[39m \u001b[43mmisc\u001b[49m\u001b[38;5;241;43m.\u001b[39;49m\u001b[43mautointerpolation\u001b[49m\u001b[38;5;241;43m.\u001b[39;49m\u001b[43minterpolation_auto\u001b[49m\u001b[43m(\u001b[49m\u001b[43mmethod\u001b[49m\u001b[43m \u001b[49m\u001b[38;5;241;43m=\u001b[39;49m\u001b[43m \u001b[49m\u001b[38;5;124;43m\"\u001b[39;49m\u001b[38;5;124;43mrk\u001b[39;49m\u001b[38;5;124;43m\"\u001b[39;49m\u001b[43m,\u001b[49m\n\u001b[0;32m      7\u001b[0m \u001b[43m                                                                                     \u001b[49m\u001b[43mgis_path\u001b[49m\u001b[43m  \u001b[49m\u001b[38;5;241;43m=\u001b[39;49m\u001b[43m \u001b[49m\u001b[43mgis_path\u001b[49m\u001b[43m,\u001b[49m\n\u001b[0;32m      8\u001b[0m \u001b[43m                                                                                     \u001b[49m\u001b[43mdataframe\u001b[49m\u001b[43m \u001b[49m\u001b[38;5;241;43m=\u001b[39;49m\u001b[43m \u001b[49m\u001b[43mdfAll\u001b[49m\u001b[43m,\u001b[49m\n\u001b[0;32m      9\u001b[0m \u001b[43m                                                                                     \u001b[49m\u001b[43mmanaged_area\u001b[49m\u001b[43m \u001b[49m\u001b[38;5;241;43m=\u001b[39;49m\u001b[43m \u001b[49m\u001b[43mdfSeason\u001b[49m\u001b[38;5;241;43m.\u001b[39;49m\u001b[43miloc\u001b[49m\u001b[43m[\u001b[49m\u001b[43mi\u001b[49m\u001b[43m]\u001b[49m\u001b[43m[\u001b[49m\u001b[38;5;124;43m\"\u001b[39;49m\u001b[38;5;124;43mma\u001b[39;49m\u001b[38;5;124;43m\"\u001b[39;49m\u001b[43m]\u001b[49m\u001b[43m,\u001b[49m\n\u001b[0;32m     10\u001b[0m \u001b[43m                                                                                     \u001b[49m\u001b[43mYear\u001b[49m\u001b[43m \u001b[49m\u001b[38;5;241;43m=\u001b[39;49m\u001b[43m \u001b[49m\u001b[43mdfSeason\u001b[49m\u001b[38;5;241;43m.\u001b[39;49m\u001b[43miloc\u001b[49m\u001b[43m[\u001b[49m\u001b[43mi\u001b[49m\u001b[43m]\u001b[49m\u001b[43m[\u001b[49m\u001b[38;5;124;43m\"\u001b[39;49m\u001b[38;5;124;43mst_Year\u001b[39;49m\u001b[38;5;124;43m\"\u001b[39;49m\u001b[43m]\u001b[49m\u001b[43m,\u001b[49m\n\u001b[0;32m     11\u001b[0m \u001b[43m                                                                                     \u001b[49m\u001b[43mSeason\u001b[49m\u001b[43m \u001b[49m\u001b[38;5;241;43m=\u001b[39;49m\u001b[43m \u001b[49m\u001b[43mdfSeason\u001b[49m\u001b[38;5;241;43m.\u001b[39;49m\u001b[43miloc\u001b[49m\u001b[43m[\u001b[49m\u001b[43mi\u001b[49m\u001b[43m]\u001b[49m\u001b[43m[\u001b[49m\u001b[38;5;124;43m\"\u001b[39;49m\u001b[38;5;124;43mseason\u001b[39;49m\u001b[38;5;124;43m\"\u001b[39;49m\u001b[43m]\u001b[49m\u001b[43m,\u001b[49m\n\u001b[0;32m     12\u001b[0m \u001b[43m                                                                                     \u001b[49m\u001b[43mstart_date\u001b[49m\u001b[43m \u001b[49m\u001b[38;5;241;43m=\u001b[39;49m\u001b[43m \u001b[49m\u001b[43mdfSeason\u001b[49m\u001b[38;5;241;43m.\u001b[39;49m\u001b[43miloc\u001b[49m\u001b[43m[\u001b[49m\u001b[43mi\u001b[49m\u001b[43m]\u001b[49m\u001b[43m[\u001b[49m\u001b[38;5;124;43m\"\u001b[39;49m\u001b[38;5;124;43ms_start\u001b[39;49m\u001b[38;5;124;43m\"\u001b[39;49m\u001b[43m]\u001b[49m\u001b[43m,\u001b[49m\n\u001b[0;32m     13\u001b[0m \u001b[43m                                                                                     \u001b[49m\u001b[43mend_date\u001b[49m\u001b[43m \u001b[49m\u001b[38;5;241;43m=\u001b[39;49m\u001b[43m \u001b[49m\u001b[43mdfSeason\u001b[49m\u001b[38;5;241;43m.\u001b[39;49m\u001b[43miloc\u001b[49m\u001b[43m[\u001b[49m\u001b[43mi\u001b[49m\u001b[43m]\u001b[49m\u001b[43m[\u001b[49m\u001b[38;5;124;43m\"\u001b[39;49m\u001b[38;5;124;43ms_end\u001b[39;49m\u001b[38;5;124;43m\"\u001b[39;49m\u001b[43m]\u001b[49m\u001b[43m,\u001b[49m\n\u001b[0;32m     14\u001b[0m \u001b[43m                                                                                     \u001b[49m\u001b[43mparameter\u001b[49m\u001b[43m \u001b[49m\u001b[38;5;241;43m=\u001b[39;49m\u001b[43m \u001b[49m\u001b[43mpara\u001b[49m\u001b[43m,\u001b[49m\n\u001b[0;32m     15\u001b[0m \u001b[43m                                                                                     \u001b[49m\u001b[43mcovariates\u001b[49m\u001b[43m \u001b[49m\u001b[38;5;241;43m=\u001b[39;49m\u001b[43m \u001b[49m\u001b[43mdfSeason\u001b[49m\u001b[38;5;241;43m.\u001b[39;49m\u001b[43miloc\u001b[49m\u001b[43m[\u001b[49m\u001b[43mi\u001b[49m\u001b[43m]\u001b[49m\u001b[43m[\u001b[49m\u001b[38;5;124;43m\"\u001b[39;49m\u001b[38;5;124;43mcovariates\u001b[39;49m\u001b[38;5;124;43m\"\u001b[39;49m\u001b[43m]\u001b[49m\u001b[38;5;241;43m.\u001b[39;49m\u001b[43msplit\u001b[49m\u001b[43m(\u001b[49m\u001b[38;5;124;43m\"\u001b[39;49m\u001b[38;5;124;43m+\u001b[39;49m\u001b[38;5;124;43m\"\u001b[39;49m\u001b[43m)\u001b[49m\u001b[43m,\u001b[49m\n\u001b[0;32m     16\u001b[0m \u001b[43m                                                                                     \u001b[49m\u001b[43mout_raster\u001b[49m\u001b[43m \u001b[49m\u001b[38;5;241;43m=\u001b[39;49m\u001b[43m \u001b[49m\u001b[43mname\u001b[49m\u001b[43m,\u001b[49m\n\u001b[0;32m     17\u001b[0m \u001b[43m                                                                                     \u001b[49m\u001b[43mout_ga_layer\u001b[49m\u001b[43m \u001b[49m\u001b[38;5;241;43m=\u001b[39;49m\u001b[43m \u001b[49m\u001b[43mname\u001b[49m\u001b[43m,\u001b[49m\n\u001b[0;32m     18\u001b[0m \u001b[43m                                                                                     \u001b[49m\u001b[43mpredict_std_err\u001b[49m\u001b[43m \u001b[49m\u001b[38;5;241;43m=\u001b[39;49m\u001b[43m \u001b[49m\u001b[43mname\u001b[49m\u001b[43m)\u001b[49m\n\u001b[0;32m     19\u001b[0m     dfSeason\u001b[38;5;241m.\u001b[39mloc[i, para] \u001b[38;5;241m=\u001b[39m out_raster\n\u001b[0;32m     20\u001b[0m     dfSeason\u001b[38;5;241m.\u001b[39mto_csv(path \u001b[38;5;241m+\u001b[39m \u001b[38;5;124m'\u001b[39m\u001b[38;5;124moutput.csv\u001b[39m\u001b[38;5;124m'\u001b[39m)\n",
      "File \u001b[1;32mE:\\Projects\\SEACAR_WQ_Pilot\\git\\Spatial_Interpolation\\..\\misc\\autointerpolation.py:195\u001b[0m, in \u001b[0;36minterpolation_auto\u001b[1;34m(method, gis_path, dataframe, managed_area, Year, Season, start_date, end_date, parameter, covariates, out_raster, out_ga_layer, predict_std_err)\u001b[0m\n\u001b[0;32m    191\u001b[0m     in_explanatory_rasters \u001b[38;5;241m=\u001b[39m in_explanatory_rasters\n\u001b[0;32m    192\u001b[0m     mask \u001b[38;5;241m=\u001b[39m gis_path\u001b[38;5;241m+\u001b[39m \u001b[38;5;124m'\u001b[39m\u001b[38;5;132;01m{}\u001b[39;00m\u001b[38;5;124m.shp\u001b[39m\u001b[38;5;124m'\u001b[39m\u001b[38;5;241m.\u001b[39mformat(dictArea3[Area])\n\u001b[1;32m--> 195\u001b[0m     Result,Stat \u001b[38;5;241m=\u001b[39m \u001b[43minterpolation\u001b[49m\u001b[43m(\u001b[49m\n\u001b[0;32m    196\u001b[0m \u001b[43m                    \u001b[49m\u001b[43mmethod\u001b[49m\u001b[43m \u001b[49m\u001b[38;5;241;43m=\u001b[39;49m\u001b[43m \u001b[49m\u001b[43mmethod\u001b[49m\u001b[43m,\u001b[49m\u001b[43m \u001b[49m\u001b[43minput_point\u001b[49m\u001b[43m \u001b[49m\u001b[38;5;241;43m=\u001b[39;49m\u001b[43m \u001b[49m\u001b[43min_features\u001b[49m\u001b[43m,\u001b[49m\u001b[43m \u001b[49m\u001b[43mout_raster\u001b[49m\u001b[43m \u001b[49m\u001b[38;5;241;43m=\u001b[39;49m\u001b[43m \u001b[49m\u001b[43mout_raster\u001b[49m\u001b[43m,\u001b[49m\u001b[43m \u001b[49m\n\u001b[0;32m    197\u001b[0m \u001b[43m                    \u001b[49m\u001b[43mz_field\u001b[49m\u001b[43m \u001b[49m\u001b[38;5;241;43m=\u001b[39;49m\u001b[43m \u001b[49m\u001b[43mvalue_field\u001b[49m\u001b[43m,\u001b[49m\u001b[43m \u001b[49m\u001b[43mout_ga_layer\u001b[49m\u001b[43m \u001b[49m\u001b[38;5;241;43m=\u001b[39;49m\u001b[43m \u001b[49m\u001b[43mout_ga_layer\u001b[49m\u001b[43m,\u001b[49m\u001b[43m \u001b[49m\u001b[43mextent\u001b[49m\u001b[43m \u001b[49m\u001b[38;5;241;43m=\u001b[39;49m\u001b[43m \u001b[49m\u001b[43mextent\u001b[49m\u001b[43m,\u001b[49m\u001b[43m \u001b[49m\n\u001b[0;32m    198\u001b[0m \u001b[43m                    \u001b[49m\u001b[43mmask\u001b[49m\u001b[43m \u001b[49m\u001b[38;5;241;43m=\u001b[39;49m\u001b[43m \u001b[49m\u001b[43mmask\u001b[49m\u001b[43m,\u001b[49m\u001b[43m \u001b[49m\u001b[43mga_to_raster\u001b[49m\u001b[43m \u001b[49m\u001b[38;5;241;43m=\u001b[39;49m\u001b[43m \u001b[49m\u001b[43mga_to_raster\u001b[49m\u001b[43m,\u001b[49m\u001b[43m \u001b[49m\u001b[43min_explanatory_rasters\u001b[49m\u001b[43m \u001b[49m\u001b[38;5;241;43m=\u001b[39;49m\u001b[43m \u001b[49m\u001b[43min_explanatory_rasters\u001b[49m\u001b[43m)\u001b[49m\n\u001b[0;32m    200\u001b[0m     \u001b[38;5;28;01mreturn\u001b[39;00m out_raster,out_ga_layer,ga_to_raster\n\u001b[0;32m    202\u001b[0m \u001b[38;5;28;01mexcept\u001b[39;00m \u001b[38;5;167;01mException\u001b[39;00m:\n",
      "File \u001b[1;32mE:\\Projects\\SEACAR_WQ_Pilot\\git\\Spatial_Interpolation\\..\\misc\\autointerpolation.py:104\u001b[0m, in \u001b[0;36minterpolation\u001b[1;34m(method, input_point, out_raster, z_field, out_ga_layer, extent, mask, ga_to_raster, in_explanatory_rasters)\u001b[0m\n\u001b[0;32m    102\u001b[0m start_time \u001b[38;5;241m=\u001b[39m time\u001b[38;5;241m.\u001b[39mtime()\n\u001b[0;32m    103\u001b[0m \u001b[38;5;28;01mwith\u001b[39;00m arcpy\u001b[38;5;241m.\u001b[39mEnvManager(extent \u001b[38;5;241m=\u001b[39m extent, mask \u001b[38;5;241m=\u001b[39m mask,outputCoordinateSystem \u001b[38;5;241m=\u001b[39m arcpy\u001b[38;5;241m.\u001b[39mSpatialReference(spatialref), cellSize \u001b[38;5;241m=\u001b[39m c_size, parallelProcessingFactor \u001b[38;5;241m=\u001b[39m parProFactor):\n\u001b[1;32m--> 104\u001b[0m     out_surface_raster \u001b[38;5;241m=\u001b[39m \u001b[43marcpy\u001b[49m\u001b[38;5;241;43m.\u001b[39;49m\u001b[43mEBKRegressionPrediction_ga\u001b[49m\u001b[43m(\u001b[49m\u001b[43min_features\u001b[49m\u001b[43m \u001b[49m\u001b[38;5;241;43m=\u001b[39;49m\u001b[43m \u001b[49m\u001b[43minput_point\u001b[49m\u001b[43m,\u001b[49m\u001b[43m \u001b[49m\n\u001b[0;32m    105\u001b[0m \u001b[43m                                                           \u001b[49m\u001b[43mdependent_field\u001b[49m\u001b[43m \u001b[49m\u001b[38;5;241;43m=\u001b[39;49m\u001b[43m \u001b[49m\u001b[43mz_field\u001b[49m\u001b[43m,\u001b[49m\u001b[43m \u001b[49m\n\u001b[0;32m    106\u001b[0m \u001b[43m                                                          \u001b[49m\u001b[43mout_ga_layer\u001b[49m\u001b[43m \u001b[49m\u001b[38;5;241;43m=\u001b[39;49m\u001b[43m \u001b[49m\u001b[43mout_ga_layer\u001b[49m\u001b[43m,\u001b[49m\n\u001b[0;32m    107\u001b[0m \u001b[43m                                                            \u001b[49m\u001b[43mout_raster\u001b[49m\u001b[43m \u001b[49m\u001b[38;5;241;43m=\u001b[39;49m\u001b[43m \u001b[49m\u001b[43mout_raster\u001b[49m\u001b[43m,\u001b[49m\n\u001b[0;32m    108\u001b[0m \u001b[43m                                                          \u001b[49m\u001b[43min_explanatory_rasters\u001b[49m\u001b[43m \u001b[49m\u001b[38;5;241;43m=\u001b[39;49m\u001b[43m \u001b[49m\u001b[43min_explanatory_rasters\u001b[49m\u001b[43m,\u001b[49m\n\u001b[0;32m    109\u001b[0m \u001b[43m                                                           \u001b[49m\u001b[43mtransformation_type\u001b[49m\u001b[43m \u001b[49m\u001b[38;5;241;43m=\u001b[39;49m\u001b[43m \u001b[49m\u001b[38;5;124;43m'\u001b[39;49m\u001b[38;5;124;43mEMPIRICAL\u001b[39;49m\u001b[38;5;124;43m'\u001b[39;49m\u001b[43m,\u001b[49m\n\u001b[0;32m    110\u001b[0m \u001b[43m                                                          \u001b[49m\u001b[43msearch_neighborhood\u001b[49m\u001b[43m \u001b[49m\u001b[38;5;241;43m=\u001b[39;49m\u001b[43m \u001b[49m\u001b[43marcpy\u001b[49m\u001b[38;5;241;43m.\u001b[39;49m\u001b[43mSearchNeighborhoodSmoothCircular\u001b[49m\u001b[43m(\u001b[49m\u001b[43msmooth_r\u001b[49m\u001b[43m,\u001b[49m\u001b[38;5;241;43m0.5\u001b[39;49m\u001b[43m)\u001b[49m\u001b[43m)\u001b[49m\n\u001b[0;32m    111\u001b[0m     \u001b[38;5;66;03m# Convert GA layer to standard error of prediction raster\u001b[39;00m\n\u001b[0;32m    112\u001b[0m     arcpy\u001b[38;5;241m.\u001b[39mGALayerToRasters_ga(out_ga_layer, ga_to_raster,\u001b[38;5;124m\"\u001b[39m\u001b[38;5;124mPREDICTION_STANDARD_ERROR\u001b[39m\u001b[38;5;124m\"\u001b[39m, \u001b[38;5;28;01mNone\u001b[39;00m, c_size, \u001b[38;5;241m1\u001b[39m, \u001b[38;5;241m1\u001b[39m, \u001b[38;5;124m\"\u001b[39m\u001b[38;5;124m\"\u001b[39m)\n",
      "File \u001b[1;32mC:\\Program Files\\ArcGIS\\Pro\\Resources\\ArcPy\\arcpy\\ga.py:331\u001b[0m, in \u001b[0;36mEBKRegressionPrediction\u001b[1;34m(in_features, dependent_field, in_explanatory_rasters, out_ga_layer, out_raster, out_diagnostic_feature_class, measurement_error_field, min_cumulative_variance, in_subset_features, transformation_type, semivariogram_model_type, max_local_points, overlap_factor, number_simulations, search_neighborhood)\u001b[0m\n\u001b[0;32m    329\u001b[0m \u001b[38;5;28;01mfrom\u001b[39;00m \u001b[38;5;21;01marcpy\u001b[39;00m\u001b[38;5;21;01m.\u001b[39;00m\u001b[38;5;21;01marcobjects\u001b[39;00m\u001b[38;5;21;01m.\u001b[39;00m\u001b[38;5;21;01marcobjectconversion\u001b[39;00m \u001b[38;5;28;01mimport\u001b[39;00m convertArcObjectToPythonObject\n\u001b[0;32m    330\u001b[0m \u001b[38;5;28;01mtry\u001b[39;00m:\n\u001b[1;32m--> 331\u001b[0m     retval \u001b[38;5;241m=\u001b[39m convertArcObjectToPythonObject(\u001b[43mgp\u001b[49m\u001b[38;5;241;43m.\u001b[39;49m\u001b[43mEBKRegressionPrediction_ga\u001b[49m\u001b[43m(\u001b[49m\u001b[38;5;241;43m*\u001b[39;49m\u001b[43mgp_fixargs\u001b[49m\u001b[43m(\u001b[49m\u001b[43m(\u001b[49m\u001b[43min_features\u001b[49m\u001b[43m,\u001b[49m\u001b[43m \u001b[49m\u001b[43mdependent_field\u001b[49m\u001b[43m,\u001b[49m\u001b[43m \u001b[49m\u001b[43min_explanatory_rasters\u001b[49m\u001b[43m,\u001b[49m\u001b[43m \u001b[49m\u001b[43mout_ga_layer\u001b[49m\u001b[43m,\u001b[49m\u001b[43m \u001b[49m\u001b[43mout_raster\u001b[49m\u001b[43m,\u001b[49m\u001b[43m \u001b[49m\u001b[43mout_diagnostic_feature_class\u001b[49m\u001b[43m,\u001b[49m\u001b[43m \u001b[49m\u001b[43mmeasurement_error_field\u001b[49m\u001b[43m,\u001b[49m\u001b[43m \u001b[49m\u001b[43mmin_cumulative_variance\u001b[49m\u001b[43m,\u001b[49m\u001b[43m \u001b[49m\u001b[43min_subset_features\u001b[49m\u001b[43m,\u001b[49m\u001b[43m \u001b[49m\u001b[43mtransformation_type\u001b[49m\u001b[43m,\u001b[49m\u001b[43m \u001b[49m\u001b[43msemivariogram_model_type\u001b[49m\u001b[43m,\u001b[49m\u001b[43m \u001b[49m\u001b[43mmax_local_points\u001b[49m\u001b[43m,\u001b[49m\u001b[43m \u001b[49m\u001b[43moverlap_factor\u001b[49m\u001b[43m,\u001b[49m\u001b[43m \u001b[49m\u001b[43mnumber_simulations\u001b[49m\u001b[43m,\u001b[49m\u001b[43m \u001b[49m\u001b[43msearch_neighborhood\u001b[49m\u001b[43m)\u001b[49m\u001b[43m,\u001b[49m\u001b[43m \u001b[49m\u001b[38;5;28;43;01mTrue\u001b[39;49;00m\u001b[43m)\u001b[49m\u001b[43m)\u001b[49m)\n\u001b[0;32m    332\u001b[0m     \u001b[38;5;28;01mreturn\u001b[39;00m retval\n\u001b[0;32m    333\u001b[0m \u001b[38;5;28;01mexcept\u001b[39;00m \u001b[38;5;167;01mException\u001b[39;00m \u001b[38;5;28;01mas\u001b[39;00m e:\n",
      "File \u001b[1;32mC:\\Program Files\\ArcGIS\\Pro\\Resources\\ArcPy\\arcpy\\geoprocessing\\_base.py:512\u001b[0m, in \u001b[0;36mGeoprocessor.__getattr__.<locals>.<lambda>\u001b[1;34m(*args)\u001b[0m\n\u001b[0;32m    510\u001b[0m val \u001b[38;5;241m=\u001b[39m \u001b[38;5;28mgetattr\u001b[39m(\u001b[38;5;28mself\u001b[39m\u001b[38;5;241m.\u001b[39m_gp, attr)\n\u001b[0;32m    511\u001b[0m \u001b[38;5;28;01mif\u001b[39;00m callable(val):\n\u001b[1;32m--> 512\u001b[0m     \u001b[38;5;28;01mreturn\u001b[39;00m \u001b[38;5;28;01mlambda\u001b[39;00m \u001b[38;5;241m*\u001b[39margs: \u001b[43mval\u001b[49m\u001b[43m(\u001b[49m\u001b[38;5;241;43m*\u001b[39;49m\u001b[43mgp_fixargs\u001b[49m\u001b[43m(\u001b[49m\u001b[43margs\u001b[49m\u001b[43m,\u001b[49m\u001b[43m \u001b[49m\u001b[38;5;28;43;01mTrue\u001b[39;49;00m\u001b[43m)\u001b[49m\u001b[43m)\u001b[49m\n\u001b[0;32m    513\u001b[0m \u001b[38;5;28;01melse\u001b[39;00m:\n\u001b[0;32m    514\u001b[0m     \u001b[38;5;28;01mreturn\u001b[39;00m convertArcObjectToPythonObject(val)\n",
      "\u001b[1;31mKeyboardInterrupt\u001b[0m: "
     ]
    }
   ],
   "source": [
    "for i in dfSeason.index:\n",
    "# for i in range(176, 211):\n",
    "    if dfSeason.iloc[i][\"Processed\"] == 1: continue\n",
    "    for para in listPara[0:3]:\n",
    "        name = [dictArea[dfSeason.iloc[i][\"ma\"]],dfSeason.iloc[i][\"st_Year\"],dfSeason.iloc[i][\"season\"],dictPara[para]]\n",
    "        out_raster,out_ga_layer,ga_to_raster = misc.autointerpolation.interpolation_auto(method = \"rk\",\n",
    "                                                                                         gis_path  = gis_path,\n",
    "                                                                                         dataframe = dfAll,\n",
    "                                                                                         managed_area = dfSeason.iloc[i][\"ma\"],\n",
    "                                                                                         Year = dfSeason.iloc[i][\"st_Year\"],\n",
    "                                                                                         Season = dfSeason.iloc[i][\"season\"],\n",
    "                                                                                         start_date = dfSeason.iloc[i][\"s_start\"],\n",
    "                                                                                         end_date = dfSeason.iloc[i][\"s_end\"],\n",
    "                                                                                         parameter = para,\n",
    "                                                                                         covariates = dfSeason.iloc[i][\"covariates\"].split(\"+\"),\n",
    "                                                                                         out_raster = name,\n",
    "                                                                                         out_ga_layer = name,\n",
    "                                                                                         predict_std_err = name)\n",
    "        dfSeason.loc[i, para] = out_raster\n",
    "        dfSeason.to_csv(path + 'output.csv')\n",
    "        display('Interpolated Row {}, {}'.format(i,name))"
   ]
  }
 ],
 "metadata": {
  "kernelspec": {
   "display_name": "Python 3 (ipykernel)",
   "language": "python",
   "name": "python3"
  },
  "language_info": {
   "codemirror_mode": {
    "name": "ipython",
    "version": 3
   },
   "file_extension": ".py",
   "mimetype": "text/x-python",
   "name": "python",
   "nbconvert_exporter": "python",
   "pygments_lexer": "ipython3",
   "version": "3.9.11"
  }
 },
 "nbformat": 4,
 "nbformat_minor": 5
}
