{
 "cells": [
  {
   "cell_type": "code",
   "execution_count": 8,
   "id": "ff005560",
   "metadata": {},
   "outputs": [],
   "source": [
    "import time, math, os, importlib,sys\n",
    "import sklearn.metrics  \n",
    "import arcgisscripting\n",
    "import geopandas as gpd\n",
    "import matplotlib.pyplot as plt\n",
    "import numpy as np\n",
    "import pandas as pd\n",
    "import rasterio as rio\n",
    "import rasterio.mask\n",
    "import rasterio.plot as rio_pl\n",
    "import matplotlib.image as mpimg\n",
    "from datetime import datetime\n",
    "\n",
    "from rasterio.plot import show\n",
    "from rasterio.transform import Affine\n",
    "from rasterio.mask import mask\n",
    "from rasterio import MemoryFile\n",
    "from rasterio.profiles import DefaultGTiffProfile\n",
    "from scipy.spatial import Voronoi, voronoi_plot_2d\n",
    "from scipy.stats import sem\n",
    "from sklearn.metrics import mean_squared_error\n",
    "from shapely.geometry import box, Polygon, Point\n",
    "from shapely import wkt\n",
    "from sklearn.gaussian_process import GaussianProcessRegressor\n",
    "from sklearn.metrics import r2_score\n",
    "from sklearn.model_selection import train_test_split\n",
    "from sklearn.neighbors import KNeighborsRegressor\n",
    "import contextily as cx\n",
    "\n",
    "import arcpy\n",
    "from arcpy.sa import *\n",
    "import misc.preprocess\n",
    "import misc.interpolation\n",
    "arcpy.env.overwriteOutput = True"
   ]
  },
  {
   "cell_type": "markdown",
   "id": "838ad474",
   "metadata": {},
   "source": [
    "# 1. Load and Preprocess Data <a class=\"anchor\" id=\"load_data\"></a>"
   ]
  },
  {
   "cell_type": "code",
   "execution_count": 2,
   "id": "89920211",
   "metadata": {},
   "outputs": [],
   "source": [
    "path = \"E:/Projects/SEACAR_WQ_Pilot/\"\n",
    "gis_path = path+'GIS_data/'\n",
    "\n",
    "# path = \"D:/Water_Quailty/\"\n",
    "# gis_path = path+'GIS_data/'"
   ]
  },
  {
   "cell_type": "code",
   "execution_count": 3,
   "id": "70b0b53d",
   "metadata": {},
   "outputs": [
    {
     "name": "stderr",
     "output_type": "stream",
     "text": [
      "C:\\Users\\qiangy\\AppData\\Local\\ESRI\\conda\\envs\\geo3\\lib\\site-packages\\IPython\\core\\interactiveshell.py:3442: DtypeWarning: Columns (6,12) have mixed types.Specify dtype option on import or set low_memory=False.\n",
      "  exec(code_obj, self.user_global_ns, self.user_ns)\n"
     ]
    }
   ],
   "source": [
    "# Reload modules in external .py files after editing.\n",
    "dfAll = pd.read_csv(path + \"all_0214.csv\").drop(columns=['Unnamed: 0','Unnamed: 0.1','RowID','ValueQualifier'])\n",
    "# Convert SampleDate froms str to date\n",
    "dfAll['SampleDate'] = pd.to_datetime(dfAll['SampleDate']).dt.date"
   ]
  },
  {
   "cell_type": "code",
   "execution_count": 4,
   "id": "7080f968",
   "metadata": {},
   "outputs": [],
   "source": [
    "col_ls = ['RowID','ParameterName','ParameterUnits','ProgramLocationID','ActivityType','ManagedAreaName',\n",
    "                   'SampleDate','Year','Month','ResultValue','ValueQualifier','Latitude_DD','Longitude_DD']\n",
    "para_ls = [\"Salinity\",\"Total Nitrogen\",\"Dissolved Oxygen\",\"Turbidity\",\"Secchi Depth\"]\n",
    "para_ls_ab = [\"S\",\"TN\",\"DO\",\"T\",\"SD\"]\n",
    "# Convert full MA names to short names\n",
    "dictArea    = {'Gasparilla Sound-Charlotte Harbor Aquatic Preserve':'Charlotte Harbor','Big Bend Seagrasses Aquatic Preserve':'Big Bend',\n",
    "                'Guana Tolomato Matanzas National Estuarine Research Reserve':'GTM Reserve','Estero Bay Aquatic Preserve':'Estero Bay',\n",
    "                'Biscayne Bay Aquatic Preserve':'Biscayne Bay','Matlacha Pass Aquatic Preserve':'Matlacha Pass AP',\n",
    "                'Lemon Bay Aquatic Preserve':'Lemon Bay','Cape Haze Aquatic Preserve':'Cape Haze','Pine Island Sound Aquatic Preserve':'Pine Island'}\n",
    "\n",
    "# Convert full MA names to MA name in ORCP_Managed_Areas_Oct2021\n",
    "dictArea2    = {'Gasparilla Sound-Charlotte Harbor Aquatic Preserve':'Gasparilla Sound-Charlotte Harbor','Big Bend Seagrasses Aquatic Preserve':'Big Bend Seagrasses',\n",
    "                'Guana Tolomato Matanzas National Estuarine Research Reserve':'Guana Tolomato Matanzas NERR','Estero Bay Aquatic Preserve':'Estero Bay',\n",
    "                'Biscayne Bay Aquatic Preserve':'Biscayne Bay','Matlacha Pass Aquatic Preserve':'Matlacha Pass',\n",
    "                'Lemon Bay Aquatic Preserve':'Lemon Bay','Cape Haze Aquatic Preserve':'Cape Haze','Pine Island Sound Aquatic Preserve':'Pine Island Sound'}\n",
    "dictArea3    = {'Gasparilla Sound-Charlotte Harbor Aquatic Preserve':'ch','Big Bend Seagrasses Aquatic Preserve':'bb',\n",
    "                'Guana Tolomato Matanzas National Estuarine Research Reserve':'gtm','Estero Bay Aquatic Preserve':'eb',\n",
    "                'Biscayne Bay Aquatic Preserve':'bbay','Matlacha Pass Aquatic Preserve':'Matlacha Pass AP',\n",
    "                'Lemon Bay Aquatic Preserve':'Lemon Bay','Cape Haze Aquatic Preserve':'Cape Haze','Pine Island Sound Aquatic Preserve':'Pine Island'}\n",
    "\n",
    "dictPara = {\"Salinity\":'S','Total Nitrogen':'TN','Dissolved Oxygen':'DO','Turbidity':'T','Secchi Depth':'SD'}\n",
    "dictUnits   = {\"Salinity\":\"ppt\",\"Total Nitrogen\": \"mg/L\",\"Dissolved Oxygen\": \"mg/L\",\"Turbidity\": \"NTU\", \"Secchi Depth\": \"m\"}\n",
    "listArea    = dfAll[\"ManagedAreaName\"].unique()\n",
    "listPara    = [\"Salinity\",\"Total Nitrogen\",\"Dissolved Oxygen\",\"Turbidity\",\"Secchi Depth\"]\n",
    "SpatialRef = '3086'"
   ]
  },
  {
   "cell_type": "markdown",
   "id": "f6900c4e",
   "metadata": {},
   "source": [
    "# 2. Combine Discrete and Continuous Data <a class=\"anchor\" id=\"combine\"></a>\n",
    "\n",
    "Combine dis and con dataframes"
   ]
  },
  {
   "cell_type": "code",
   "execution_count": 75,
   "id": "1f59024f",
   "metadata": {},
   "outputs": [],
   "source": [
    "def interpolation_auto(method,dataframe,managed_area,Year,Season,start_date,end_date,parameter,covariates,out_raster,out_ga_layer,predict_std_err):\n",
    "    method = method\n",
    "    dataframe = dataframe\n",
    "    Area   = managed_area\n",
    "    Year   = Year\n",
    "    Season = Season\n",
    "    start_date,end_date = start_date,end_date\n",
    "    Para   = parameter\n",
    "    covariates = covariates\n",
    "    fname = [dictArea[Area],Year,Season[0:3],dictPara[Para]]\n",
    "    \n",
    "    input_pt = gis_path+\"input_point/{}/{}{}_{}.shp\".format(*fname)\n",
    "    \n",
    "    df,gdf= misc.preprocess.select_aggr_area_season(dataframe,start_date,end_date, Area, Para)\n",
    "    gdf   = gdf.to_crs(int(SpatialRef))\n",
    "        \n",
    "    boundary_shp = gis_path+ 'managed_area_boundary/{}.shp'.format(dictArea[Area][0:3])\n",
    "    gdf.to_file(input_pt,driver='ESRI Shapefile',crs=\"EPSG:\"+SpatialRef)\n",
    "    MA = gpd.read_file(gis_path + r\"managed_area_boundary/ORCP_Managed_Areas_Oct2021.shp\")\n",
    "    boundary = MA[MA['MA_Name']==dictArea2[Area]].to_crs(int(SpatialRef))\n",
    "    boundary.to_file(boundary_shp , driver='ESRI Shapefile',crs=\"EPSG:\"+SpatialRef)\n",
    "    extent = str(boundary.geometry.total_bounds).replace('[','').replace(']','')\n",
    "\n",
    "    if type(covariates) == str:\n",
    "        in_explanatory_rasters = gis_path + \"covariates/{}/{}.tif\".format(covariates, dictArea[Area])\n",
    "    elif type(covariates) == list:\n",
    "        in_explanatory_rasters = []\n",
    "        for i in range(len(covariates)):\n",
    "            in_explanatory_raster = str(gis_path + \"covariates/{}/{}.tif\".format(covariates[i], dictArea[Area]))\n",
    "            in_explanatory_rasters.append(in_explanatory_raster)\n",
    "\n",
    "    in_features = input_pt\n",
    "    out_raster = gis_path +\"output_raster/{}/{}{}_{}.tif\".format(*out_raster)\n",
    "    value_field = \"ResultValu\"\n",
    "    out_ga_layer = gis_path +\"ga_layer/{}/{}{}_{}.lyrx\".format(*out_ga_layer)\n",
    "    ga_to_raster = gis_path + 'standard_error_prediction/{}/{}{}_{}.tif'.format(*predict_std_err)\n",
    "    in_explanatory_rasters = in_explanatory_rasters\n",
    "    mask = gis_path+ '{}.shp'.format(dictArea3[Area])\n",
    "    \n",
    "    try:\n",
    "        Result,Stat = misc.interpolation.interpolation(\n",
    "                        method = method, input_point = in_features, out_raster = out_raster, \n",
    "                        z_field = value_field, out_ga_layer = out_ga_layer, extent = extent, \n",
    "                        mask = mask, ga_to_raster = ga_to_raster, in_explanatory_rasters = in_explanatory_rasters)\n",
    "        return out_raster,out_ga_layer,ga_to_raster\n",
    "    except Exception:\n",
    "        e = sys.exc_info()[1]\n",
    "        print(Para + \" in \" + str(Year) + \" \" + Season + \" caused an error:\")\n",
    "        print(e.args[0])\n",
    "        return np.nan,np.nan,np.nan"
   ]
  },
  {
   "cell_type": "code",
   "execution_count": 7,
   "id": "5769de14",
   "metadata": {
    "collapsed": true
   },
   "outputs": [
    {
     "name": "stderr",
     "output_type": "stream",
     "text": [
      "C:\\Users\\qiangy\\AppData\\Local\\Temp\\ipykernel_34980\\1551476218.py:17: UserWarning: Column names longer than 10 characters will be truncated when saved to ESRI Shapefile.\n",
      "  gdf.to_file(input_pt,driver='ESRI Shapefile',crs=\"EPSG:\"+SpatialRef)\n"
     ]
    },
    {
     "name": "stdout",
     "output_type": "stream",
     "text": [
      "Start the interpolation with the RK method\n"
     ]
    },
    {
     "ename": "NameError",
     "evalue": "name 'ExecuteError' is not defined",
     "output_type": "error",
     "traceback": [
      "\u001b[1;31m---------------------------------------------------------------------------\u001b[0m",
      "\u001b[1;31mExecuteError\u001b[0m                              Traceback (most recent call last)",
      "Cell \u001b[1;32mIn[6], line 40\u001b[0m, in \u001b[0;36minterpolation_auto\u001b[1;34m(method, dataframe, managed_area, Year, Season, start_date, end_date, parameter, covariates, out_raster, out_ga_layer, predict_std_err)\u001b[0m\n\u001b[0;32m     39\u001b[0m \u001b[38;5;28;01mtry\u001b[39;00m:\n\u001b[1;32m---> 40\u001b[0m     Result,Stat \u001b[38;5;241m=\u001b[39m \u001b[43mmisc\u001b[49m\u001b[38;5;241;43m.\u001b[39;49m\u001b[43minterpolation\u001b[49m\u001b[38;5;241;43m.\u001b[39;49m\u001b[43minterpolation\u001b[49m\u001b[43m(\u001b[49m\n\u001b[0;32m     41\u001b[0m \u001b[43m                    \u001b[49m\u001b[43mmethod\u001b[49m\u001b[43m \u001b[49m\u001b[38;5;241;43m=\u001b[39;49m\u001b[43m \u001b[49m\u001b[43mmethod\u001b[49m\u001b[43m,\u001b[49m\u001b[43m \u001b[49m\u001b[43minput_point\u001b[49m\u001b[43m \u001b[49m\u001b[38;5;241;43m=\u001b[39;49m\u001b[43m \u001b[49m\u001b[43min_features\u001b[49m\u001b[43m,\u001b[49m\u001b[43m \u001b[49m\u001b[43mout_raster\u001b[49m\u001b[43m \u001b[49m\u001b[38;5;241;43m=\u001b[39;49m\u001b[43m \u001b[49m\u001b[43mout_raster\u001b[49m\u001b[43m,\u001b[49m\u001b[43m \u001b[49m\n\u001b[0;32m     42\u001b[0m \u001b[43m                    \u001b[49m\u001b[43mz_field\u001b[49m\u001b[43m \u001b[49m\u001b[38;5;241;43m=\u001b[39;49m\u001b[43m \u001b[49m\u001b[43mvalue_field\u001b[49m\u001b[43m,\u001b[49m\u001b[43m \u001b[49m\u001b[43mout_ga_layer\u001b[49m\u001b[43m \u001b[49m\u001b[38;5;241;43m=\u001b[39;49m\u001b[43m \u001b[49m\u001b[43mout_ga_layer\u001b[49m\u001b[43m,\u001b[49m\u001b[43m \u001b[49m\u001b[43mextent\u001b[49m\u001b[43m \u001b[49m\u001b[38;5;241;43m=\u001b[39;49m\u001b[43m \u001b[49m\u001b[43mextent\u001b[49m\u001b[43m,\u001b[49m\u001b[43m \u001b[49m\n\u001b[0;32m     43\u001b[0m \u001b[43m                    \u001b[49m\u001b[43mmask\u001b[49m\u001b[43m \u001b[49m\u001b[38;5;241;43m=\u001b[39;49m\u001b[43m \u001b[49m\u001b[43mmask\u001b[49m\u001b[43m,\u001b[49m\u001b[43m \u001b[49m\u001b[43mga_to_raster\u001b[49m\u001b[43m \u001b[49m\u001b[38;5;241;43m=\u001b[39;49m\u001b[43m \u001b[49m\u001b[43mga_to_raster\u001b[49m\u001b[43m,\u001b[49m\u001b[43m \u001b[49m\u001b[43min_explanatory_rasters\u001b[49m\u001b[43m \u001b[49m\u001b[38;5;241;43m=\u001b[39;49m\u001b[43m \u001b[49m\u001b[43min_explanatory_rasters\u001b[49m\u001b[43m)\u001b[49m\n\u001b[0;32m     44\u001b[0m \u001b[38;5;28;01mexcept\u001b[39;00m ExecuteError:\n",
      "File \u001b[1;32mE:\\Projects\\SEACAR_WQ_Pilot\\git\\misc\\interpolation.py:131\u001b[0m, in \u001b[0;36minterpolation\u001b[1;34m(method, input_point, out_raster, z_field, out_ga_layer, extent, mask, ga_to_raster, in_explanatory_rasters)\u001b[0m\n\u001b[0;32m    130\u001b[0m \u001b[38;5;28;01mwith\u001b[39;00m arcpy\u001b[38;5;241m.\u001b[39mEnvManager(extent \u001b[38;5;241m=\u001b[39m extent, mask \u001b[38;5;241m=\u001b[39m mask,outputCoordinateSystem \u001b[38;5;241m=\u001b[39m arcpy\u001b[38;5;241m.\u001b[39mSpatialReference(spatialref), cellSize \u001b[38;5;241m=\u001b[39m c_size, parallelProcessingFactor \u001b[38;5;241m=\u001b[39m parProFactor):\n\u001b[1;32m--> 131\u001b[0m     out_surface_raster \u001b[38;5;241m=\u001b[39m \u001b[43marcpy\u001b[49m\u001b[38;5;241;43m.\u001b[39;49m\u001b[43mEBKRegressionPrediction_ga\u001b[49m\u001b[43m(\u001b[49m\u001b[43min_features\u001b[49m\u001b[43m \u001b[49m\u001b[38;5;241;43m=\u001b[39;49m\u001b[43m \u001b[49m\u001b[43minput_point\u001b[49m\u001b[43m,\u001b[49m\u001b[43m \u001b[49m\n\u001b[0;32m    132\u001b[0m \u001b[43m                                                           \u001b[49m\u001b[43mdependent_field\u001b[49m\u001b[43m \u001b[49m\u001b[38;5;241;43m=\u001b[39;49m\u001b[43m \u001b[49m\u001b[43mz_field\u001b[49m\u001b[43m,\u001b[49m\u001b[43m \u001b[49m\n\u001b[0;32m    133\u001b[0m \u001b[43m                                                          \u001b[49m\u001b[43mout_ga_layer\u001b[49m\u001b[43m \u001b[49m\u001b[38;5;241;43m=\u001b[39;49m\u001b[43m \u001b[49m\u001b[43mout_ga_layer\u001b[49m\u001b[43m,\u001b[49m\n\u001b[0;32m    134\u001b[0m \u001b[43m                                                            \u001b[49m\u001b[43mout_raster\u001b[49m\u001b[43m \u001b[49m\u001b[38;5;241;43m=\u001b[39;49m\u001b[43m \u001b[49m\u001b[43mout_raster\u001b[49m\u001b[43m,\u001b[49m\n\u001b[0;32m    135\u001b[0m \u001b[43m                                                          \u001b[49m\u001b[43min_explanatory_rasters\u001b[49m\u001b[43m \u001b[49m\u001b[38;5;241;43m=\u001b[39;49m\u001b[43m \u001b[49m\u001b[43min_explanatory_rasters\u001b[49m\u001b[43m,\u001b[49m\n\u001b[0;32m    136\u001b[0m \u001b[43m                                                           \u001b[49m\u001b[43mtransformation_type\u001b[49m\u001b[43m \u001b[49m\u001b[38;5;241;43m=\u001b[39;49m\u001b[43m \u001b[49m\u001b[38;5;124;43m'\u001b[39;49m\u001b[38;5;124;43mEMPIRICAL\u001b[39;49m\u001b[38;5;124;43m'\u001b[39;49m\u001b[43m,\u001b[49m\n\u001b[0;32m    137\u001b[0m \u001b[43m                                                          \u001b[49m\u001b[43msearch_neighborhood\u001b[49m\u001b[43m \u001b[49m\u001b[38;5;241;43m=\u001b[39;49m\u001b[43m \u001b[49m\u001b[43marcpy\u001b[49m\u001b[38;5;241;43m.\u001b[39;49m\u001b[43mSearchNeighborhoodSmoothCircular\u001b[49m\u001b[43m(\u001b[49m\u001b[43msmooth_r\u001b[49m\u001b[43m,\u001b[49m\u001b[38;5;241;43m0.5\u001b[39;49m\u001b[43m)\u001b[49m\u001b[43m)\u001b[49m\n\u001b[0;32m    138\u001b[0m     \u001b[38;5;66;03m# Convert GA layer to standard error of prediction raster\u001b[39;00m\n",
      "File \u001b[1;32mC:\\Program Files\\ArcGIS\\Pro\\Resources\\ArcPy\\arcpy\\ga.py:334\u001b[0m, in \u001b[0;36mEBKRegressionPrediction\u001b[1;34m(in_features, dependent_field, in_explanatory_rasters, out_ga_layer, out_raster, out_diagnostic_feature_class, measurement_error_field, min_cumulative_variance, in_subset_features, transformation_type, semivariogram_model_type, max_local_points, overlap_factor, number_simulations, search_neighborhood)\u001b[0m\n\u001b[0;32m    333\u001b[0m \u001b[38;5;28;01mexcept\u001b[39;00m \u001b[38;5;167;01mException\u001b[39;00m \u001b[38;5;28;01mas\u001b[39;00m e:\n\u001b[1;32m--> 334\u001b[0m     \u001b[38;5;28;01mraise\u001b[39;00m e\n",
      "File \u001b[1;32mC:\\Program Files\\ArcGIS\\Pro\\Resources\\ArcPy\\arcpy\\ga.py:331\u001b[0m, in \u001b[0;36mEBKRegressionPrediction\u001b[1;34m(in_features, dependent_field, in_explanatory_rasters, out_ga_layer, out_raster, out_diagnostic_feature_class, measurement_error_field, min_cumulative_variance, in_subset_features, transformation_type, semivariogram_model_type, max_local_points, overlap_factor, number_simulations, search_neighborhood)\u001b[0m\n\u001b[0;32m    330\u001b[0m \u001b[38;5;28;01mtry\u001b[39;00m:\n\u001b[1;32m--> 331\u001b[0m     retval \u001b[38;5;241m=\u001b[39m convertArcObjectToPythonObject(\u001b[43mgp\u001b[49m\u001b[38;5;241;43m.\u001b[39;49m\u001b[43mEBKRegressionPrediction_ga\u001b[49m\u001b[43m(\u001b[49m\u001b[38;5;241;43m*\u001b[39;49m\u001b[43mgp_fixargs\u001b[49m\u001b[43m(\u001b[49m\u001b[43m(\u001b[49m\u001b[43min_features\u001b[49m\u001b[43m,\u001b[49m\u001b[43m \u001b[49m\u001b[43mdependent_field\u001b[49m\u001b[43m,\u001b[49m\u001b[43m \u001b[49m\u001b[43min_explanatory_rasters\u001b[49m\u001b[43m,\u001b[49m\u001b[43m \u001b[49m\u001b[43mout_ga_layer\u001b[49m\u001b[43m,\u001b[49m\u001b[43m \u001b[49m\u001b[43mout_raster\u001b[49m\u001b[43m,\u001b[49m\u001b[43m \u001b[49m\u001b[43mout_diagnostic_feature_class\u001b[49m\u001b[43m,\u001b[49m\u001b[43m \u001b[49m\u001b[43mmeasurement_error_field\u001b[49m\u001b[43m,\u001b[49m\u001b[43m \u001b[49m\u001b[43mmin_cumulative_variance\u001b[49m\u001b[43m,\u001b[49m\u001b[43m \u001b[49m\u001b[43min_subset_features\u001b[49m\u001b[43m,\u001b[49m\u001b[43m \u001b[49m\u001b[43mtransformation_type\u001b[49m\u001b[43m,\u001b[49m\u001b[43m \u001b[49m\u001b[43msemivariogram_model_type\u001b[49m\u001b[43m,\u001b[49m\u001b[43m \u001b[49m\u001b[43mmax_local_points\u001b[49m\u001b[43m,\u001b[49m\u001b[43m \u001b[49m\u001b[43moverlap_factor\u001b[49m\u001b[43m,\u001b[49m\u001b[43m \u001b[49m\u001b[43mnumber_simulations\u001b[49m\u001b[43m,\u001b[49m\u001b[43m \u001b[49m\u001b[43msearch_neighborhood\u001b[49m\u001b[43m)\u001b[49m\u001b[43m,\u001b[49m\u001b[43m \u001b[49m\u001b[38;5;28;43;01mTrue\u001b[39;49;00m\u001b[43m)\u001b[49m\u001b[43m)\u001b[49m)\n\u001b[0;32m    332\u001b[0m     \u001b[38;5;28;01mreturn\u001b[39;00m retval\n",
      "File \u001b[1;32mC:\\Program Files\\ArcGIS\\Pro\\Resources\\ArcPy\\arcpy\\geoprocessing\\_base.py:512\u001b[0m, in \u001b[0;36mGeoprocessor.__getattr__.<locals>.<lambda>\u001b[1;34m(*args)\u001b[0m\n\u001b[0;32m    511\u001b[0m \u001b[38;5;28;01mif\u001b[39;00m callable(val):\n\u001b[1;32m--> 512\u001b[0m     \u001b[38;5;28;01mreturn\u001b[39;00m \u001b[38;5;28;01mlambda\u001b[39;00m \u001b[38;5;241m*\u001b[39margs: \u001b[43mval\u001b[49m\u001b[43m(\u001b[49m\u001b[38;5;241;43m*\u001b[39;49m\u001b[43mgp_fixargs\u001b[49m\u001b[43m(\u001b[49m\u001b[43margs\u001b[49m\u001b[43m,\u001b[49m\u001b[43m \u001b[49m\u001b[38;5;28;43;01mTrue\u001b[39;49;00m\u001b[43m)\u001b[49m\u001b[43m)\u001b[49m\n\u001b[0;32m    513\u001b[0m \u001b[38;5;28;01melse\u001b[39;00m:\n",
      "\u001b[1;31mExecuteError\u001b[0m: ERROR 000436: Output workspace E:/Projects/SEACAR_WQ_Pilot/GIS_data/output_raster/D/:/ does not exist\nFailed to execute (EBKRegressionPrediction).\n",
      "\nDuring handling of the above exception, another exception occurred:\n",
      "\u001b[1;31mNameError\u001b[0m                                 Traceback (most recent call last)",
      "Cell \u001b[1;32mIn[7], line 1\u001b[0m\n\u001b[1;32m----> 1\u001b[0m \u001b[43minterpolation_auto\u001b[49m\u001b[43m(\u001b[49m\u001b[43mmethod\u001b[49m\u001b[43m \u001b[49m\u001b[38;5;241;43m=\u001b[39;49m\u001b[43m \u001b[49m\u001b[38;5;124;43m\"\u001b[39;49m\u001b[38;5;124;43mrk\u001b[39;49m\u001b[38;5;124;43m\"\u001b[39;49m\u001b[43m,\u001b[49m\n\u001b[0;32m      2\u001b[0m \u001b[43m                   \u001b[49m\u001b[43mdataframe\u001b[49m\u001b[43m \u001b[49m\u001b[38;5;241;43m=\u001b[39;49m\u001b[43m \u001b[49m\u001b[43mdfAll\u001b[49m\u001b[43m,\u001b[49m\n\u001b[0;32m      3\u001b[0m \u001b[43m                   \u001b[49m\u001b[43mmanaged_area\u001b[49m\u001b[43m \u001b[49m\u001b[38;5;241;43m=\u001b[39;49m\u001b[43m \u001b[49m\u001b[38;5;124;43m\"\u001b[39;49m\u001b[38;5;124;43mBig Bend Seagrasses Aquatic Preserve\u001b[39;49m\u001b[38;5;124;43m\"\u001b[39;49m\u001b[43m,\u001b[49m\n\u001b[0;32m      4\u001b[0m \u001b[43m                   \u001b[49m\u001b[43mYear\u001b[49m\u001b[43m \u001b[49m\u001b[38;5;241;43m=\u001b[39;49m\u001b[43m \u001b[49m\u001b[38;5;124;43m\"\u001b[39;49m\u001b[38;5;124;43m2015\u001b[39;49m\u001b[38;5;124;43m\"\u001b[39;49m\u001b[43m,\u001b[49m\n\u001b[0;32m      5\u001b[0m \u001b[43m                   \u001b[49m\u001b[43mSeason\u001b[49m\u001b[43m \u001b[49m\u001b[38;5;241;43m=\u001b[39;49m\u001b[43m \u001b[49m\u001b[38;5;124;43m\"\u001b[39;49m\u001b[38;5;124;43mSummer\u001b[39;49m\u001b[38;5;124;43m\"\u001b[39;49m\u001b[43m,\u001b[49m\n\u001b[0;32m      6\u001b[0m \u001b[43m                   \u001b[49m\u001b[43mstart_date\u001b[49m\u001b[43m \u001b[49m\u001b[38;5;241;43m=\u001b[39;49m\u001b[43m \u001b[49m\u001b[38;5;124;43m\"\u001b[39;49m\u001b[38;5;124;43m2015-06-14\u001b[39;49m\u001b[38;5;124;43m\"\u001b[39;49m\u001b[43m,\u001b[49m\n\u001b[0;32m      7\u001b[0m \u001b[43m                   \u001b[49m\u001b[43mend_date\u001b[49m\u001b[43m \u001b[49m\u001b[38;5;241;43m=\u001b[39;49m\u001b[43m \u001b[49m\u001b[38;5;124;43m\"\u001b[39;49m\u001b[38;5;124;43m2015-08-30\u001b[39;49m\u001b[38;5;124;43m\"\u001b[39;49m\u001b[43m,\u001b[49m\n\u001b[0;32m      8\u001b[0m \u001b[43m                   \u001b[49m\u001b[43mparameter\u001b[49m\u001b[43m \u001b[49m\u001b[38;5;241;43m=\u001b[39;49m\u001b[43m \u001b[49m\u001b[38;5;124;43m\"\u001b[39;49m\u001b[38;5;124;43mDissolved Oxygen\u001b[39;49m\u001b[38;5;124;43m\"\u001b[39;49m\u001b[43m,\u001b[49m\n\u001b[0;32m      9\u001b[0m \u001b[43m                   \u001b[49m\u001b[43mcovariates\u001b[49m\u001b[43m \u001b[49m\u001b[38;5;241;43m=\u001b[39;49m\u001b[43m \u001b[49m\u001b[43m[\u001b[49m\u001b[38;5;124;43m\"\u001b[39;49m\u001b[38;5;124;43mbathymetry\u001b[39;49m\u001b[38;5;124;43m\"\u001b[39;49m\u001b[43m,\u001b[49m\u001b[38;5;124;43m\"\u001b[39;49m\u001b[38;5;124;43mLDI\u001b[39;49m\u001b[38;5;124;43m\"\u001b[39;49m\u001b[43m]\u001b[49m\u001b[43m,\u001b[49m\n\u001b[0;32m     10\u001b[0m \u001b[43m                   \u001b[49m\u001b[43mout_raster\u001b[49m\u001b[43m \u001b[49m\u001b[38;5;241;43m=\u001b[39;49m\u001b[43m \u001b[49m\u001b[38;5;124;43m\"\u001b[39;49m\u001b[38;5;124;43mD:/Water_Quailty/GIS_data/output_raster/Big Bend/Test.tif\u001b[39;49m\u001b[38;5;124;43m\"\u001b[39;49m\u001b[43m,\u001b[49m\n\u001b[0;32m     11\u001b[0m \u001b[43m                   \u001b[49m\u001b[43mout_ga_layer\u001b[49m\u001b[43m \u001b[49m\u001b[38;5;241;43m=\u001b[39;49m\u001b[43m \u001b[49m\u001b[38;5;124;43m\"\u001b[39;49m\u001b[38;5;124;43mD:/Water_Quailty/GIS_data/ga_layer/Big Bend/Test.lyrx\u001b[39;49m\u001b[38;5;124;43m\"\u001b[39;49m\u001b[43m,\u001b[49m\n\u001b[0;32m     12\u001b[0m \u001b[43m                   \u001b[49m\u001b[43mpredict_std_err\u001b[49m\u001b[43m \u001b[49m\u001b[38;5;241;43m=\u001b[39;49m\u001b[43m \u001b[49m\u001b[38;5;124;43m\"\u001b[39;49m\u001b[38;5;124;43mD:/Water_Quailty/GIS_data/standard_error_prediction/Big Bend/Test.tif\u001b[39;49m\u001b[38;5;124;43m\"\u001b[39;49m\n\u001b[0;32m     13\u001b[0m \u001b[43m                  \u001b[49m\u001b[43m)\u001b[49m\n",
      "Cell \u001b[1;32mIn[6], line 44\u001b[0m, in \u001b[0;36minterpolation_auto\u001b[1;34m(method, dataframe, managed_area, Year, Season, start_date, end_date, parameter, covariates, out_raster, out_ga_layer, predict_std_err)\u001b[0m\n\u001b[0;32m     39\u001b[0m \u001b[38;5;28;01mtry\u001b[39;00m:\n\u001b[0;32m     40\u001b[0m     Result,Stat \u001b[38;5;241m=\u001b[39m misc\u001b[38;5;241m.\u001b[39minterpolation\u001b[38;5;241m.\u001b[39minterpolation(\n\u001b[0;32m     41\u001b[0m                     method \u001b[38;5;241m=\u001b[39m method, input_point \u001b[38;5;241m=\u001b[39m in_features, out_raster \u001b[38;5;241m=\u001b[39m out_raster, \n\u001b[0;32m     42\u001b[0m                     z_field \u001b[38;5;241m=\u001b[39m value_field, out_ga_layer \u001b[38;5;241m=\u001b[39m out_ga_layer, extent \u001b[38;5;241m=\u001b[39m extent, \n\u001b[0;32m     43\u001b[0m                     mask \u001b[38;5;241m=\u001b[39m mask, ga_to_raster \u001b[38;5;241m=\u001b[39m ga_to_raster, in_explanatory_rasters \u001b[38;5;241m=\u001b[39m in_explanatory_rasters)\n\u001b[1;32m---> 44\u001b[0m \u001b[38;5;28;01mexcept\u001b[39;00m \u001b[43mExecuteError\u001b[49m:\n\u001b[0;32m     45\u001b[0m     \u001b[38;5;28mprint\u001b[39m(Para \u001b[38;5;241m+\u001b[39m \u001b[38;5;124m\"\u001b[39m\u001b[38;5;124m in \u001b[39m\u001b[38;5;124m\"\u001b[39m \u001b[38;5;241m+\u001b[39m Year \u001b[38;5;241m+\u001b[39m \u001b[38;5;124m\"\u001b[39m\u001b[38;5;124m \u001b[39m\u001b[38;5;124m\"\u001b[39m \u001b[38;5;241m+\u001b[39m Season \u001b[38;5;241m+\u001b[39m \u001b[38;5;124m\"\u001b[39m\u001b[38;5;124m has no interpolation result due to insufficient points\u001b[39m\u001b[38;5;124m\"\u001b[39m)\n",
      "\u001b[1;31mNameError\u001b[0m: name 'ExecuteError' is not defined"
     ]
    }
   ],
   "source": [
    "# interpolation_auto(method = \"rk\",\n",
    "#                    dataframe = dfAll,\n",
    "#                    managed_area = \"Big Bend Seagrasses Aquatic Preserve\",\n",
    "#                    Year = \"2015\",\n",
    "#                    Season = \"Summer\",\n",
    "#                    start_date = \"2015-06-14\",\n",
    "#                    end_date = \"2015-08-30\",\n",
    "#                    parameter = \"Dissolved Oxygen\",\n",
    "#                    covariates = [\"bathymetry\",\"LDI\"],\n",
    "#                    out_raster = \"D:/Water_Quailty/GIS_data/output_raster/Big Bend/Test.tif\",\n",
    "#                    out_ga_layer = \"D:/Water_Quailty/GIS_data/ga_layer/Big Bend/Test.lyrx\",\n",
    "#                    predict_std_err = \"D:/Water_Quailty/GIS_data/standard_error_prediction/Big Bend/Test.tif\"\n",
    "#                   )"
   ]
  },
  {
   "cell_type": "code",
   "execution_count": 92,
   "id": "179d0f17",
   "metadata": {
    "scrolled": true
   },
   "outputs": [
    {
     "data": {
      "text/html": [
       "<div>\n",
       "<style scoped>\n",
       "    .dataframe tbody tr th:only-of-type {\n",
       "        vertical-align: middle;\n",
       "    }\n",
       "\n",
       "    .dataframe tbody tr th {\n",
       "        vertical-align: top;\n",
       "    }\n",
       "\n",
       "    .dataframe thead th {\n",
       "        text-align: right;\n",
       "    }\n",
       "</style>\n",
       "<table border=\"1\" class=\"dataframe\">\n",
       "  <thead>\n",
       "    <tr style=\"text-align: right;\">\n",
       "      <th></th>\n",
       "      <th>Unnamed: 0</th>\n",
       "      <th>param</th>\n",
       "      <th>ma</th>\n",
       "      <th>st_Year</th>\n",
       "      <th>season</th>\n",
       "      <th>med_seamo_ma</th>\n",
       "      <th>s_start</th>\n",
       "      <th>s_end</th>\n",
       "      <th>covariates</th>\n",
       "    </tr>\n",
       "  </thead>\n",
       "  <tbody>\n",
       "    <tr>\n",
       "      <th>0</th>\n",
       "      <td>145</td>\n",
       "      <td>temp</td>\n",
       "      <td>Estero Bay Aquatic Preserve</td>\n",
       "      <td>2022</td>\n",
       "      <td>Winter</td>\n",
       "      <td>25-Dec</td>\n",
       "      <td>12/25/2022</td>\n",
       "      <td>2/26/2022</td>\n",
       "      <td>bathymetry+LDI+popden</td>\n",
       "    </tr>\n",
       "    <tr>\n",
       "      <th>3</th>\n",
       "      <td>147</td>\n",
       "      <td>temp</td>\n",
       "      <td>Estero Bay Aquatic Preserve</td>\n",
       "      <td>2022</td>\n",
       "      <td>Summer</td>\n",
       "      <td>7-Jun</td>\n",
       "      <td>6/7/2022</td>\n",
       "      <td>8/26/2022</td>\n",
       "      <td>bathymetry+LDI+popden</td>\n",
       "    </tr>\n",
       "    <tr>\n",
       "      <th>4</th>\n",
       "      <td>71</td>\n",
       "      <td>temp</td>\n",
       "      <td>Biscayne Bay Aquatic Preserve</td>\n",
       "      <td>2022</td>\n",
       "      <td>Summer</td>\n",
       "      <td>1-Jun</td>\n",
       "      <td>6/1/2022</td>\n",
       "      <td>8/26/2022</td>\n",
       "      <td>bathymetry+LDI+popden</td>\n",
       "    </tr>\n",
       "    <tr>\n",
       "      <th>5</th>\n",
       "      <td>70</td>\n",
       "      <td>temp</td>\n",
       "      <td>Biscayne Bay Aquatic Preserve</td>\n",
       "      <td>2022</td>\n",
       "      <td>Spring</td>\n",
       "      <td>2-Mar</td>\n",
       "      <td>3/2/2022</td>\n",
       "      <td>5/31/2022</td>\n",
       "      <td>bathymetry+LDI+popden</td>\n",
       "    </tr>\n",
       "    <tr>\n",
       "      <th>6</th>\n",
       "      <td>146</td>\n",
       "      <td>temp</td>\n",
       "      <td>Estero Bay Aquatic Preserve</td>\n",
       "      <td>2022</td>\n",
       "      <td>Spring</td>\n",
       "      <td>27-Feb</td>\n",
       "      <td>2/27/2022</td>\n",
       "      <td>6/6/2022</td>\n",
       "      <td>bathymetry+LDI+popden</td>\n",
       "    </tr>\n",
       "    <tr>\n",
       "      <th>...</th>\n",
       "      <td>...</td>\n",
       "      <td>...</td>\n",
       "      <td>...</td>\n",
       "      <td>...</td>\n",
       "      <td>...</td>\n",
       "      <td>...</td>\n",
       "      <td>...</td>\n",
       "      <td>...</td>\n",
       "      <td>...</td>\n",
       "    </tr>\n",
       "    <tr>\n",
       "      <th>295</th>\n",
       "      <td>153</td>\n",
       "      <td>temp</td>\n",
       "      <td>Guana Tolomato Matanzas National Estuarine Res...</td>\n",
       "      <td>2002</td>\n",
       "      <td>Winter</td>\n",
       "      <td>11-Feb</td>\n",
       "      <td>2/11/2002</td>\n",
       "      <td>2/22/2002</td>\n",
       "      <td>LDI</td>\n",
       "    </tr>\n",
       "    <tr>\n",
       "      <th>296</th>\n",
       "      <td>152</td>\n",
       "      <td>temp</td>\n",
       "      <td>Guana Tolomato Matanzas National Estuarine Res...</td>\n",
       "      <td>2001</td>\n",
       "      <td>Fall</td>\n",
       "      <td>21-Aug</td>\n",
       "      <td>8/21/2001</td>\n",
       "      <td>2/10/2002</td>\n",
       "      <td>LDI</td>\n",
       "    </tr>\n",
       "    <tr>\n",
       "      <th>297</th>\n",
       "      <td>151</td>\n",
       "      <td>temp</td>\n",
       "      <td>Guana Tolomato Matanzas National Estuarine Res...</td>\n",
       "      <td>2001</td>\n",
       "      <td>Summer</td>\n",
       "      <td>24-Jun</td>\n",
       "      <td>6/24/2001</td>\n",
       "      <td>8/20/2001</td>\n",
       "      <td>LDI</td>\n",
       "    </tr>\n",
       "    <tr>\n",
       "      <th>298</th>\n",
       "      <td>150</td>\n",
       "      <td>temp</td>\n",
       "      <td>Guana Tolomato Matanzas National Estuarine Res...</td>\n",
       "      <td>2001</td>\n",
       "      <td>Spring</td>\n",
       "      <td>23-Feb</td>\n",
       "      <td>2/23/2001</td>\n",
       "      <td>6/23/2001</td>\n",
       "      <td>LDI</td>\n",
       "    </tr>\n",
       "    <tr>\n",
       "      <th>299</th>\n",
       "      <td>149</td>\n",
       "      <td>temp</td>\n",
       "      <td>Guana Tolomato Matanzas National Estuarine Res...</td>\n",
       "      <td>2001</td>\n",
       "      <td>Winter</td>\n",
       "      <td>11-Feb</td>\n",
       "      <td>2/11/2001</td>\n",
       "      <td>2/22/2001</td>\n",
       "      <td>LDI</td>\n",
       "    </tr>\n",
       "  </tbody>\n",
       "</table>\n",
       "<p>295 rows × 9 columns</p>\n",
       "</div>"
      ],
      "text/plain": [
       "     Unnamed: 0 param                                                 ma  \\\n",
       "0           145  temp                        Estero Bay Aquatic Preserve   \n",
       "3           147  temp                        Estero Bay Aquatic Preserve   \n",
       "4            71  temp                      Biscayne Bay Aquatic Preserve   \n",
       "5            70  temp                      Biscayne Bay Aquatic Preserve   \n",
       "6           146  temp                        Estero Bay Aquatic Preserve   \n",
       "..          ...   ...                                                ...   \n",
       "295         153  temp  Guana Tolomato Matanzas National Estuarine Res...   \n",
       "296         152  temp  Guana Tolomato Matanzas National Estuarine Res...   \n",
       "297         151  temp  Guana Tolomato Matanzas National Estuarine Res...   \n",
       "298         150  temp  Guana Tolomato Matanzas National Estuarine Res...   \n",
       "299         149  temp  Guana Tolomato Matanzas National Estuarine Res...   \n",
       "\n",
       "     st_Year  season med_seamo_ma     s_start      s_end  \\\n",
       "0       2022  Winter       25-Dec  12/25/2022  2/26/2022   \n",
       "3       2022  Summer        7-Jun    6/7/2022  8/26/2022   \n",
       "4       2022  Summer        1-Jun    6/1/2022  8/26/2022   \n",
       "5       2022  Spring        2-Mar    3/2/2022  5/31/2022   \n",
       "6       2022  Spring       27-Feb   2/27/2022   6/6/2022   \n",
       "..       ...     ...          ...         ...        ...   \n",
       "295     2002  Winter       11-Feb   2/11/2002  2/22/2002   \n",
       "296     2001    Fall       21-Aug   8/21/2001  2/10/2002   \n",
       "297     2001  Summer       24-Jun   6/24/2001  8/20/2001   \n",
       "298     2001  Spring       23-Feb   2/23/2001  6/23/2001   \n",
       "299     2001  Winter       11-Feb   2/11/2001  2/22/2001   \n",
       "\n",
       "                covariates  \n",
       "0    bathymetry+LDI+popden  \n",
       "3    bathymetry+LDI+popden  \n",
       "4    bathymetry+LDI+popden  \n",
       "5    bathymetry+LDI+popden  \n",
       "6    bathymetry+LDI+popden  \n",
       "..                     ...  \n",
       "295                    LDI  \n",
       "296                    LDI  \n",
       "297                    LDI  \n",
       "298                    LDI  \n",
       "299                    LDI  \n",
       "\n",
       "[295 rows x 9 columns]"
      ]
     },
     "execution_count": 92,
     "metadata": {},
     "output_type": "execute_result"
    }
   ],
   "source": [
    "dfSeason = pd.read_csv(path + \"OEATUSF_Geospatial_TempSeasons_update.csv\")\n",
    "dfSeason.dropna(subset=[\"s_start\",\"s_end\"])"
   ]
  },
  {
   "cell_type": "code",
   "execution_count": 93,
   "id": "cf39b06f",
   "metadata": {},
   "outputs": [
    {
     "data": {
      "text/plain": [
       "array(['Estero Bay Aquatic Preserve', 'Biscayne Bay Aquatic Preserve',\n",
       "       'Gasparilla Sound-Charlotte Harbor Aquatic Preserve',\n",
       "       'Guana Tolomato Matanzas National Estuarine Research Reserve',\n",
       "       'Big Bend Seagrasses Aquatic Preserve'], dtype=object)"
      ]
     },
     "metadata": {},
     "output_type": "display_data"
    }
   ],
   "source": [
    "# Print all managed areas\n",
    "display(dfSeason['ma'].unique())\n",
    "\n",
    "# Select the first 3 managed areas\n",
    "data = data.assign(**{'Total Nitrogen': np.nan, 'Dissolved Oxygen': np.nan, 'Salinity': np.nan, 'Secchi Depth': np.nan, 'Turbidity': np.nan})"
   ]
  },
  {
   "cell_type": "markdown",
   "id": "082245eb",
   "metadata": {},
   "source": [
    "Run through the seasonality table"
   ]
  },
  {
   "cell_type": "code",
   "execution_count": null,
   "id": "657776ae",
   "metadata": {
    "scrolled": false
   },
   "outputs": [
    {
     "name": "stderr",
     "output_type": "stream",
     "text": [
      "C:\\Users\\qiangy\\AppData\\Local\\Temp\\ipykernel_43540\\3664422562.py:18: UserWarning: Column names longer than 10 characters will be truncated when saved to ESRI Shapefile.\n",
      "  gdf.to_file(input_pt,driver='ESRI Shapefile',crs=\"EPSG:\"+SpatialRef)\n"
     ]
    },
    {
     "name": "stdout",
     "output_type": "stream",
     "text": [
      "Start the interpolation with the RK method\n",
      "Salinity in 2022 Winter caused an error:\n",
      "Failed to execute. Parameters are not valid.\n",
      "ERROR 000366: Invalid geometry type\n",
      "Failed to execute (EBKRegressionPrediction).\n",
      "\n"
     ]
    },
    {
     "data": {
      "text/plain": [
       "\"Interpolated row:0, ['Estero Bay', 2022, 'Winter', 'S']\""
      ]
     },
     "metadata": {},
     "output_type": "display_data"
    },
    {
     "name": "stdout",
     "output_type": "stream",
     "text": [
      "Start the interpolation with the RK method\n",
      "Total Nitrogen in 2022 Winter caused an error:\n",
      "Failed to execute. Parameters are not valid.\n",
      "ERROR 000366: Invalid geometry type\n",
      "Failed to execute (EBKRegressionPrediction).\n",
      "\n"
     ]
    },
    {
     "data": {
      "text/plain": [
       "\"Interpolated row:0, ['Estero Bay', 2022, 'Winter', 'TN']\""
      ]
     },
     "metadata": {},
     "output_type": "display_data"
    },
    {
     "name": "stdout",
     "output_type": "stream",
     "text": [
      "Start the interpolation with the RK method\n",
      "Dissolved Oxygen in 2022 Winter caused an error:\n",
      "Failed to execute. Parameters are not valid.\n",
      "ERROR 000366: Invalid geometry type\n",
      "Failed to execute (EBKRegressionPrediction).\n",
      "\n"
     ]
    }
   ],
   "source": [
    "for i in data.index:\n",
    "    for para in listPara[0:3]:\n",
    "        name = [dictArea[data.iloc[i][\"ma\"]],data.iloc[i][\"st_Year\"],data.iloc[i][\"season\"],dictPara[para]]\n",
    "        out_raster,out_ga_layer,ga_to_raster = interpolation_auto(method = \"rk\",\n",
    "                           dataframe = dfAll,\n",
    "                           managed_area = data.iloc[i][\"ma\"],\n",
    "                           Year = data.iloc[i][\"st_Year\"],\n",
    "                           Season = data.iloc[i][\"season\"],\n",
    "                           start_date = data.iloc[i][\"s_start\"],\n",
    "                           end_date = data.iloc[i][\"s_end\"],\n",
    "                           parameter = para,\n",
    "                           covariates = data.iloc[i][\"covariates\"].split(\"+\"),\n",
    "                           out_raster = name,\n",
    "                           out_ga_layer = name,\n",
    "                           predict_std_err = name)\n",
    "        #data.iloc[i]['raster'],data.iloc[i]['GA_layer'],data.iloc[i]['StErrPred'] = out_raster,out_ga_layer,ga_to_raster\n",
    "        data.loc[i, para] = out_raster\n",
    "        data.to_csv(path + 'output.csv')\n",
    "        display('Interpolated row:{}, {}'.format(i,name))"
   ]
  }
 ],
 "metadata": {
  "kernelspec": {
   "display_name": "Python 3 (ipykernel)",
   "language": "python",
   "name": "python3"
  },
  "language_info": {
   "codemirror_mode": {
    "name": "ipython",
    "version": 3
   },
   "file_extension": ".py",
   "mimetype": "text/x-python",
   "name": "python",
   "nbconvert_exporter": "python",
   "pygments_lexer": "ipython3",
   "version": "3.9.11"
  }
 },
 "nbformat": 4,
 "nbformat_minor": 5
}
