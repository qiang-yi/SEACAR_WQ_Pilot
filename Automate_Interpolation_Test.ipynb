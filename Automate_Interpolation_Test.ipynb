{
 "cells": [
  {
   "cell_type": "code",
   "execution_count": 4,
   "id": "bc205f7d",
   "metadata": {},
   "outputs": [],
   "source": [
    "import time, math, os, importlib,sys\n",
    "import sklearn.metrics  \n",
    "import arcgisscripting\n",
    "import geopandas as gpd\n",
    "import matplotlib.pyplot as plt\n",
    "import numpy as np\n",
    "import pandas as pd\n",
    "import rasterio as rio\n",
    "import rasterio.mask\n",
    "import rasterio.plot as rio_pl\n",
    "import matplotlib.image as mpimg\n",
    "from datetime import datetime\n",
    "\n",
    "from rasterio.plot import show\n",
    "from rasterio.transform import Affine\n",
    "from rasterio.mask import mask\n",
    "from rasterio import MemoryFile\n",
    "from rasterio.profiles import DefaultGTiffProfile\n",
    "from scipy.spatial import Voronoi, voronoi_plot_2d\n",
    "from scipy.stats import sem\n",
    "from sklearn.metrics import mean_squared_error\n",
    "from shapely.geometry import box, Polygon, Point\n",
    "from shapely import wkt\n",
    "from sklearn.gaussian_process import GaussianProcessRegressor\n",
    "from sklearn.metrics import r2_score\n",
    "from sklearn.model_selection import train_test_split\n",
    "from sklearn.neighbors import KNeighborsRegressor\n",
    "import contextily as cx\n",
    "\n",
    "import arcpy\n",
    "from arcpy.sa import *\n",
    "import misc.preprocess\n",
    "import misc.interpolation\n",
    "arcpy.env.overwriteOutput = True"
   ]
  },
  {
   "cell_type": "markdown",
   "id": "feebf23b",
   "metadata": {},
   "source": [
    "# 1. Load and Preprocess Data <a class=\"anchor\" id=\"load_data\"></a>"
   ]
  },
  {
   "cell_type": "code",
   "execution_count": 5,
   "id": "3fa352c7",
   "metadata": {},
   "outputs": [],
   "source": [
    "path = \"E:/Projects/SEACAR_WQ_Pilot/\"\n",
    "gis_path = path+'GIS_data/'\n",
    "\n",
    "# path = \"D:/Water_Quailty/\"\n",
    "# gis_path = path+'GIS_data/'"
   ]
  },
  {
   "cell_type": "code",
   "execution_count": 6,
   "id": "e728625b",
   "metadata": {},
   "outputs": [
    {
     "name": "stderr",
     "output_type": "stream",
     "text": [
      "C:\\Users\\qiangy\\AppData\\Local\\ESRI\\conda\\envs\\geo3\\lib\\site-packages\\IPython\\core\\interactiveshell.py:3442: DtypeWarning: Columns (6,12) have mixed types.Specify dtype option on import or set low_memory=False.\n",
      "  exec(code_obj, self.user_global_ns, self.user_ns)\n"
     ]
    }
   ],
   "source": [
    "# Reload modules in external .py files after editing.\n",
    "dfAll = pd.read_csv(path + \"all_0214.csv\").drop(columns=['Unnamed: 0','Unnamed: 0.1','RowID','ValueQualifier'])\n",
    "# Convert SampleDate froms str to date\n",
    "dfAll['SampleDate'] = pd.to_datetime(dfAll['SampleDate']).dt.date"
   ]
  },
  {
   "cell_type": "code",
   "execution_count": 7,
   "id": "e4153bf1",
   "metadata": {},
   "outputs": [],
   "source": [
    "col_ls = ['RowID','ParameterName','ParameterUnits','ProgramLocationID','ActivityType','ManagedAreaName',\n",
    "                   'SampleDate','Year','Month','ResultValue','ValueQualifier','Latitude_DD','Longitude_DD']\n",
    "para_ls = [\"Salinity\",\"Total Nitrogen\",\"Dissolved Oxygen\",\"Turbidity\",\"Secchi Depth\"]\n",
    "para_ls_ab = [\"S\",\"TN\",\"DO\",\"T\",\"SD\"]\n",
    "# Convert full MA names to short names\n",
    "dictArea    = {'Gasparilla Sound-Charlotte Harbor Aquatic Preserve':'Charlotte Harbor','Big Bend Seagrasses Aquatic Preserve':'Big Bend',\n",
    "                'Guana Tolomato Matanzas National Estuarine Research Reserve':'GTM Reserve','Estero Bay Aquatic Preserve':'Estero Bay',\n",
    "                'Biscayne Bay Aquatic Preserve':'Biscayne Bay','Matlacha Pass Aquatic Preserve':'Matlacha Pass AP',\n",
    "                'Lemon Bay Aquatic Preserve':'Lemon Bay','Cape Haze Aquatic Preserve':'Cape Haze','Pine Island Sound Aquatic Preserve':'Pine Island'}\n",
    "\n",
    "# Convert full MA names to MA name in ORCP_Managed_Areas_Oct2021\n",
    "dictArea2    = {'Gasparilla Sound-Charlotte Harbor Aquatic Preserve':'Gasparilla Sound-Charlotte Harbor','Big Bend Seagrasses Aquatic Preserve':'Big Bend Seagrasses',\n",
    "                'Guana Tolomato Matanzas National Estuarine Research Reserve':'Guana Tolomato Matanzas NERR','Estero Bay Aquatic Preserve':'Estero Bay',\n",
    "                'Biscayne Bay Aquatic Preserve':'Biscayne Bay','Matlacha Pass Aquatic Preserve':'Matlacha Pass',\n",
    "                'Lemon Bay Aquatic Preserve':'Lemon Bay','Cape Haze Aquatic Preserve':'Cape Haze','Pine Island Sound Aquatic Preserve':'Pine Island Sound'}\n",
    "dictArea3    = {'Gasparilla Sound-Charlotte Harbor Aquatic Preserve':'ch','Big Bend Seagrasses Aquatic Preserve':'bb',\n",
    "                'Guana Tolomato Matanzas National Estuarine Research Reserve':'gtm','Estero Bay Aquatic Preserve':'eb',\n",
    "                'Biscayne Bay Aquatic Preserve':'bbay','Matlacha Pass Aquatic Preserve':'Matlacha Pass AP',\n",
    "                'Lemon Bay Aquatic Preserve':'Lemon Bay','Cape Haze Aquatic Preserve':'Cape Haze','Pine Island Sound Aquatic Preserve':'Pine Island'}\n",
    "\n",
    "dictPara = {\"Salinity\":'S','Total Nitrogen':'TN','Dissolved Oxygen':'DO','Turbidity':'T','Secchi Depth':'SD'}\n",
    "dictUnits   = {\"Salinity\":\"ppt\",\"Total Nitrogen\": \"mg/L\",\"Dissolved Oxygen\": \"mg/L\",\"Turbidity\": \"NTU\", \"Secchi Depth\": \"m\"}\n",
    "listArea    = dfAll[\"ManagedAreaName\"].unique()\n",
    "listPara    = [\"Salinity\",\"Total Nitrogen\",\"Dissolved Oxygen\",\"Turbidity\",\"Secchi Depth\"]\n",
    "SpatialRef = '3086'"
   ]
  },
  {
   "cell_type": "markdown",
   "id": "7c3ed194",
   "metadata": {},
   "source": [
    "# 2. Combine Discrete and Continuous Data <a class=\"anchor\" id=\"combine\"></a>\n",
    "\n",
    "Combine dis and con dataframes"
   ]
  },
  {
   "cell_type": "code",
   "execution_count": 8,
   "id": "397b3c05",
   "metadata": {},
   "outputs": [],
   "source": [
    "def interpolation_auto(method,dataframe,managed_area,Year,Season,start_date,end_date,parameter,covariates,out_raster,out_ga_layer,predict_std_err):\n",
    "    method = method\n",
    "    dataframe = dataframe\n",
    "    Area   = managed_area\n",
    "    Year   = Year\n",
    "    Season = Season\n",
    "    start_date,end_date = start_date,end_date\n",
    "    Para   = parameter\n",
    "    covariates = covariates\n",
    "    fname = [dictArea[Area],Year,Season[0:3],dictPara[Para]]\n",
    "    \n",
    "    input_pt = gis_path+\"input_point/{}/{}{}_{}.shp\".format(*fname)\n",
    "    \n",
    "    df,gdf= misc.preprocess.select_aggr_area_season(dataframe,start_date,end_date, Area, Para)\n",
    "    \n",
    "    try:\n",
    "        gdf   = gdf.to_crs(int(SpatialRef))\n",
    "        boundary_shp = gis_path+ 'managed_area_boundary/{}.shp'.format(dictArea[Area][0:3])\n",
    "        gdf.to_file(input_pt,driver='ESRI Shapefile',crs=\"EPSG:\"+SpatialRef)\n",
    "        MA = gpd.read_file(gis_path + r\"managed_area_boundary/ORCP_Managed_Areas_Oct2021.shp\")\n",
    "        boundary = MA[MA['MA_Name']==dictArea2[Area]].to_crs(int(SpatialRef))\n",
    "        boundary.to_file(boundary_shp , driver='ESRI Shapefile',crs=\"EPSG:\"+SpatialRef)\n",
    "        extent = str(boundary.geometry.total_bounds).replace('[','').replace(']','')\n",
    "\n",
    "        if type(covariates) == str:\n",
    "            in_explanatory_rasters = gis_path + \"covariates/{}/{}.tif\".format(covariates, dictArea[Area])\n",
    "        elif type(covariates) == list:\n",
    "            in_explanatory_rasters = []\n",
    "            for i in range(len(covariates)):\n",
    "                in_explanatory_raster = str(gis_path + \"covariates/{}/{}.tif\".format(covariates[i], dictArea[Area]))\n",
    "                in_explanatory_rasters.append(in_explanatory_raster)\n",
    "\n",
    "        in_features = input_pt\n",
    "        out_raster = gis_path +\"output_raster/{}/{}{}_{}.tif\".format(*out_raster)\n",
    "        value_field = \"ResultValu\"\n",
    "        out_ga_layer = gis_path +\"ga_layer/{}/{}{}_{}.lyrx\".format(*out_ga_layer)\n",
    "        ga_to_raster = gis_path + 'standard_error_prediction/{}/{}{}_{}.tif'.format(*predict_std_err)\n",
    "        in_explanatory_rasters = in_explanatory_rasters\n",
    "        mask = gis_path+ '{}.shp'.format(dictArea3[Area])\n",
    "\n",
    "\n",
    "        Result,Stat = misc.interpolation.interpolation(\n",
    "                        method = method, input_point = in_features, out_raster = out_raster, \n",
    "                        z_field = value_field, out_ga_layer = out_ga_layer, extent = extent, \n",
    "                        mask = mask, ga_to_raster = ga_to_raster, in_explanatory_rasters = in_explanatory_rasters)\n",
    "        \n",
    "        return out_raster,out_ga_layer,ga_to_raster\n",
    "\n",
    "    except Exception:\n",
    "            e = sys.exc_info()[1]\n",
    "            print(Para + \" in \" + str(Year) + \" \" + Season + \" caused an error:\")\n",
    "            print(e.args[0])\n",
    "            return np.nan,np.nan,np.nan            "
   ]
  },
  {
   "cell_type": "code",
   "execution_count": 9,
   "id": "bd76e591",
   "metadata": {
    "scrolled": true
   },
   "outputs": [
    {
     "data": {
      "text/html": [
       "<div>\n",
       "<style scoped>\n",
       "    .dataframe tbody tr th:only-of-type {\n",
       "        vertical-align: middle;\n",
       "    }\n",
       "\n",
       "    .dataframe tbody tr th {\n",
       "        vertical-align: top;\n",
       "    }\n",
       "\n",
       "    .dataframe thead th {\n",
       "        text-align: right;\n",
       "    }\n",
       "</style>\n",
       "<table border=\"1\" class=\"dataframe\">\n",
       "  <thead>\n",
       "    <tr style=\"text-align: right;\">\n",
       "      <th></th>\n",
       "      <th>Unnamed: 0</th>\n",
       "      <th>param</th>\n",
       "      <th>ma</th>\n",
       "      <th>st_Year</th>\n",
       "      <th>season</th>\n",
       "      <th>med_seamo_ma</th>\n",
       "      <th>s_start</th>\n",
       "      <th>s_end</th>\n",
       "      <th>covariates</th>\n",
       "      <th>start_date</th>\n",
       "      <th>end_date</th>\n",
       "      <th>date_range</th>\n",
       "    </tr>\n",
       "  </thead>\n",
       "  <tbody>\n",
       "    <tr>\n",
       "      <th>0</th>\n",
       "      <td>147</td>\n",
       "      <td>temp</td>\n",
       "      <td>Estero Bay Aquatic Preserve</td>\n",
       "      <td>2022</td>\n",
       "      <td>Summer</td>\n",
       "      <td>7-Jun</td>\n",
       "      <td>6/7/2022</td>\n",
       "      <td>8/26/2022</td>\n",
       "      <td>bathymetry+LDI+popden</td>\n",
       "      <td>2022-06-07</td>\n",
       "      <td>2022-08-26</td>\n",
       "      <td>80 days</td>\n",
       "    </tr>\n",
       "    <tr>\n",
       "      <th>1</th>\n",
       "      <td>71</td>\n",
       "      <td>temp</td>\n",
       "      <td>Biscayne Bay Aquatic Preserve</td>\n",
       "      <td>2022</td>\n",
       "      <td>Summer</td>\n",
       "      <td>1-Jun</td>\n",
       "      <td>6/1/2022</td>\n",
       "      <td>8/26/2022</td>\n",
       "      <td>bathymetry+LDI+popden</td>\n",
       "      <td>2022-06-01</td>\n",
       "      <td>2022-08-26</td>\n",
       "      <td>86 days</td>\n",
       "    </tr>\n",
       "    <tr>\n",
       "      <th>2</th>\n",
       "      <td>70</td>\n",
       "      <td>temp</td>\n",
       "      <td>Biscayne Bay Aquatic Preserve</td>\n",
       "      <td>2022</td>\n",
       "      <td>Spring</td>\n",
       "      <td>2-Mar</td>\n",
       "      <td>3/2/2022</td>\n",
       "      <td>5/31/2022</td>\n",
       "      <td>bathymetry+LDI+popden</td>\n",
       "      <td>2022-03-02</td>\n",
       "      <td>2022-05-31</td>\n",
       "      <td>90 days</td>\n",
       "    </tr>\n",
       "    <tr>\n",
       "      <th>3</th>\n",
       "      <td>146</td>\n",
       "      <td>temp</td>\n",
       "      <td>Estero Bay Aquatic Preserve</td>\n",
       "      <td>2022</td>\n",
       "      <td>Spring</td>\n",
       "      <td>27-Feb</td>\n",
       "      <td>2/27/2022</td>\n",
       "      <td>6/6/2022</td>\n",
       "      <td>bathymetry+LDI+popden</td>\n",
       "      <td>2022-02-27</td>\n",
       "      <td>2022-06-06</td>\n",
       "      <td>99 days</td>\n",
       "    </tr>\n",
       "    <tr>\n",
       "      <th>4</th>\n",
       "      <td>69</td>\n",
       "      <td>temp</td>\n",
       "      <td>Biscayne Bay Aquatic Preserve</td>\n",
       "      <td>2022</td>\n",
       "      <td>Winter</td>\n",
       "      <td>8-Feb</td>\n",
       "      <td>2/8/2022</td>\n",
       "      <td>3/1/2022</td>\n",
       "      <td>bathymetry+LDI+popden</td>\n",
       "      <td>2022-02-08</td>\n",
       "      <td>2022-03-01</td>\n",
       "      <td>21 days</td>\n",
       "    </tr>\n",
       "  </tbody>\n",
       "</table>\n",
       "</div>"
      ],
      "text/plain": [
       "   Unnamed: 0 param                             ma  st_Year  season  \\\n",
       "0         147  temp    Estero Bay Aquatic Preserve     2022  Summer   \n",
       "1          71  temp  Biscayne Bay Aquatic Preserve     2022  Summer   \n",
       "2          70  temp  Biscayne Bay Aquatic Preserve     2022  Spring   \n",
       "3         146  temp    Estero Bay Aquatic Preserve     2022  Spring   \n",
       "4          69  temp  Biscayne Bay Aquatic Preserve     2022  Winter   \n",
       "\n",
       "  med_seamo_ma    s_start      s_end             covariates start_date  \\\n",
       "0        7-Jun   6/7/2022  8/26/2022  bathymetry+LDI+popden 2022-06-07   \n",
       "1        1-Jun   6/1/2022  8/26/2022  bathymetry+LDI+popden 2022-06-01   \n",
       "2        2-Mar   3/2/2022  5/31/2022  bathymetry+LDI+popden 2022-03-02   \n",
       "3       27-Feb  2/27/2022   6/6/2022  bathymetry+LDI+popden 2022-02-27   \n",
       "4        8-Feb   2/8/2022   3/1/2022  bathymetry+LDI+popden 2022-02-08   \n",
       "\n",
       "    end_date date_range  \n",
       "0 2022-08-26    80 days  \n",
       "1 2022-08-26    86 days  \n",
       "2 2022-05-31    90 days  \n",
       "3 2022-06-06    99 days  \n",
       "4 2022-03-01    21 days  "
      ]
     },
     "execution_count": 9,
     "metadata": {},
     "output_type": "execute_result"
    }
   ],
   "source": [
    "dfSeason = pd.read_csv(path + \"OEATUSF_Geospatial_TempSeasons_update_0502.csv\")\n",
    "dfSeason = dfSeason.dropna(subset=[\"s_start\",\"s_end\"]).reset_index(drop=True)\n",
    "\n",
    "dfSeason['start_date'] = pd.to_datetime(dfSeason['s_start'])\n",
    "dfSeason[\"end_date\"] = pd.to_datetime(dfSeason[\"s_end\"])\n",
    "dfSeason[\"date_range\"] = dfSeason[\"end_date\"] - dfSeason[\"start_date\"]\n",
    "dfSeason[\"daterange\"] = dfSeason.apply(lambda x: int(str(x[\"date_range\"]).split(\" \")[0]),axis=1)\n",
    "dfSeason = dfSeason[dfSeason[\"daterange\"]>0].drop(columns=\"daterange\").reset_index(drop=True)\n",
    "dfSeason.head()"
   ]
  },
  {
   "cell_type": "code",
   "execution_count": 10,
   "id": "d83e76c9",
   "metadata": {},
   "outputs": [
    {
     "data": {
      "text/plain": [
       "array(['Estero Bay Aquatic Preserve', 'Biscayne Bay Aquatic Preserve',\n",
       "       'Guana Tolomato Matanzas National Estuarine Research Reserve',\n",
       "       'Gasparilla Sound-Charlotte Harbor Aquatic Preserve',\n",
       "       'Big Bend Seagrasses Aquatic Preserve'], dtype=object)"
      ]
     },
     "metadata": {},
     "output_type": "display_data"
    }
   ],
   "source": [
    "# Print all managed areas\n",
    "display(dfSeason['ma'].unique())\n",
    "\n",
    "# Select the first 3 managed areas\n",
    "data = dfSeason.assign(**{'Total Nitrogen': np.nan, 'Dissolved Oxygen': np.nan, 'Salinity': np.nan, 'Secchi Depth': np.nan, 'Turbidity': np.nan})"
   ]
  },
  {
   "cell_type": "markdown",
   "id": "034b4a45",
   "metadata": {},
   "source": [
    "Run through the seasonality table"
   ]
  },
  {
   "cell_type": "code",
   "execution_count": null,
   "id": "4af59676",
   "metadata": {
    "scrolled": false
   },
   "outputs": [],
   "source": [
    "# for i in data.index:\n",
    "#     for para in listPara[3:5]:\n",
    "#         name = [dictArea[data.iloc[i][\"ma\"]],data.iloc[i][\"st_Year\"],data.iloc[i][\"season\"],dictPara[para]]\n",
    "        print(name)\n",
    "#         out_raster,out_ga_layer,ga_to_raster = interpolation_auto(method = \"rk\",\n",
    "#                            dataframe = dfAll,\n",
    "#                            managed_area = data.iloc[i][\"ma\"],\n",
    "#                            Year = data.iloc[i][\"st_Year\"],\n",
    "#                            Season = data.iloc[i][\"season\"],\n",
    "#                            start_date = data.iloc[i][\"s_start\"],\n",
    "#                            end_date = data.iloc[i][\"s_end\"],\n",
    "#                            parameter = para,\n",
    "#                            covariates = data.iloc[i][\"covariates\"].split(\"+\"),\n",
    "#                            out_raster = name,\n",
    "#                            out_ga_layer = name,\n",
    "#                            predict_std_err = name)\n",
    "#         #data.iloc[i]['raster'],data.iloc[i]['GA_layer'],data.iloc[i]['StErrPred'] = out_raster,out_ga_layer,ga_to_raster\n",
    "#         data.loc[i, para] = out_raster\n",
    "#         data.to_csv(path + 'output.csv')\n",
    "#         display('Interpolated row:{}, {}'.format(i,name))"
   ]
  },
  {
   "cell_type": "code",
   "execution_count": null,
   "id": "b48ed9f1",
   "metadata": {
    "scrolled": false
   },
   "outputs": [
    {
     "name": "stderr",
     "output_type": "stream",
     "text": [
      "C:\\Users\\qiangy\\AppData\\Local\\Temp\\ipykernel_23248\\4102627312.py:19: UserWarning: Column names longer than 10 characters will be truncated when saved to ESRI Shapefile.\n",
      "  gdf.to_file(input_pt,driver='ESRI Shapefile',crs=\"EPSG:\"+SpatialRef)\n"
     ]
    },
    {
     "name": "stdout",
     "output_type": "stream",
     "text": [
      "Start the interpolation with the RK method\n",
      "Salinity in 2022 Summer caused an error:\n",
      "ERROR 040039: Not enough data to compute method.\n",
      "Failed to execute (EBKRegressionPrediction).\n",
      "\n"
     ]
    },
    {
     "data": {
      "text/plain": [
       "\"Interpolated row:0, ['Estero Bay', 2022, 'Summer', 'S']\""
      ]
     },
     "metadata": {},
     "output_type": "display_data"
    },
    {
     "name": "stdout",
     "output_type": "stream",
     "text": [
      "Start the interpolation with the RK method\n",
      "--- Time lapse: 56.51471185684204 seconds ---\n"
     ]
    },
    {
     "data": {
      "text/plain": [
       "\"Interpolated row:0, ['Estero Bay', 2022, 'Summer', 'TN']\""
      ]
     },
     "metadata": {},
     "output_type": "display_data"
    },
    {
     "name": "stdout",
     "output_type": "stream",
     "text": [
      "Start the interpolation with the RK method\n",
      "--- Time lapse: 54.523797273635864 seconds ---\n"
     ]
    },
    {
     "data": {
      "text/plain": [
       "\"Interpolated row:0, ['Estero Bay', 2022, 'Summer', 'DO']\""
      ]
     },
     "metadata": {},
     "output_type": "display_data"
    },
    {
     "name": "stdout",
     "output_type": "stream",
     "text": [
      "Start the interpolation with the RK method\n",
      "Salinity in 2022 Summer caused an error:\n",
      "ERROR 040039: Not enough data to compute method.\n",
      "Failed to execute (EBKRegressionPrediction).\n",
      "\n"
     ]
    },
    {
     "data": {
      "text/plain": [
       "\"Interpolated row:1, ['Biscayne Bay', 2022, 'Summer', 'S']\""
      ]
     },
     "metadata": {},
     "output_type": "display_data"
    },
    {
     "name": "stderr",
     "output_type": "stream",
     "text": [
      "C:\\Users\\qiangy\\AppData\\Local\\ESRI\\conda\\envs\\geo3\\lib\\site-packages\\geopandas\\io\\file.py:545: UserWarning: You are attempting to write an empty DataFrame to file. For some drivers, this operation may fail.\n",
      "  _to_file_fiona(df, filename, driver, schema, crs, mode, **kwargs)\n"
     ]
    },
    {
     "name": "stdout",
     "output_type": "stream",
     "text": [
      "Start the interpolation with the RK method\n",
      "Total Nitrogen in 2022 Summer caused an error:\n",
      "Failed to execute. Parameters are not valid.\n",
      "ERROR 000366: Invalid geometry type\n",
      "Failed to execute (EBKRegressionPrediction).\n",
      "\n"
     ]
    },
    {
     "data": {
      "text/plain": [
       "\"Interpolated row:1, ['Biscayne Bay', 2022, 'Summer', 'TN']\""
      ]
     },
     "metadata": {},
     "output_type": "display_data"
    },
    {
     "name": "stdout",
     "output_type": "stream",
     "text": [
      "Start the interpolation with the RK method\n",
      "Dissolved Oxygen in 2022 Summer caused an error:\n",
      "ERROR 040039: Not enough data to compute method.\n",
      "Failed to execute (EBKRegressionPrediction).\n",
      "\n"
     ]
    },
    {
     "data": {
      "text/plain": [
       "\"Interpolated row:1, ['Biscayne Bay', 2022, 'Summer', 'DO']\""
      ]
     },
     "metadata": {},
     "output_type": "display_data"
    },
    {
     "name": "stdout",
     "output_type": "stream",
     "text": [
      "Start the interpolation with the RK method\n",
      "--- Time lapse: 245.9255063533783 seconds ---\n"
     ]
    },
    {
     "data": {
      "text/plain": [
       "\"Interpolated row:2, ['Biscayne Bay', 2022, 'Spring', 'S']\""
      ]
     },
     "metadata": {},
     "output_type": "display_data"
    },
    {
     "name": "stdout",
     "output_type": "stream",
     "text": [
      "Start the interpolation with the RK method\n"
     ]
    }
   ],
   "source": [
    "for i in data.index:\n",
    "    for para in listPara[0:3]:\n",
    "        name = [dictArea[data.iloc[i][\"ma\"]],data.iloc[i][\"st_Year\"],data.iloc[i][\"season\"],dictPara[para]]\n",
    "        out_raster,out_ga_layer,ga_to_raster = interpolation_auto(method = \"rk\",\n",
    "                           dataframe = dfAll,\n",
    "                           managed_area = data.iloc[i][\"ma\"],\n",
    "                           Year = data.iloc[i][\"st_Year\"],\n",
    "                           Season = data.iloc[i][\"season\"],\n",
    "                           start_date = data.iloc[i][\"s_start\"],\n",
    "                           end_date = data.iloc[i][\"s_end\"],\n",
    "                           parameter = para,\n",
    "                           covariates = data.iloc[i][\"covariates\"].split(\"+\"),\n",
    "                           out_raster = name,\n",
    "                           out_ga_layer = name,\n",
    "                           predict_std_err = name)\n",
    "        #data.iloc[i]['raster'],data.iloc[i]['GA_layer'],data.iloc[i]['StErrPred'] = out_raster,out_ga_layer,ga_to_raster\n",
    "        data.loc[i, para] = out_raster\n",
    "        data.to_csv(path + 'output.csv')\n",
    "        display('Interpolated Row {}, {}'.format(i,name))"
   ]
  }
 ],
 "metadata": {
  "kernelspec": {
   "display_name": "Python 3 (ipykernel)",
   "language": "python",
   "name": "python3"
  },
  "language_info": {
   "codemirror_mode": {
    "name": "ipython",
    "version": 3
   },
   "file_extension": ".py",
   "mimetype": "text/x-python",
   "name": "python",
   "nbconvert_exporter": "python",
   "pygments_lexer": "ipython3",
   "version": "3.9.11"
  }
 },
 "nbformat": 4,
 "nbformat_minor": 5
}
