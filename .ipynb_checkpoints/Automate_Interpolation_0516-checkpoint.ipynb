{
 "cells": [
  {
   "cell_type": "code",
   "execution_count": 1,
   "id": "562a3cc2",
   "metadata": {},
   "outputs": [],
   "source": [
    "import pandas as pd\n",
    "import geopandas as gpd\n",
    "import numpy as np\n",
    "import misc.autointerpolation"
   ]
  },
  {
   "cell_type": "markdown",
   "id": "3e7cff01",
   "metadata": {},
   "source": [
    "# 1. Load and Preprocess Data"
   ]
  },
  {
   "cell_type": "code",
   "execution_count": 2,
   "id": "5503a261",
   "metadata": {},
   "outputs": [],
   "source": [
    "# path = \"E:/Projects/SEACAR_WQ_Pilot/\"\n",
    "# gis_path = path+'GIS_data/'\n",
    "\n",
    "path = \"D:/Water_Quailty/\"\n",
    "gis_path = path+'GIS_data/'"
   ]
  },
  {
   "cell_type": "code",
   "execution_count": 3,
   "id": "d37b5651",
   "metadata": {},
   "outputs": [
    {
     "name": "stderr",
     "output_type": "stream",
     "text": [
      "C:\\Users\\xiang11\\AppData\\Local\\ESRI\\conda\\envs\\arcgispro-py3-clone\\lib\\site-packages\\IPython\\core\\interactiveshell.py:3552: DtypeWarning: Columns (6,12) have mixed types.Specify dtype option on import or set low_memory=False.\n",
      "  exec(code_obj, self.user_global_ns, self.user_ns)\n"
     ]
    }
   ],
   "source": [
    "# Reload modules in external .py files after editing.\n",
    "dfAll = pd.read_csv(path + \"all_0214.csv\").drop(columns=['Unnamed: 0','Unnamed: 0.1','RowID','ValueQualifier'])\n",
    "# Convert SampleDate froms str to date\n",
    "dfAll['SampleDate'] = pd.to_datetime(dfAll['SampleDate']).dt.date"
   ]
  },
  {
   "cell_type": "code",
   "execution_count": 4,
   "id": "29f51f89",
   "metadata": {},
   "outputs": [],
   "source": [
    "dfSeason = pd.read_csv(path + \"OEATUSF_Geospatial_TempSeasons_update_0502.csv\")\n",
    "dfSeason = dfSeason.dropna(subset=[\"s_start\",\"s_end\"]).reset_index(drop=True)\n",
    "\n",
    "dfSeason['start_date'] = pd.to_datetime(dfSeason['s_start'])\n",
    "dfSeason[\"end_date\"] = pd.to_datetime(dfSeason[\"s_end\"])\n",
    "dfSeason[\"date_range\"] = dfSeason[\"end_date\"] - dfSeason[\"start_date\"]\n",
    "dfSeason[\"daterange\"] = dfSeason.apply(lambda x: int(str(x[\"date_range\"]).split(\" \")[0]),axis=1)\n",
    "dfSeason = dfSeason[dfSeason[\"daterange\"]>0].drop(columns=\"daterange\").reset_index(drop=True)\n",
    "data = dfSeason.assign(**{'Total Nitrogen': np.nan, 'Dissolved Oxygen': np.nan, 'Salinity': np.nan, 'Secchi Depth': np.nan, 'Turbidity': np.nan})"
   ]
  },
  {
   "cell_type": "code",
   "execution_count": 5,
   "id": "50cafc31",
   "metadata": {},
   "outputs": [],
   "source": [
    "# Convert full MA names to short names\n",
    "dictArea     = {'Gasparilla Sound-Charlotte Harbor Aquatic Preserve':'Charlotte Harbor','Big Bend Seagrasses Aquatic Preserve':'Big Bend',\n",
    "                'Guana Tolomato Matanzas National Estuarine Research Reserve':'GTM Reserve','Estero Bay Aquatic Preserve':'Estero Bay',\n",
    "                'Biscayne Bay Aquatic Preserve':'Biscayne Bay','Matlacha Pass Aquatic Preserve':'Matlacha Pass AP',\n",
    "                'Lemon Bay Aquatic Preserve':'Lemon Bay','Cape Haze Aquatic Preserve':'Cape Haze','Pine Island Sound Aquatic Preserve':'Pine Island'}\n",
    "# Convert full MA names to MA name in ORCP_Managed_Areas_Oct2021\n",
    "dictArea2    = {'Gasparilla Sound-Charlotte Harbor Aquatic Preserve':'Gasparilla Sound-Charlotte Harbor','Big Bend Seagrasses Aquatic Preserve':'Big Bend Seagrasses',\n",
    "                'Guana Tolomato Matanzas National Estuarine Research Reserve':'Guana Tolomato Matanzas NERR','Estero Bay Aquatic Preserve':'Estero Bay',\n",
    "                'Biscayne Bay Aquatic Preserve':'Biscayne Bay','Matlacha Pass Aquatic Preserve':'Matlacha Pass',\n",
    "                'Lemon Bay Aquatic Preserve':'Lemon Bay','Cape Haze Aquatic Preserve':'Cape Haze','Pine Island Sound Aquatic Preserve':'Pine Island Sound'}\n",
    "dictArea3    = {'Gasparilla Sound-Charlotte Harbor Aquatic Preserve':'ch','Big Bend Seagrasses Aquatic Preserve':'bb',\n",
    "                'Guana Tolomato Matanzas National Estuarine Research Reserve':'gtm','Estero Bay Aquatic Preserve':'eb',\n",
    "                'Biscayne Bay Aquatic Preserve':'bbay','Matlacha Pass Aquatic Preserve':'Matlacha Pass AP',\n",
    "                'Lemon Bay Aquatic Preserve':'Lemon Bay','Cape Haze Aquatic Preserve':'Cape Haze','Pine Island Sound Aquatic Preserve':'Pine Island'}\n",
    "dictPara     = {\"Salinity\":'S','Total Nitrogen':'TN','Dissolved Oxygen':'DO','Turbidity':'T','Secchi Depth':'SD'}\n",
    "dictUnits    = {\"Salinity\":\"ppt\",\"Total Nitrogen\": \"mg/L\",\"Dissolved Oxygen\": \"mg/L\",\"Turbidity\": \"NTU\", \"Secchi Depth\": \"m\"}\n",
    "listArea     = ['Guana Tolomato Matanzas National Estuarine Research Reserve','Biscayne Bay Aquatic Preserve','Big Bend Seagrasses Aquatic Preserve','Cape Haze Aquatic Preserve',\n",
    "               'Gasparilla Sound-Charlotte Harbor Aquatic Preserve', 'Pine Island Sound Aquatic Preserve', 'Matlacha Pass Aquatic Preserve', 'Lemon Bay Aquatic Preserve',\n",
    "               'Estero Bay Aquatic Preserve']\n",
    "listPara     = [\"Salinity\",\"Total Nitrogen\",\"Dissolved Oxygen\",\"Turbidity\",\"Secchi Depth\"]\n",
    "SpatialRef   = '3086'"
   ]
  },
  {
   "cell_type": "markdown",
   "id": "f748d381",
   "metadata": {},
   "source": [
    "# 2. Run the Function to Generate Raster Files"
   ]
  },
  {
   "cell_type": "code",
   "execution_count": 7,
   "id": "ab5c183b",
   "metadata": {},
   "outputs": [
    {
     "name": "stdout",
     "output_type": "stream",
     "text": [
      "['GTM Reserve', 'gtm', 2018, 'Summer', 'S']\n",
      "Start the interpolation with the RK method\n",
      "--- Time lapse: 82.1975347995758 seconds ---\n",
      "['GTM Reserve', 'gtm', 2018, 'Summer', 'TN']\n",
      "Start the interpolation with the RK method\n",
      "--- Time lapse: 80.04730582237244 seconds ---\n",
      "['GTM Reserve', 'gtm', 2018, 'Summer', 'DO']\n",
      "Start the interpolation with the RK method\n",
      "--- Time lapse: 90.90573143959045 seconds ---\n",
      "['GTM Reserve', 'gtm', 2018, 'Summer', 'T']\n",
      "Start the interpolation with the RK method\n",
      "Turbidity in 2018 Summer caused an error:\n",
      "ERROR 040039: Not enough data to compute method.\n",
      "Failed to execute (EBKRegressionPrediction).\n",
      "\n",
      "['GTM Reserve', 'gtm', 2018, 'Summer', 'SD']\n",
      "Start the interpolation with the RK method\n",
      "Secchi Depth in 2018 Summer caused an error:\n",
      "ERROR 040039: Not enough data to compute method.\n",
      "Failed to execute (EBKRegressionPrediction).\n",
      "\n"
     ]
    }
   ],
   "source": [
    "for i in data.index:\n",
    "    for para in listPara:\n",
    "        name = [dictArea[data.iloc[i][\"ma\"]],dictArea3[data.iloc[i][\"ma\"]],data.iloc[i][\"st_Year\"],data.iloc[i][\"season\"],dictPara[para]]\n",
    "        out_raster,out_ga_layer,ga_to_raster = misc.autointerpolation.interpolation_auto(method = \"rk\",\n",
    "                           gis_path  = gis_path,                                                              \n",
    "                           dataframe = dfAll,\n",
    "                           managed_area = data.iloc[i][\"ma\"],\n",
    "                           Year = data.iloc[i][\"st_Year\"],\n",
    "                           Season = data.iloc[i][\"season\"],\n",
    "                           start_date = data.iloc[i][\"s_start\"],\n",
    "                           end_date = data.iloc[i][\"s_end\"],\n",
    "                           parameter = para,\n",
    "                           covariates = data.iloc[i][\"covariates\"].split(\"+\"),\n",
    "                           out_raster = name,\n",
    "                           out_ga_layer = name,\n",
    "                           predict_std_err = name)"
   ]
  }
 ],
 "metadata": {
  "kernelspec": {
   "display_name": "Python 3 (ipykernel)",
   "language": "python",
   "name": "python3"
  },
  "language_info": {
   "codemirror_mode": {
    "name": "ipython",
    "version": 3
   },
   "file_extension": ".py",
   "mimetype": "text/x-python",
   "name": "python",
   "nbconvert_exporter": "python",
   "pygments_lexer": "ipython3",
   "version": "3.7.16"
  }
 },
 "nbformat": 4,
 "nbformat_minor": 5
}
