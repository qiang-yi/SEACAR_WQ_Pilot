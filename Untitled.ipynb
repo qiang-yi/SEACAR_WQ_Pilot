{
 "cells": [
  {
   "cell_type": "code",
   "execution_count": 1,
   "id": "32f07ef3",
   "metadata": {},
   "outputs": [],
   "source": [
    "import numpy"
   ]
  },
  {
   "cell_type": "code",
   "execution_count": 31,
   "id": "25f90308",
   "metadata": {},
   "outputs": [],
   "source": [
    "a=[\"1\",\"3\",\"4\"]"
   ]
  },
  {
   "cell_type": "code",
   "execution_count": 36,
   "id": "afd7fd4c",
   "metadata": {},
   "outputs": [
    {
     "name": "stdout",
     "output_type": "stream",
     "text": [
      "6\n"
     ]
    }
   ],
   "source": [
    "if (\"2\" in a):\n",
    "    print(a)\n",
    "elif(\"4\" in a):\n",
    "    print(6)"
   ]
  },
  {
   "cell_type": "code",
   "execution_count": 26,
   "id": "628c0597",
   "metadata": {},
   "outputs": [],
   "source": [
    "b = [\"BK\",\"K\"]"
   ]
  },
  {
   "cell_type": "code",
   "execution_count": 27,
   "id": "7c8eb91e",
   "metadata": {},
   "outputs": [],
   "source": [
    "c = [\"BK\",\"RK\"]"
   ]
  },
  {
   "cell_type": "code",
   "execution_count": 30,
   "id": "4b1cff47",
   "metadata": {},
   "outputs": [
    {
     "data": {
      "text/plain": [
       "2"
      ]
     },
     "execution_count": 30,
     "metadata": {},
     "output_type": "execute_result"
    }
   ],
   "source": [
    "len(c)"
   ]
  },
  {
   "cell_type": "code",
   "execution_count": 28,
   "id": "aa07c3eb",
   "metadata": {},
   "outputs": [],
   "source": [
    "if c == a or c == b:\n",
    "    print(\"999\")"
   ]
  },
  {
   "cell_type": "code",
   "execution_count": null,
   "id": "0c0f893f",
   "metadata": {},
   "outputs": [],
   "source": []
  }
 ],
 "metadata": {
  "kernelspec": {
   "display_name": "Python 3 (ipykernel)",
   "language": "python",
   "name": "python3"
  },
  "language_info": {
   "codemirror_mode": {
    "name": "ipython",
    "version": 3
   },
   "file_extension": ".py",
   "mimetype": "text/x-python",
   "name": "python",
   "nbconvert_exporter": "python",
   "pygments_lexer": "ipython3",
   "version": "3.7.16"
  }
 },
 "nbformat": 4,
 "nbformat_minor": 5
}
