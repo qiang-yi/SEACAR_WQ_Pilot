{
 "cells": [
  {
   "cell_type": "markdown",
   "id": "d461104c",
   "metadata": {},
   "source": [
    "# Spatial Interpolation at Big Bend\n",
    "\n",
    "This document includes Python codes that conduct spatial interpolation for water quality data.\n",
    "\n",
    "If you are running the code in ArcGIS Notebook, you'll need to install the following packages:\n",
    "\n",
    "`conda install -c anaconda pandas scikit-learn\n",
    "conda install -c conda-forge geopandas rasterio contextily\n",
    "`\n",
    "\n",
    "**Note: installation of geopandas may take a few hours**\n",
    "\n",
    "All date are shared in the [box folder](https://usf.box.com/s/xu3dw4i1emv2hzveyf9idnx9q78t939c).\n",
    "\n",
    "# Table of Contents:\n",
    "\n",
    "* [1.Load Data](#load_data)\n",
    "* [2. Preprocess](#preprocess)\n",
    "* [3. Combine Data](#read_data)\n",
    "* [4. Spatial Interpolation of Dissolved Oxygen](#do_interpolate)\n",
    "    * [4.1 Kriging:Dissolved Oxygen](#do_kriging)\n",
    "    * [4.2 IDW:Dissolved Oxygen](#do_idw)\n",
    "    * [4.3 Empirical Bayesian Kriging:Dissolved Oxygen](#do_ebk)\n",
    "    * [4.4 Regression Kriging:Dissolved Oxygen](#do_rk)\n",
    "* [5. Interpolation Validation of Dissolved Oxygen](#do_validation)\n",
    "    * [5.1 Validation of Kriging:Dissolved Oxygen](#do_val_kriging)\n",
    "    * [5.2 Validation of IDW:Dissolved Oxygen](#do_val_idw)\n",
    "    * [5.3 Validation of Empirical Bayesian Kriging:Dissolved Oxygen](#do_val_ebk)\n",
    "    * [5.4 Validation of Regression Kriging:Dissolved Oxygen](#do_val_rk)\n",
    "    * [5.5 Validation Summary:Dissolved Oxygen](#do_val_sum) \n",
    "* [6. Spatial Interpolation of Salinity](#s_interpolate)\n",
    "    * [6.1 Kriging:Dissolved Oxygen](#s_kriging)\n",
    "    * [6.2 IDW:Dissolved Oxygen](#s_idw)\n",
    "    * [6.3 Empirical Bayesian Kriging:Dissolved Oxygen](#s_ebk)\n",
    "    * [6.4 Regression Kriging:Dissolved Oxygen](#s_rk)\n",
    "* [7. Interpolation Validation of Salinity](#s_validation)\n",
    "    * [7.1 Vlidation of Ordinary Kriging:Dissolved Oxygen](#s_val_kriging)\n",
    "    * [7.2 Validation of IDW:Dissolved Oxygen](#s_val_idw)\n",
    "    * [7.3 Validation of Empirical Bayesian Kriging:Dissolved Oxygen](#s_val_ebk)\n",
    "    * [7.4 Validation of Regression Kriging:Dissolved Oxygen](#s_val_rk)\n",
    "    * [7.5 Summary of Validation:Dissolved Oxygen](#s_val_sum)\n",
    "* [8. Spatial Interpolation of Total Nitrogen](#tn_interpolate)\n",
    "    * [8.1 Kriging:Total Nitrogen](#tn_kriging)\n",
    "    * [8.2 IDW:Total Nitrogen](#tn_idw)\n",
    "    * [8.3 Empirical Bayesian Kriging:Total Nitrogen](#tn_ebk)\n",
    "    * [8.4 Regression Kriging:Total Nitrogen](#tn_rk)\n",
    "* [9. Interpolation Validation of Total Nitrogen](#tn_validation)\n",
    "    * [9.1 Vlidation of Kriging:Total Nitrogen](#tn_val_kriging)\n",
    "    * [9.2 Validation of IDW:Total Nitrogen](#tn_val_idw)\n",
    "    * [9.3 Validation of Empirical Bayesian Kriging:Total Nitrogen](#tn_val_ebk)\n",
    "    * [9.4 Validation of Regression Kriging:Total Nitrogen](#tn_val_sum)\n",
    "* [10 Summary of Validation](#val_sum)"
   ]
  },
  {
   "cell_type": "code",
   "execution_count": 1,
   "id": "f0431f2d",
   "metadata": {},
   "outputs": [],
   "source": [
    "import time\n",
    "import math  \n",
    "import sklearn.metrics  \n",
    "import arcgisscripting\n",
    "import geopandas as gpd\n",
    "import matplotlib.pyplot as plt\n",
    "import numpy as np\n",
    "import pandas as pd\n",
    "import rasterio as rio\n",
    "import rasterio.mask\n",
    "import rasterio.plot as rio_pl\n",
    "import matplotlib.image as mpimg\n",
    "import os\n",
    "#import rioxarray as rxr\n",
    "\n",
    "from rasterio.plot import show\n",
    "from rasterio.transform import Affine\n",
    "from rasterio.mask import mask\n",
    "from rasterio import MemoryFile\n",
    "from rasterio.profiles import DefaultGTiffProfile\n",
    "from scipy.spatial import Voronoi, voronoi_plot_2d\n",
    "from scipy.stats import sem\n",
    "from sklearn.metrics import mean_squared_error\n",
    "from shapely.geometry import box, Polygon, Point\n",
    "from shapely import wkt\n",
    "from sklearn.gaussian_process import GaussianProcessRegressor\n",
    "from sklearn.metrics import r2_score\n",
    "from sklearn.model_selection import train_test_split\n",
    "from sklearn.neighbors import KNeighborsRegressor\n",
    "import contextily as cx\n",
    "#from osgeo import gdal\n",
    "#from pykrige.ok import OrdinaryKriging\n",
    "\n",
    "# import arcpy and environmental settings\n",
    "import arcpy\n",
    "from arcpy.sa import *\n",
    "import misc.preprocess\n",
    "import misc.interpolation\n",
    "arcpy.env.overwriteOutput = True"
   ]
  },
  {
   "cell_type": "markdown",
   "id": "b932a982",
   "metadata": {},
   "source": [
    "# 1. Load and Preprocess Data <a class=\"anchor\" id=\"load_data\"></a>"
   ]
  },
  {
   "cell_type": "code",
   "execution_count": 2,
   "id": "43a6d893",
   "metadata": {},
   "outputs": [],
   "source": [
    "path = \"E:/Projects/SEACAR_WQ_Pilot/\"\n",
    "gis_path = path+'GIS_data/'\n",
    "\n",
    "# path = \"D:/Water_Quailty/\"\n",
    "# gis_path = path+'Test02200/'"
   ]
  },
  {
   "cell_type": "markdown",
   "id": "7dcb64a1",
   "metadata": {},
   "source": [
    "Preprocess the data and save the preprocessed data in new files"
   ]
  },
  {
   "cell_type": "code",
   "execution_count": 3,
   "id": "96fdc9c0",
   "metadata": {},
   "outputs": [],
   "source": [
    "# dfDis, dfCon = misc.preprocess.preprocess(path + r\"OEAT_Discrete-2023-Jan-23.csv\", \n",
    "#                     path + r\"OEAT_Continuous_1-2023-Jan-23.csv\",\n",
    "#                     path + r\"OEAT_Continuous_2-2023-Jan-23.csv\")\n",
    "\n",
    "# dfDis.to_csv(path + \"discrete_0214.csv\")\n",
    "# dfCon.to_csv(path + \"continuous_0214.csv\")"
   ]
  },
  {
   "cell_type": "markdown",
   "id": "8c212988",
   "metadata": {},
   "source": [
    "To save time, we can load the preprocessed \"discrete_0214.csv\" and \"continuous_0214.csv\"."
   ]
  },
  {
   "cell_type": "code",
   "execution_count": 4,
   "id": "fb370d44",
   "metadata": {},
   "outputs": [
    {
     "name": "stderr",
     "output_type": "stream",
     "text": [
      "C:\\Users\\qiangy\\AppData\\Local\\ESRI\\conda\\envs\\geo3\\lib\\site-packages\\IPython\\core\\interactiveshell.py:3442: DtypeWarning: Columns (11) have mixed types.Specify dtype option on import or set low_memory=False.\n",
      "  exec(code_obj, self.user_global_ns, self.user_ns)\n"
     ]
    }
   ],
   "source": [
    "#dfDis = pd.read_csv(\"D:/Water_Quailty/Test0214/discrete_0214.csv\")\n",
    "#dfCon = pd.read_csv(\"D:/Water_Quailty/Test0214/continuous_0214.csv\")\n",
    "\n",
    "dfDis = pd.read_csv(path + \"discrete_0214.csv\")\n",
    "dfCon = pd.read_csv(path + \"continuous_0214.csv\")"
   ]
  },
  {
   "cell_type": "code",
   "execution_count": 5,
   "id": "4b42f4d4",
   "metadata": {},
   "outputs": [],
   "source": [
    "col_ls = ['RowID','ParameterName','ParameterUnits','ProgramLocationID','ActivityType','ManagedAreaName',\n",
    "                   'SampleDate','Year','Month','ResultValue','ValueQualifier','Latitude_DD','Longitude_DD']\n",
    "para_ls = [\"Salinity\",\"Total Nitrogen\",\"Dissolved Oxygen\",\"Turbidity\",\"Secchi Depth\"]\n",
    "para_ls_ab = [\"S\",\"TN\",\"DO\",\"T\",\"SD\"]\n",
    "# Convert full MA names to short names\n",
    "dictArea    = {'Gasparilla Sound-Charlotte Harbor Aquatic Preserve':'Charlotte Harbor','Big Bend Seagrasses Aquatic Preserve':'Big Bend',\n",
    "                'Guana Tolomato Matanzas National Estuarine Research Reserve':'GTM Reserve','Estero Bay Aquatic Preserve':'Estero Bay',\n",
    "                'Biscayne Bay Aquatic Preserve':'Biscayne Bay','Matlacha Pass Aquatic Preserve':'Matlacha Pass AP',\n",
    "                'Lemon Bay Aquatic Preserve':'Lemon Bay','Cape Haze Aquatic Preserve':'Cape Haze','Pine Island Sound Aquatic Preserve':'Pine Island'}\n",
    "\n",
    "# Convert full MA names to MA name in ORCP_Managed_Areas_Oct2021\n",
    "dictArea2    = {'Gasparilla Sound-Charlotte Harbor Aquatic Preserve':'Gasparilla Sound-Charlotte Harbor','Big Bend Seagrasses Aquatic Preserve':'Big Bend Seagrasses',\n",
    "                'Guana Tolomato Matanzas National Estuarine Research Reserve':'Guana Tolomato Matanzas NERR','Estero Bay Aquatic Preserve':'Estero Bay',\n",
    "                'Biscayne Bay Aquatic Preserve':'Biscayne Bay','Matlacha Pass Aquatic Preserve':'Matlacha Pass',\n",
    "                'Lemon Bay Aquatic Preserve':'Lemon Bay','Cape Haze Aquatic Preserve':'Cape Haze','Pine Island Sound Aquatic Preserve':'Pine Island Sound'}\n",
    "\n",
    "dictUnits   = {\"Salinity\":\"ppt\",\"Total Nitrogen\": \"mg/L\",\"Dissolved Oxygen\": \"mg/L\",\"Turbidity\": \"NTU\", \"Secchi Depth\": \"m\"}\n",
    "listArea    = dfCon[\"ManagedAreaName\"].unique()\n",
    "listPara    = [\"Salinity\",\"Total Nitrogen\",\"Dissolved Oxygen\",\"Turbidity\",\"Secchi Depth\"] \n",
    "drySeason   = [11,12,1,2,3,4]\n",
    "wetSeason = [5,6,7,8,9,10]\n",
    "\n",
    "\n",
    "# dry_start,dry_end = '11/01/2016','04/30/2017'\n",
    "# wet_start,wet_end = '05/01/2017','10/31/2017'"
   ]
  },
  {
   "cell_type": "markdown",
   "id": "d20f5473",
   "metadata": {},
   "source": [
    "# 2. Combine Discrete and Continuous Data <a class=\"anchor\" id=\"combine\"></a>\n",
    "\n",
    "Combine dis and con dataframes"
   ]
  },
  {
   "cell_type": "code",
   "execution_count": 6,
   "id": "d1f9422c",
   "metadata": {},
   "outputs": [
    {
     "name": "stderr",
     "output_type": "stream",
     "text": [
      "C:\\Users\\qiangy\\AppData\\Local\\Temp\\ipykernel_50480\\1992034854.py:23: UserWarning: Column names longer than 10 characters will be truncated when saved to ESRI Shapefile.\n",
      "  gdfDrySelect.to_crs(int(SpatialRef)).to_file(dry_input_pt, driver='ESRI Shapefile',crs=\"EPSG:\"+SpatialRef)\n",
      "C:\\Users\\qiangy\\AppData\\Local\\Temp\\ipykernel_50480\\1992034854.py:24: UserWarning: Column names longer than 10 characters will be truncated when saved to ESRI Shapefile.\n",
      "  gdfWetSelect.to_crs(int(SpatialRef)).to_file(wet_input_pt, driver='ESRI Shapefile',crs=\"EPSG:\"+SpatialRef)\n"
     ]
    }
   ],
   "source": [
    "# Set variables of the program\n",
    "year = \"2017\"\n",
    "Area = 'Big Bend Seagrasses Aquatic Preserve'\n",
    "Para = 'Dissolved Oxygen'\n",
    "Para_ab = \"DO\"\n",
    "SpatialRef = '3086'\n",
    "b_name = 'bb'\n",
    "\n",
    "dry_input_pt = gis_path+\"Dry\"+year+Para_ab+b_name+'.shp'\n",
    "wet_input_pt = gis_path+\"Wet\"+year+Para_ab+b_name+'.shp'\n",
    "boundary_shp = gis_path+ '{}.shp'.format(b_name)\n",
    "\n",
    "# ---------------------------- Uncomment in the first run --------------------------\n",
    "dfDryMean, gdfDryAll = misc.preprocess.combine_dis_con_dry(dfDis,dfCon,year)\n",
    "dfWetMean, gdfWetAll = misc.preprocess.combine_dis_con_wet(dfDis,dfCon,year)\n",
    "\n",
    "gdfDryAll.to_csv(gis_path+'gdfDryAll{}.csv'.format(year))\n",
    "gdfWetAll.to_csv(gis_path+'gdfWetAll{}.csv'.format(year))\n",
    "\n",
    "gdfDrySelect = gdfDryAll[(gdfDryAll[\"ParameterName\"]==Para)&(gdfDryAll[\"ManagedAreaName\"]==Area)]\n",
    "gdfWetSelect = gdfWetAll[(gdfWetAll[\"ParameterName\"]==Para)&(gdfWetAll[\"ManagedAreaName\"]==Area)]\n",
    "\n",
    "gdfDrySelect.to_crs(int(SpatialRef)).to_file(dry_input_pt, driver='ESRI Shapefile',crs=\"EPSG:\"+SpatialRef)\n",
    "gdfWetSelect.to_crs(int(SpatialRef)).to_file(wet_input_pt, driver='ESRI Shapefile',crs=\"EPSG:\"+SpatialRef)"
   ]
  },
  {
   "cell_type": "markdown",
   "id": "e9cf1d8c",
   "metadata": {},
   "source": [
    "Skip the preprocessing and load the pre-stored dataframes"
   ]
  },
  {
   "cell_type": "code",
   "execution_count": 7,
   "id": "da98fbd8",
   "metadata": {},
   "outputs": [],
   "source": [
    "# gdfDryAll = pd.read_csv(gis_path+'gdfDryAll{}.csv'.format(year))\n",
    "# gdfDryAll['geometry'] = gdfDryAll['geometry'].apply(wkt.loads)\n",
    "# gdfDryAll = gpd.GeoDataFrame(gdfDryAll, crs='epsg:'+SpatialRef)\n",
    "\n",
    "# gdfWetAll = pd.read_csv(gis_path+'gdfWetAll{}.csv'.format(year))\n",
    "# gdfWetAll['geometry'] = gdfWetAll['geometry'].apply(wkt.loads)\n",
    "# gdfWetAll = gpd.GeoDataFrame(gdfWetAll, crs='epsg:'+SpatialRef)"
   ]
  },
  {
   "cell_type": "markdown",
   "id": "a3fa9bc3",
   "metadata": {},
   "source": [
    "# 3. Read Input Data <a class=\"anchor\" id=\"read_data\"></a>\n",
    "## 3.1 Load Managed Area Polygon"
   ]
  },
  {
   "cell_type": "code",
   "execution_count": 8,
   "id": "aa5a2520",
   "metadata": {},
   "outputs": [],
   "source": [
    "#MA = gpd.read_file(r\"D:\\Water_Quailty\\ManagedAreas\\ORCP_Managed_Areas_Oct2021.shp\")\n",
    "MA = gpd.read_file(gis_path + r\"ORCP_Managed_Areas_Oct2021.shp\")\n",
    "CH = MA[MA['MA_Name']==dictArea2[Area]].to_crs(int(SpatialRef))\n",
    "CH.to_file(boundary_shp , driver='ESRI Shapefile',crs=\"EPSG:\"+SpatialRef)"
   ]
  },
  {
   "cell_type": "markdown",
   "id": "4f1d87d1",
   "metadata": {},
   "source": [
    "## 3.2 Load Point Shapefiles\n",
    "\n",
    "Also convert all shapefile to Florida GDL Albers (https://epsg.io/3086)"
   ]
  },
  {
   "cell_type": "code",
   "execution_count": 9,
   "id": "43ffe750",
   "metadata": {},
   "outputs": [],
   "source": [
    "gdfDryShp = gpd.read_file(dry_input_pt)\n",
    "gdfWetShp = gpd.read_file(wet_input_pt)\n",
    "extentShp = gpd.read_file(boundary_shp )"
   ]
  },
  {
   "cell_type": "code",
   "execution_count": 10,
   "id": "5cd66274",
   "metadata": {},
   "outputs": [
    {
     "data": {
      "text/plain": [
       "Text(0.5, 1.0, 'Sampling points at Big Bend Seagrasses Aquatic Preserve')"
      ]
     },
     "execution_count": 10,
     "metadata": {},
     "output_type": "execute_result"
    },
    {
     "data": {
      "image/png": "[encoded data removed]",
      "text/plain": [
       "<Figure size 648x360 with 1 Axes>"
      ]
     },
     "metadata": {
      "needs_background": "light"
     },
     "output_type": "display_data"
    }
   ],
   "source": [
    "fig, ax = plt.subplots(figsize = (9,5))\n",
    "extentShp.plot(ax = ax, color='none', edgecolor='blue')\n",
    "gdfWetShp.plot(ax = ax, marker='o', color='red', markersize=5)\n",
    "cx.add_basemap(ax = ax,source=cx.providers.Stamen.TonerLite,crs=gdfDryShp.crs)\n",
    "ax.set_title('Sampling points at {}'.format(Area))"
   ]
  },
  {
   "cell_type": "code",
   "execution_count": 11,
   "id": "39f98ed2",
   "metadata": {},
   "outputs": [],
   "source": [
    "extent = str(extentShp.geometry.total_bounds).replace('[','').replace(']','')"
   ]
  },
  {
   "cell_type": "markdown",
   "id": "faa5c1d2",
   "metadata": {},
   "source": [
    "\n",
    "# 4. Spatial Interpoation of Dissolved Oxygen <a class=\"anchor\" id=\"do_interpolate\"></a>\n",
    "\n",
    "## 4.1 Ordinary Kriging: Dissolved Oxygen <a class=\"anchor\" id=\"do_kriging\"></a>\n",
    "\n",
    "Run Oridinary Kriging for dry season data"
   ]
  },
  {
   "cell_type": "code",
   "execution_count": null,
   "id": "bdd0b818",
   "metadata": {
    "scrolled": false
   },
   "outputs": [
    {
     "name": "stdout",
     "output_type": "stream",
     "text": [
      "Interpolation using the Ordinary Kriging method\n",
      "Interpolation using the Ordinary Kriging method\n"
     ]
    }
   ],
   "source": [
    "year, season, method, value_field, mask = '2017', 'Dry','ok','ResultValu', boundary_shp \n",
    "in_features = dry_input_pt \n",
    "out_ga_layer = gis_path +\"{}{}{}.lyrx\".format(Para_ab, season.lower(), method.upper())\n",
    "out_raster = gis_path +\"{}{}{}.tif\".format(Para_ab, season.lower(),method.upper())\n",
    "\n",
    "dryOK_2017, dryOKStat = misc.interpolation.interpolation(method = method, input_point = in_features, \n",
    "                      out_raster = out_raster, z_field = value_field, \n",
    "                      out_ga_layer = out_ga_layer, extent = extent, \n",
    "                      mask = mask)\n",
    "\n",
    "season = 'Wet'\n",
    "in_features = wet_input_pt \n",
    "out_ga_layer = gis_path +\"{}{}{}.lyrx\".format(Para_ab, season.lower(), method.upper())\n",
    "out_raster = gis_path +\"{}{}{}.tif\".format(Para_ab, season.lower(),method.upper())\n",
    "\n",
    "wetOK_2017,wetOKStat = misc.interpolation.interpolation(method = method, input_point = in_features, \n",
    "                      out_raster = out_raster, z_field = 'ResultValu', \n",
    "                      out_ga_layer = out_ga_layer, extent = extent, \n",
    "                      mask = mask)"
   ]
  },
  {
   "cell_type": "markdown",
   "id": "050d54ae",
   "metadata": {},
   "source": [
    "Plot the interpolation result"
   ]
  },
  {
   "cell_type": "code",
   "execution_count": null,
   "id": "c2cdfeba",
   "metadata": {},
   "outputs": [],
   "source": [
    "fig, axes = plt.subplots(1,2, figsize=(18, 8))\n",
    "\n",
    "fig.suptitle(\"{} (Parameter: {}).\".format(Area, Para),fontsize=20)\n",
    "\n",
    "misc.interpolation.plot_raster(gdfDryShp, extentShp, dryOK_2017, 'Dry Season', axes[0], fig)\n",
    "misc.interpolation.plot_raster(gdfWetShp, extentShp, wetOK_2017, 'Wet Season', axes[1], fig)"
   ]
  },
  {
   "cell_type": "markdown",
   "id": "c90f3494",
   "metadata": {},
   "source": [
    "## 4.2 Inverse Distance Weighting (IDW): Dissolved Oxygen <a class=\"anchor\" id=\"do_idw\"></a>\n",
    "\n",
    "Run IDW for both wet and dry seasons"
   ]
  },
  {
   "cell_type": "code",
   "execution_count": null,
   "id": "fb4cad2a",
   "metadata": {},
   "outputs": [],
   "source": [
    "year, season, method, value_field, mask = '2017', 'Dry','idw','ResultValu', boundary_shp \n",
    "in_features = dry_input_pt\n",
    "out_ga_layer = gis_path +\"{}{}{}.lyrx\".format(Para_ab, season.lower(), method.upper())\n",
    "out_raster = gis_path +\"{}{}{}.tif\".format(Para_ab, season.lower(),method.upper())\n",
    "\n",
    "dryIDW_2017 = misc.interpolation.interpolation(method = method, input_point = in_features, \n",
    "                      out_raster = out_raster, z_field = value_field, \n",
    "                      out_ga_layer = out_ga_layer, extent = extent, \n",
    "                      mask = mask)\n",
    "\n",
    "season = 'Wet'\n",
    "in_features = wet_input_pt\n",
    "out_ga_layer = gis_path +\"{}{}{}.lyrx\".format(Para_ab, season.lower(), method.upper())\n",
    "out_raster = gis_path +\"{}{}{}.tif\".format(Para_ab, season.lower(),method.upper())\n",
    "\n",
    "wetIDW_2017 = misc.interpolation.interpolation(method = method, input_point = in_features, \n",
    "                      out_raster = out_raster, z_field = 'ResultValu', \n",
    "                      out_ga_layer = out_ga_layer, method.upper()), extent = extent, \n",
    "                      mask = mask)"
   ]
  },
  {
   "cell_type": "markdown",
   "id": "b849db01",
   "metadata": {},
   "source": [
    "Plot the interpolation result"
   ]
  },
  {
   "cell_type": "code",
   "execution_count": null,
   "id": "fb1c78db",
   "metadata": {},
   "outputs": [],
   "source": [
    "fig, axes = plt.subplots(1,2, figsize=(18, 8))\n",
    "\n",
    "fig.suptitle(\"{} (Parameter: {}).\".format(Area, Para),fontsize=20)\n",
    "\n",
    "misc.interpolation.plot_raster(gdfDryShp, extentShp, dryIDW_2017, 'Dry Season', axes[0],fig)\n",
    "misc.interpolation.plot_raster(gdfWetShp, extentShp, wetIDW_2017, 'Wet Season', axes[1],fig)\n"
   ]
  },
  {
   "cell_type": "markdown",
   "id": "43215384",
   "metadata": {},
   "source": [
    "## 4.3 Empirical Bayesian Kriging (EBK) <a class=\"anchor\" id=\"do_ebk\"></a>\n",
    "\n",
    "Run EBK for wet and dry seasons"
   ]
  },
  {
   "cell_type": "code",
   "execution_count": null,
   "id": "a192a739",
   "metadata": {},
   "outputs": [],
   "source": [
    "year, season, method, value_field, mask = '2017', 'Dry','ebk','ResultValu', boundary_shp \n",
    "in_features = dry_input_pt\n",
    "out_ga_layer = gis_path +\"{}{}{}.lyrx\".format(Para_ab, season.lower(), method.upper())\n",
    "out_raster = gis_path +\"{}{}{}.tif\".format(Para_ab, season.lower(),method.upper())\n",
    "\n",
    "dryEBK_2017 = misc.interpolation.interpolation(method = method, input_point = in_features, \n",
    "                      out_raster = out_raster, z_field = value_field, \n",
    "                      out_ga_layer = out_ga_layer, extent = extent, \n",
    "                      mask = mask)\n",
    "\n",
    "season = 'Wet'\n",
    "in_features = wet_input_pt\n",
    "out_ga_layer = gis_path +\"{}{}{}.lyrx\".format(Para_ab, season.lower(), method.upper())\n",
    "out_raster = gis_path +\"{}{}{}.tif\".format(Para_ab, season.lower(),method.upper())\n",
    "\n",
    "wetEBK_2017 = misc.interpolation.interpolation(method = method, input_point = in_features, \n",
    "                      out_raster = out_raster, z_field = 'ResultValu', out_ga_layer = out_ga_layer, extent = extent, mask = mask)"
   ]
  },
  {
   "cell_type": "markdown",
   "id": "caea32fd",
   "metadata": {},
   "source": [
    "Plot interpolation results"
   ]
  },
  {
   "cell_type": "code",
   "execution_count": null,
   "id": "a1737cfe",
   "metadata": {},
   "outputs": [],
   "source": [
    "fig, axes = plt.subplots(1,2, figsize=(18, 8))\n",
    "\n",
    "fig.suptitle(\"{} (Parameter: {}).\".format(Area, Para),fontsize=20)\n",
    "\n",
    "misc.interpolation.plot_raster(gdfDryShp, extentShp, dryEBK_2017, 'Dry Season', axes[0],fig)\n",
    "misc.interpolation.plot_raster(gdfWetShp, extentShp, wetEBK_2017, 'Wet Season', axes[1],fig)\n"
   ]
  },
  {
   "cell_type": "markdown",
   "id": "abc561d3",
   "metadata": {},
   "source": [
    "## 4.4 Regression Kriging (RK) <a class=\"anchor\" id=\"do_rk\"></a>\n",
    "\n",
    "Plot the covariate (bathymetry)"
   ]
  },
  {
   "cell_type": "code",
   "execution_count": null,
   "id": "a540cfcf",
   "metadata": {},
   "outputs": [],
   "source": [
    "ma_table = pd.read_csv(gis_path + \"MA_table.csv\")\n",
    "\n",
    "fig, ax = plt.subplots(1, figsize=(9, 6))\n",
    "fig.suptitle(\"{} (covariate: {}).\".format(Area, 'bathymetry'),fontsize=20)\n",
    "\n",
    "ra_fname = gis_path + \"covariates/bathymetry/{}.tif\".format(dictArea[Area])\n",
    "misc.interpolation.plot_covariate(Area,gdfDryShp,extentShp,ra_fname,ax, fig)"
   ]
  },
  {
   "cell_type": "markdown",
   "id": "bd771329",
   "metadata": {},
   "source": [
    "Run regression kriging"
   ]
  },
  {
   "cell_type": "code",
   "execution_count": null,
   "id": "db5bc2ca",
   "metadata": {},
   "outputs": [],
   "source": [
    "year, season, method, value_field, mask = '2017', 'Dry','rk','ResultValu', boundary_shp \n",
    "in_explanatory_rasters = gis_path + \"covariates/bathymetry/{}.tif\".format(dictArea[Area])\n",
    "\n",
    "in_features = dry_input_pt\n",
    "out_ga_layer = gis_path +\"{}{}{}.lyrx\".format(Para_ab, season.lower(), method.upper())\n",
    "out_raster = gis_path +\"{}{}{}.tif\".format(Para_ab, season.lower(),method.upper())\n",
    "\n",
    "dryRK_2017 = misc.interpolation.interpolation(method = method, input_point = in_features, out_raster = out_raster, \n",
    "                                              z_field = value_field, out_ga_layer = out_ga_layer, extent = extent, \n",
    "                                              mask = mask, in_explanatory_rasters = in_explanatory_rasters)\n",
    "\n",
    "season = 'Wet'\n",
    "in_features = wet_input_pt\n",
    "out_ga_layer = gis_path +\"{}{}{}.lyrx\".format(Para_ab, season.lower(), method.upper())\n",
    "out_raster = gis_path +\"{}{}{}.tif\".format(Para_ab, season.lower(),method.upper())\n",
    "\n",
    "wetRK_2017 = misc.interpolation.interpolation(method = method, input_point = in_features, out_raster = out_raster, \n",
    "                                              z_field = 'ResultValu', out_ga_layer = out_ga_layer, extent = extent, \n",
    "                                              mask = mask, in_explanatory_rasters = in_explanatory_rasters)"
   ]
  },
  {
   "cell_type": "markdown",
   "id": "b464b61a",
   "metadata": {},
   "source": [
    "Show interploation result"
   ]
  },
  {
   "cell_type": "code",
   "execution_count": null,
   "id": "d0f8e36a",
   "metadata": {},
   "outputs": [],
   "source": [
    "fig, axes = plt.subplots(1,2, figsize=(18, 8))\n",
    "\n",
    "fig.suptitle(\"{} (Parameter: {}).\".format(Area, Para),fontsize=20)\n",
    "\n",
    "misc.interpolation.plot_raster(gdfDryShp, extentShp, dryRK_2017, 'Dry Season', axes[0],fig)\n",
    "misc.interpolation.plot_raster(gdfWetShp, extentShp, wetRK_2017, 'Wet Season', axes[1],fig)"
   ]
  },
  {
   "cell_type": "markdown",
   "id": "83ee0ae2",
   "metadata": {},
   "source": [
    "# 5. Interpolation Validation (Dissolved Oxygen) <a class=\"anchor\" id=\"do_validation\"></a>\n",
    "## 5.1 Validation: Ordinary Kriging <a class=\"anchor\" id=\"do_val_kriging\"></a>"
   ]
  },
  {
   "cell_type": "code",
   "execution_count": null,
   "id": "91a96aa4",
   "metadata": {},
   "outputs": [],
   "source": [
    "print(\"Interpolation assessment of Ordinary Kriging in dry season data\")\n",
    "display(dryOKStat)\n",
    "print(\"Interpolation assessment of Ordinary Kriging in wet season data\")\n",
    "display(wetOKStat)"
   ]
  },
  {
   "cell_type": "markdown",
   "id": "7cf5f4a7",
   "metadata": {},
   "source": [
    "## 5.2 Validation: Inverse Distance Weighting (IDW) <a class=\"anchor\" id=\"do_val_idw\"></a>"
   ]
  },
  {
   "cell_type": "code",
   "execution_count": null,
   "id": "e24117b8",
   "metadata": {},
   "outputs": [],
   "source": [
    "method, season, index = 'idw', 'dry', 'Inverse Distance Weighting', \n",
    "inLayer = gis_path +\"{}{}{}.lyrx\".format(Para_ab, season.lower(), method.upper())\n",
    "\n",
    "dryIDWStat = misc.interpolation.extract_val_result(inLayer,index)\n",
    "\n",
    "method, season = 'idw', 'wet'\n",
    "inLayer = gis_path +\"{}{}{}.lyrx\".format(Para_ab, season.lower(), method.upper())\n",
    "\n",
    "wetIDWStat = misc.interpolation.extract_val_result(inLayer,index)"
   ]
  },
  {
   "cell_type": "code",
   "execution_count": null,
   "id": "58759e9a",
   "metadata": {},
   "outputs": [],
   "source": [
    "print(\"Interpolation assessment of Inverse Distance Weighting in dry season data\")\n",
    "display(dryIDWStat)\n",
    "print(\"Interpolation assessment of Inverse Distance Weighting in wet season data\")\n",
    "display(wetIDWStat)"
   ]
  },
  {
   "cell_type": "markdown",
   "id": "43abac60",
   "metadata": {},
   "source": [
    "## 5.3 Validation: Empirical Bayesian Kriging <a class=\"anchor\" id=\"do_val_ebk\"></a>"
   ]
  },
  {
   "cell_type": "code",
   "execution_count": null,
   "id": "b755afd5",
   "metadata": {},
   "outputs": [],
   "source": [
    "method, season, index = 'ebk', 'dry', 'Empirical Bayesian Kriging'\n",
    "inLayer = gis_path +\"{}{}{}.lyrx\".format(Para_ab, season.lower(), method.upper())\n",
    "\n",
    "dryEBKStat = misc.interpolation.extract_val_result(inLayer,index)\n",
    "\n",
    "method, season = 'ebk', 'wet'\n",
    "inLayer = gis_path +\"{}{}{}.lyrx\".format(Para_ab, season.lower(), method.upper())\n",
    "\n",
    "wetEBKStat = misc.interpolation.extract_val_result(inLayer,index)"
   ]
  },
  {
   "cell_type": "code",
   "execution_count": null,
   "id": "1147945a",
   "metadata": {},
   "outputs": [],
   "source": [
    "print(\"Interpolation assessment of Empirical Bayesian Kriging in dry season data\")\n",
    "display(dryEBKStat)\n",
    "print(\"Interpolation assessment of Empirical Bayesian Kriging in wet season data\")\n",
    "display(wetEBKStat)"
   ]
  },
  {
   "cell_type": "markdown",
   "id": "d1be8e1a",
   "metadata": {},
   "source": [
    "## 5.4 Validation: Regression Kriging <a class=\"anchor\" id=\"do_val_rk\"></a>"
   ]
  },
  {
   "cell_type": "code",
   "execution_count": null,
   "id": "93cf8846",
   "metadata": {},
   "outputs": [],
   "source": [
    "method, season, index = 'rk', 'dry', 'Regression Kriging'\n",
    "inLayer = gis_path +\"{}{}{}.lyrx\".format(Para_ab, season.lower(), method.upper())\n",
    "\n",
    "dryRKStat = misc.interpolation.extract_val_result(inLayer,index)\n",
    "\n",
    "method, season = 'rk', 'wet'\n",
    "inLayer = gis_path +\"{}{}{}.lyrx\".format(Para_ab, season.lower(), method.upper())\n",
    "\n",
    "wetRKStat = misc.interpolation.extract_val_result(inLayer,index)"
   ]
  },
  {
   "cell_type": "code",
   "execution_count": null,
   "id": "a24f6b12",
   "metadata": {},
   "outputs": [],
   "source": [
    "print(\"Interpolation assessment of Regression Kriging in dry season data\")\n",
    "display(dryRKStat)\n",
    "print(\"Interpolation assessment of Regression Kriging in wet season data\")\n",
    "display(wetRKStat)"
   ]
  },
  {
   "cell_type": "markdown",
   "id": "5caa0dc6",
   "metadata": {},
   "source": [
    "## 5.5 Summary of Validation (comparing four methods) <a class=\"anchor\" id=\"do_val_sum\"></a>"
   ]
  },
  {
   "cell_type": "code",
   "execution_count": null,
   "id": "3401f84b",
   "metadata": {},
   "outputs": [],
   "source": [
    "sumStatDry   = pd.concat([dryOKStat,dryIDWStat,dryEBKStat,dryRKStat])\n",
    "print(\"Summary of interpolation assessment in dry season data\")\n",
    "sumStatDry"
   ]
  },
  {
   "cell_type": "code",
   "execution_count": null,
   "id": "2a781ed4",
   "metadata": {},
   "outputs": [],
   "source": [
    "sumStatWet = pd.concat([wetOKStat,wetIDWStat,wetEBKStat,wetRKStat])\n",
    "print(\"Summary of interpolation assessment in wet season data\")\n",
    "sumStatWet"
   ]
  },
  {
   "cell_type": "markdown",
   "id": "8a6394eb",
   "metadata": {},
   "source": [
    "# 6. Spatial Interpolation of Salinity <a class=\"anchor\" id=\"s_interpolate\"></a>"
   ]
  },
  {
   "cell_type": "code",
   "execution_count": null,
   "id": "7e0fd0cc",
   "metadata": {},
   "outputs": [],
   "source": [
    "\n",
    "# dfDis[\"timestamp\"]=  pd.to_datetime(dfDis['SampleDate'])\n",
    "# dfCon[\"timestamp\"]=  pd.to_datetime(dfCon['SampleDate'])\n",
    "\n",
    "# dfDryMean, gdfDryAll = combine_dis_con_dry(dfDis,dfCon,year)\n",
    "# dfWetMean, gdfWetAll = combine_dis_con_wet(dfDis,dfCon,year)\n",
    "\n",
    "Para, Para_ab, year = 'Salinity', 'S', '2017'\n",
    "\n",
    "dry_input_pt = gis_path+\"Dry\"+year+Para_ab+b_name+'.shp'\n",
    "wet_input_pt = gis_path+\"Wet\"+year+Para_ab+b_name+'.shp'\n",
    "\n",
    "gdfDrySelect = gdfDryAll[(gdfDryAll[\"ParameterName\"]==Para)&(gdfDryAll[\"ManagedAreaName\"]==Area)]\n",
    "gdfWetSelect = gdfWetAll[(gdfWetAll[\"ParameterName\"]==Para)&(gdfWetAll[\"ManagedAreaName\"]==Area)]\n",
    "\n",
    "gdfDrySelect.to_crs(int(SpatialRef)).to_file(dry_input_pt, driver='ESRI Shapefile',crs=\"EPSG:\"+SpatialRef)\n",
    "gdfWetSelect.to_crs(int(SpatialRef)).to_file(wet_input_pt, driver='ESRI Shapefile',crs=\"EPSG:\"+SpatialRef)"
   ]
  },
  {
   "cell_type": "code",
   "execution_count": null,
   "id": "0ed9655d",
   "metadata": {},
   "outputs": [],
   "source": [
    "gdfDryShp = gpd.read_file(dry_input_pt)\n",
    "gdfWetShp = gpd.read_file(wet_input_pt)\n",
    "extentShp = gpd.read_file(boundary_shp)"
   ]
  },
  {
   "cell_type": "code",
   "execution_count": null,
   "id": "9253b13b",
   "metadata": {},
   "outputs": [],
   "source": [
    "fig, ax = plt.subplots(figsize = (9,6))\n",
    "extentShp.plot(ax = ax, color='none', edgecolor='blue')\n",
    "gdfWetShp.plot(ax = ax, marker='o', color='red', markersize=5)\n",
    "cx.add_basemap(ax = ax,source=cx.providers.Stamen.TonerLite,crs=gdfDryShp.crs)\n",
    "ax.set_title('Sampling points at {}'.format(Area))"
   ]
  },
  {
   "cell_type": "markdown",
   "id": "f33cf3e0",
   "metadata": {},
   "source": [
    "## 6.1 Ordinary Kriging (Salinity) <a class=\"anchor\" id=\"s_ok\"></a>"
   ]
  },
  {
   "cell_type": "code",
   "execution_count": null,
   "id": "d5064d84",
   "metadata": {},
   "outputs": [],
   "source": [
    "year, season, method, value_field, mask = '2017', 'Dry','ok','ResultValu', boundary_shp \n",
    "in_features = dry_input_pt \n",
    "out_ga_layer = gis_path +\"{}{}{}.lyrx\".format(Para_ab, season.lower(), method.upper())\n",
    "out_raster = gis_path +\"{}{}{}.tif\".format(Para_ab, season.lower(),method.upper())\n",
    "\n",
    "dryOK_2017, dryOKStat = misc.interpolation.interpolation(method = method, input_point = in_features, out_raster = out_raster, \n",
    "                                                         z_field = value_field, out_ga_layer = out_ga_layer, extent = extent, mask = mask)\n",
    "\n",
    "season = 'Wet'\n",
    "in_features = wet_input_pt \n",
    "out_ga_layer = gis_path +\"{}{}{}.lyrx\".format(Para_ab, season.lower(), method.upper())\n",
    "out_raster = gis_path +\"{}{}{}.tif\".format(Para_ab, season.lower(),method.upper())\n",
    "\n",
    "wetOK_2017, wetOKStat = misc.interpolation.interpolation(method = method, input_point = in_features, out_raster = out_raster, \n",
    "                                                         z_field = value_field, out_ga_layer = out_ga_layer, extent = extent, mask = mask)"
   ]
  },
  {
   "cell_type": "code",
   "execution_count": null,
   "id": "d5ff4819",
   "metadata": {},
   "outputs": [],
   "source": [
    "fig, axes = plt.subplots(1,2, figsize=(18, 8))\n",
    "\n",
    "fig.suptitle(\"{} (Parameter: {}).\".format(Area, Para),fontsize=20)\n",
    "\n",
    "misc.interpolation.plot_raster(gdfDryShp, extentShp, dryOK_2017, 'Dry Season', axes[0], fig)\n",
    "misc.interpolation.plot_raster(gdfWetShp, extentShp, wetOK_2017, 'Wet Season', axes[1], fig)"
   ]
  },
  {
   "cell_type": "markdown",
   "id": "7b30efe2",
   "metadata": {},
   "source": [
    "## 6.2 Inverse Distance Weighting (IDW): Salinity <a class=\"anchor\" id=\"s_idw\"></a>\n",
    "\n",
    "Run IDW for both wet and dry seasons"
   ]
  },
  {
   "cell_type": "code",
   "execution_count": null,
   "id": "70e63cc3",
   "metadata": {},
   "outputs": [],
   "source": [
    "year, season, method, value_field, mask = '2017', 'Dry','idw','ResultValu', boundary_shp \n",
    "in_features = dry_input_pt \n",
    "out_ga_layer = gis_path +\"{}{}{}.lyrx\".format(Para_ab, season.lower(), method.upper())\n",
    "out_raster = gis_path +\"{}{}{}.tif\".format(Para_ab, season.lower(),method.upper())\n",
    "\n",
    "dryIDW_2017 = misc.interpolation.interpolation(method = method, input_point = in_features, out_raster = out_raster, \n",
    "                                               z_field = value_field, out_ga_layer = out_ga_layer, extent = extent, mask = mask)\n",
    "\n",
    "season = 'Wet'\n",
    "in_features = wet_input_pt \n",
    "out_ga_layer = gis_path +\"{}{}{}.lyrx\".format(Para_ab, season.lower(), method.upper())\n",
    "out_raster = gis_path +\"{}{}{}.tif\".format(Para_ab, season.lower(),method.upper())\n",
    "\n",
    "wetIDW_2017 = misc.interpolation.interpolation(method = method, input_point = in_features, out_raster = out_raster, \n",
    "                                               z_field = 'ResultValu', out_ga_layer = out_ga_layer, extent = extent, mask = mask)"
   ]
  },
  {
   "cell_type": "markdown",
   "id": "47ce6a16",
   "metadata": {},
   "source": [
    "Plot the interpolation result"
   ]
  },
  {
   "cell_type": "code",
   "execution_count": null,
   "id": "f16c36d2",
   "metadata": {
    "scrolled": false
   },
   "outputs": [],
   "source": [
    "fig, axes = plt.subplots(1,2, figsize=(18, 8))\n",
    "\n",
    "fig.suptitle(\"{} (Parameter: {}).\".format(Area, Para),fontsize=20)\n",
    "\n",
    "misc.interpolation.plot_raster(gdfDryShp, extentShp, dryIDW_2017, 'Dry Season', axes[0],fig)\n",
    "misc.interpolation.plot_raster(gdfWetShp, extentShp, wetIDW_2017, 'Wet Season', axes[1],fig)"
   ]
  },
  {
   "cell_type": "markdown",
   "id": "98d24dbd",
   "metadata": {},
   "source": [
    "## 6.3 Empirical Bayesian Kriging (EBK): Salinity <a class=\"anchor\" id=\"s_ebk\"></a>\n",
    "\n",
    "Run EBK for wet and dry seasons"
   ]
  },
  {
   "cell_type": "code",
   "execution_count": null,
   "id": "d5ddab18",
   "metadata": {},
   "outputs": [],
   "source": [
    "year, season, method, value_field, mask = '2017', 'Dry','ebk','ResultValu', boundary_shp \n",
    "in_features = dry_input_pt \n",
    "out_ga_layer = gis_path +\"{}{}{}.lyrx\".format(Para_ab, season.lower(), method.upper())\n",
    "out_raster = gis_path +\"{}{}{}.tif\".format(Para_ab, season.lower(),method.upper())\n",
    "\n",
    "dryEBK_2017 = misc.interpolation.interpolation(method = method, input_point = in_features, out_raster = out_raster, \n",
    "                                               z_field = value_field, out_ga_layer = out_ga_layer, extent = extent, mask = mask)\n",
    "\n",
    "season = 'Wet'\n",
    "in_features = wet_input_pt \n",
    "out_ga_layer = gis_path +\"{}{}{}.lyrx\".format(Para_ab, season.lower(), method.upper())\n",
    "out_raster = gis_path +\"{}{}{}.tif\".format(Para_ab, season.lower(),method.upper())\n",
    "\n",
    "wetEBK_2017 = misc.interpolation.interpolation(method = method, input_point = in_features, out_raster = out_raster, \n",
    "                                               z_field = 'ResultValu', out_ga_layer = out_ga_layer, extent = extent, mask = mask)"
   ]
  },
  {
   "cell_type": "markdown",
   "id": "7cf6f595",
   "metadata": {},
   "source": [
    "Plot interpolation results"
   ]
  },
  {
   "cell_type": "code",
   "execution_count": null,
   "id": "a01e2ff5",
   "metadata": {
    "scrolled": false
   },
   "outputs": [],
   "source": [
    "fig, axes = plt.subplots(1,2, figsize=(18, 8))\n",
    "\n",
    "fig.suptitle(\"{} (Parameter: {}).\".format(Area, Para),fontsize=20)\n",
    "\n",
    "misc.interpolation.plot_raster(gdfDryShp, extentShp, dryEBK_2017, 'Dry Season', axes[0],fig)\n",
    "misc.interpolation.plot_raster(gdfWetShp, extentShp, wetEBK_2017, 'Wet Season', axes[1],fig)"
   ]
  },
  {
   "cell_type": "markdown",
   "id": "55dded52",
   "metadata": {},
   "source": [
    "## 6.4 Regression Kriging (RK): Salinity <a class=\"anchor\" id=\"s_rk\"></a>"
   ]
  },
  {
   "cell_type": "markdown",
   "id": "ff5e076b",
   "metadata": {},
   "source": [
    "Display covariates"
   ]
  },
  {
   "cell_type": "code",
   "execution_count": null,
   "id": "087427ea",
   "metadata": {},
   "outputs": [],
   "source": [
    "year, season, method, value_field, mask = '2017', 'Dry','rk','ResultValu', boundary_shp \n",
    "in_explanatory_rasters = gis_path + \"covariates/bathymetry/{}.tif\".format(dictArea[Area])\n",
    "\n",
    "in_features = dry_input_pt \n",
    "out_ga_layer = gis_path +\"{}{}{}.lyrx\".format(Para_ab, season.lower(), method.upper())\n",
    "out_raster = gis_path +\"{}{}{}.tif\".format(Para_ab, season.lower(),method.upper())\n",
    "\n",
    "dryRK_2017 = misc.interpolation.interpolation(method = method, input_point = in_features, out_raster = out_raster, \n",
    "                                              z_field = value_field, out_ga_layer = out_ga_layer, extent = extent, \n",
    "                                              mask = mask, in_explanatory_rasters = in_explanatory_rasters)\n",
    "\n",
    "season = 'Wet'\n",
    "in_features = wet_input_pt \n",
    "out_ga_layer = gis_path +\"{}{}{}.lyrx\".format(Para_ab, season.lower(), method.upper())\n",
    "out_raster = gis_path +\"{}{}{}.tif\".format(Para_ab, season.lower(),method.upper())\n",
    "\n",
    "wetRK_2017 = misc.interpolation.interpolation(method = method, input_point = in_features, out_raster = out_raster, \n",
    "                                              z_field = 'ResultValu', out_ga_layer = out_ga_layer, extent = extent, \n",
    "                                              mask = mask, in_explanatory_rasters = in_explanatory_rasters)"
   ]
  },
  {
   "cell_type": "markdown",
   "id": "ed9fe055",
   "metadata": {},
   "source": [
    "Display result"
   ]
  },
  {
   "cell_type": "code",
   "execution_count": null,
   "id": "3f14f545",
   "metadata": {},
   "outputs": [],
   "source": [
    "fig, axes = plt.subplots(1,2, figsize=(18, 8))\n",
    "\n",
    "fig.suptitle(\"{} (Parameter: {}).\".format(Area, Para),fontsize=20)\n",
    "\n",
    "misc.interpolation.plot_raster(gdfDryShp, extentShp, dryRK_2017, 'Dry Season', axes[0],fig)\n",
    "misc.interpolation.plot_raster(gdfWetShp, extentShp, wetRK_2017, 'Wet Season', axes[1],fig)"
   ]
  },
  {
   "cell_type": "markdown",
   "id": "ad91097a",
   "metadata": {},
   "source": [
    "# 7. Interpolation Validation: Salinity <a class=\"anchor\" id=\"s_validation\"></a>\n",
    "## 7.1 Validation of Ordinary Kriging <a class=\"anchor\" id=\"s_val_ok\"></a>"
   ]
  },
  {
   "cell_type": "code",
   "execution_count": null,
   "id": "f4c005b6",
   "metadata": {},
   "outputs": [],
   "source": [
    "print(\"Interpolation assessment of Ordinary Kriging in dry season data\")\n",
    "display(dryOKStat)\n",
    "print(\"Interpolation assessment of Ordinary Kriging in wet season data\")\n",
    "display(wetOKStat)"
   ]
  },
  {
   "cell_type": "markdown",
   "id": "150fb33e",
   "metadata": {},
   "source": [
    "## 7.2 Validation of IDW: Salinity <a class=\"anchor\" id=\"s_val_idw\"></a>"
   ]
  },
  {
   "cell_type": "code",
   "execution_count": null,
   "id": "9f097ba1",
   "metadata": {},
   "outputs": [],
   "source": [
    "method, season, index = 'idw', 'dry', 'Inverse Distance Weighting'\n",
    "inLayer = gis_path +\"{}{}{}.lyrx\".format(Para_ab, season.lower(), method.upper())\n",
    "\n",
    "dryIDWStat = misc.interpolation.extract_val_result(inLayer,index)\n",
    "\n",
    "method, season = 'idw', 'wet'\n",
    "inLayer = gis_path +\"{}{}{}.lyrx\".format(Para_ab, season.lower(), method.upper())\n",
    "\n",
    "wetIDWStat = misc.interpolation.extract_val_result(inLayer,index)"
   ]
  },
  {
   "cell_type": "code",
   "execution_count": null,
   "id": "e107de46",
   "metadata": {},
   "outputs": [],
   "source": [
    "print(\"Interpolation assessment of Inverse Distance Weighting in dry season data\")\n",
    "display(dryIDWStat)\n",
    "print(\"Interpolation assessment of Inverse Distance Weighting in wet season data\")\n",
    "display(wetIDWStat)"
   ]
  },
  {
   "cell_type": "markdown",
   "id": "76523896",
   "metadata": {},
   "source": [
    "## 7.3 Validation of Empirical Bayesian Kriging: Salinity <a class=\"anchor\" id=\"s_val_ebk\"></a>"
   ]
  },
  {
   "cell_type": "code",
   "execution_count": null,
   "id": "2e5df1af",
   "metadata": {},
   "outputs": [],
   "source": [
    "method, season, index = 'ebk', 'dry', 'Empirical Bayesian Kriging'\n",
    "inLayer = gis_path +\"{}{}{}.lyrx\".format(Para_ab, season.lower(), method.upper())\n",
    "\n",
    "dryEBKStat = misc.interpolation.extract_val_result(inLayer,index)\n",
    "\n",
    "method, season = 'ebk', 'wet'\n",
    "inLayer = gis_path +\"{}{}{}.lyrx\".format(Para_ab, season.lower(), method.upper())\n",
    "\n",
    "wetEBKStat = misc.interpolation.extract_val_result(inLayer,index)"
   ]
  },
  {
   "cell_type": "code",
   "execution_count": null,
   "id": "45d1a777",
   "metadata": {},
   "outputs": [],
   "source": [
    "print(\"Interpolation assessment of Empirical Bayesian Kriging in dry season data\")\n",
    "display(dryEBKStat)\n",
    "print(\"Interpolation assessment of Empirical Bayesian Kriging in wet season data\")\n",
    "display(wetEBKStat)"
   ]
  },
  {
   "cell_type": "markdown",
   "id": "5e9ca810",
   "metadata": {},
   "source": [
    "## 7.4 Validation of Regression Kriging: Salinity <a class=\"anchor\" id=\"s_val_rk\"></a>"
   ]
  },
  {
   "cell_type": "code",
   "execution_count": null,
   "id": "82e5ef62",
   "metadata": {},
   "outputs": [],
   "source": [
    "method, season, index = 'rk', 'dry', 'Regression Kriging'\n",
    "inLayer = gis_path +\"{}{}{}.lyrx\".format(Para_ab, season.lower(), method.upper())\n",
    "\n",
    "dryRKStat = misc.interpolation.extract_val_result(inLayer,index)\n",
    "\n",
    "method, season = 'rk', 'wet'\n",
    "inLayer = gis_path +\"{}{}{}.lyrx\".format(Para_ab, season.lower(), method.upper())\n",
    "\n",
    "wetRKStat = misc.interpolation.extract_val_result(inLayer,index)"
   ]
  },
  {
   "cell_type": "code",
   "execution_count": null,
   "id": "60a0d6b3",
   "metadata": {},
   "outputs": [],
   "source": [
    "print(\"Interpolation assessment of Regression Kriging in dry season data\")\n",
    "display(dryRKStat)\n",
    "print(\"Interpolation assessment of Regression Kriging in wet season data\")\n",
    "display(wetRKStat)"
   ]
  },
  {
   "cell_type": "markdown",
   "id": "d8c33122",
   "metadata": {},
   "source": [
    "## 7.5 Validation Summary: Salinity <a class=\"anchor\" id=\"s_val_sum\"></a>"
   ]
  },
  {
   "cell_type": "code",
   "execution_count": null,
   "id": "9cd1c3d0",
   "metadata": {},
   "outputs": [],
   "source": [
    "sumStatDry2 = pd.concat([dryOKStat,dryIDWStat, dryEBKStat,dryRKStat])\n",
    "\n",
    "print(\"Summary of interpolation assessment in dry season data\")\n",
    "sumStatDry2"
   ]
  },
  {
   "cell_type": "code",
   "execution_count": null,
   "id": "6c411c2c",
   "metadata": {},
   "outputs": [],
   "source": [
    "sumStatWet2 = pd.concat([wetOKStat,wetIDWStat, wetEBKStat,wetRKStat])\n",
    "\n",
    "print(\"Summary of interpolation assessment in dry season data\")\n",
    "sumStatWet2"
   ]
  },
  {
   "cell_type": "markdown",
   "id": "e6a87cb0",
   "metadata": {},
   "source": [
    "# 8. Spatial Interpolation of Total Nitrogen <a class=\"anchor\" id=\"tn_interpolate\"></a>\n",
    "\n",
    "Select and preview data"
   ]
  },
  {
   "cell_type": "code",
   "execution_count": null,
   "id": "15e0f47a",
   "metadata": {},
   "outputs": [],
   "source": [
    "year,Para,Para_ab = \"2014\", 'Total Nitrogen', \"TN\"\n",
    "\n",
    "dry_input_pt = gis_path+\"Dry\"+year+Para_ab+b_name+'.shp'\n",
    "wet_input_pt = gis_path+\"Wet\"+year+Para_ab+b_name+'.shp'\n",
    "\n",
    "dfDryMean, gdfDryAll = misc.preprocess.combine_dis_con_dry(dfDis,dfCon,year)\n",
    "dfWetMean, gdfWetAll = misc.preprocess.combine_dis_con_wet(dfDis,dfCon,year)\n",
    "\n",
    "gdfDrySelect = gdfDryAll[(gdfDryAll[\"ParameterName\"]==Para)&(gdfDryAll[\"ManagedAreaName\"]==Area)]\n",
    "gdfWetSelect = gdfWetAll[(gdfWetAll[\"ParameterName\"]==Para)&(gdfWetAll[\"ManagedAreaName\"]==Area)]\n",
    "\n",
    "gdfDrySelect.to_crs(int(SpatialRef)).to_file(dry_input_pt, driver='ESRI Shapefile',crs=\"EPSG:\"+SpatialRef)\n",
    "gdfWetSelect.to_crs(int(SpatialRef)).to_file(wet_input_pt, driver='ESRI Shapefile',crs=\"EPSG:\"+SpatialRef)"
   ]
  },
  {
   "cell_type": "code",
   "execution_count": null,
   "id": "e31879e5",
   "metadata": {},
   "outputs": [],
   "source": [
    "gdfDryShp = gpd.read_file(dry_input_pt)\n",
    "gdfWetShp = gpd.read_file(wet_input_pt)\n",
    "extentShp = gpd.read_file(boundary_shp)"
   ]
  },
  {
   "cell_type": "code",
   "execution_count": null,
   "id": "f8b820f0",
   "metadata": {},
   "outputs": [],
   "source": [
    "fig, ax = plt.subplots(figsize = (16,12))\n",
    "extentShp.plot(ax = ax, color='none', edgecolor='blue')\n",
    "gdfWetShp.plot(ax = ax, marker='o', color='red', markersize=5)\n",
    "cx.add_basemap(ax = ax,source=cx.providers.Stamen.TonerLite,crs=gdfDryShp.crs)\n",
    "ax.set_title('Sampling points at {}'.format(Area))"
   ]
  },
  {
   "cell_type": "markdown",
   "id": "34a71778",
   "metadata": {},
   "source": [
    "## 8.1 Ordinary Kriging: Total Nitrogen <a class=\"anchor\" id=\"tn_kriging\"></a>"
   ]
  },
  {
   "cell_type": "code",
   "execution_count": null,
   "id": "5554cbb8",
   "metadata": {},
   "outputs": [],
   "source": [
    "year, season, method, value_field, mask = '2014', 'Dry','ok','ResultValu', boundary_shp \n",
    "in_features = dry_input_pt\n",
    "out_ga_layer = gis_path +\"{}{}{}.lyrx\".format(Para_ab, season.lower(), method.upper())\n",
    "out_raster = gis_path +\"{}{}{}.tif\".format(Para_ab, season.lower(),method.upper())\n",
    "\n",
    "dryOK_2014, dryOKStat = misc.interpolation.interpolation(method = method, input_point = in_features, \n",
    "                      out_raster = out_raster, z_field = value_field, \n",
    "                      out_ga_layer = out_ga_layer, extent = extent, \n",
    "                      mask = mask)\n",
    "\n",
    "season = 'Wet'\n",
    "in_features = wet_input_pt\n",
    "out_ga_layer = gis_path +\"{}{}{}.lyrx\".format(Para_ab, season.lower(), method.upper())\n",
    "out_raster = gis_path +\"{}{}{}.tif\".format(Para_ab, season.lower(),method.upper())\n",
    "wetOK_2014,wetOKStat = misc.interpolation.interpolation(method = method, input_point = in_features, \n",
    "                      out_raster = out_raster, z_field = 'ResultValu', \n",
    "                      out_ga_layer = out_ga_layer, extent = extent, \n",
    "                      mask = mask)"
   ]
  },
  {
   "cell_type": "code",
   "execution_count": null,
   "id": "5c6d8ab2",
   "metadata": {},
   "outputs": [],
   "source": [
    "fig, axes = plt.subplots(1,2, figsize=(18, 8))\n",
    "\n",
    "fig.suptitle(\"{} (Parameter: {}).\".format(Area, Para),fontsize=20)\n",
    "\n",
    "misc.interpolation.plot_raster(gdfDryShp, extentShp, dryOK_2014, 'Dry Season', axes[0], fig)\n",
    "misc.interpolation.plot_raster(gdfWetShp, extentShp, wetOK_2014, 'Wet Season', axes[1], fig)"
   ]
  },
  {
   "cell_type": "markdown",
   "id": "f8b1e0e4",
   "metadata": {},
   "source": [
    "## 8.2 Inverse Distance Weighting: Total Nitrogen <a class=\"anchor\" id=\"tn_idw\"></a>"
   ]
  },
  {
   "cell_type": "code",
   "execution_count": null,
   "id": "da147c7b",
   "metadata": {},
   "outputs": [],
   "source": [
    "year, season, method, value_field, mask = '2014', 'Dry','idw','ResultValu', boundary_shp \n",
    "in_features = dry_input_pt\n",
    "out_ga_layer = gis_path +\"{}{}{}.lyrx\".format(Para_ab, season.lower(), method.upper())\n",
    "out_raster = gis_path +\"{}{}{}.tif\".format(Para_ab, season.lower(),method.upper())\n",
    "\n",
    "dryIDW_2014 = misc.interpolation.interpolation(method = method, input_point = in_features, \n",
    "                      out_raster = out_raster, z_field = value_field, \n",
    "                      out_ga_layer = out_ga_layer, extent = extent, \n",
    "                      mask = mask)\n",
    "\n",
    "season = 'Wet'\n",
    "in_features = wet_input_pt\n",
    "out_ga_layer = gis_path +\"{}{}{}.lyrx\".format(Para_ab, season.lower(), method.upper())\n",
    "out_raster = gis_path +\"{}{}{}.tif\".format(Para_ab, season.lower(),method.upper())\n",
    "wetIDW_2014 = misc.interpolation.interpolation(method = method, input_point = in_features, \n",
    "                      out_raster = out_raster, z_field = 'ResultValu', \n",
    "                      out_ga_layer = out_ga_layer, extent = extent, \n",
    "                      mask = mask)\n"
   ]
  },
  {
   "cell_type": "code",
   "execution_count": null,
   "id": "1439a45c",
   "metadata": {},
   "outputs": [],
   "source": [
    "fig, axes = plt.subplots(1,2, figsize=(18, 8))\n",
    "\n",
    "fig.suptitle(\"{} (Parameter: {}).\".format(Area, Para),fontsize=20)\n",
    "\n",
    "misc.interpolation.plot_raster(gdfDryShp, extentShp, dryIDW_2014, 'Dry Season', axes[0],fig)\n",
    "misc.interpolation.plot_raster(gdfWetShp, extentShp, wetIDW_2014, 'Wet Season', axes[1],fig)"
   ]
  },
  {
   "cell_type": "markdown",
   "id": "e2d869f6",
   "metadata": {},
   "source": [
    "## 8.3 Empirical Bayesian Kriging: Total Nitrogen <a class=\"anchor\" id=\"tn_ebk\"></a>"
   ]
  },
  {
   "cell_type": "code",
   "execution_count": null,
   "id": "52078365",
   "metadata": {
    "scrolled": true
   },
   "outputs": [],
   "source": [
    "year, season, method, value_field, mask = '2014', 'Dry','ebk','ResultValu', boundary_shp \n",
    "in_features = dry_input_pt\n",
    "out_ga_layer = gis_path +\"{}{}{}.lyrx\".format(Para_ab, season.lower(), method.upper())\n",
    "out_raster = gis_path +\"{}{}{}.tif\".format(Para_ab, season.lower(),method.upper())\n",
    "\n",
    "dryEBK_2014 = misc.interpolation.interpolation(method = method, input_point = in_features, \n",
    "                      out_raster = out_raster, z_field = value_field, \n",
    "                      out_ga_layer = out_ga_layer, extent = extent, \n",
    "                      mask = mask)\n",
    "\n",
    "season = 'Wet'\n",
    "in_features = wet_input_pt\n",
    "out_ga_layer = gis_path +\"{}{}{}.lyrx\".format(Para_ab, season.lower(), method.upper())\n",
    "out_raster = gis_path +\"{}{}{}.tif\".format(Para_ab, season.lower(),method.upper())\n",
    "wetEBK_2014 = misc.interpolation.interpolation(method = method, input_point = in_features, \n",
    "                      out_raster = out_raster, z_field = 'ResultValu', \n",
    "                      out_ga_layer = out_ga_layer, extent = extent, \n",
    "                      mask = mask)"
   ]
  },
  {
   "cell_type": "code",
   "execution_count": null,
   "id": "43591742",
   "metadata": {},
   "outputs": [],
   "source": [
    "fig, axes = plt.subplots(1,2, figsize=(18, 8))\n",
    "\n",
    "fig.suptitle(\"{} (Parameter: {}).\".format(Area, Para),fontsize=20)\n",
    "\n",
    "misc.interpolation.plot_raster(gdfDryShp, extentShp, dryEBK_2014, 'Dry Season', axes[0],fig)\n",
    "misc.interpolation.plot_raster(gdfWetShp, extentShp, wetEBK_2014, 'Wet Season', axes[1],fig)"
   ]
  },
  {
   "cell_type": "markdown",
   "id": "ca58d201",
   "metadata": {},
   "source": [
    "## 8.4 Regression Kriging: Total Nitrogen <a class=\"anchor\" id=\"tn_rk\"></a>"
   ]
  },
  {
   "cell_type": "code",
   "execution_count": null,
   "id": "3dbc4356",
   "metadata": {},
   "outputs": [],
   "source": [
    "ma_table = pd.read_csv(gis_path + \"MA_table.csv\")\n",
    "\n",
    "fig, ax = plt.subplots(1, figsize=(18, 12))\n",
    "fig.suptitle(\"{} (covariate: {}).\".format(Area, 'bathymetry'),fontsize=20)\n",
    "\n",
    "ra_fname = gis_path + \"covariates/bathymetry/{}.tif\".format(dictArea[Area])\n",
    "misc.interpolation.plot_covariate(Area,gdfDryShp,extentShp,ra_fname,ax, fig)"
   ]
  },
  {
   "cell_type": "code",
   "execution_count": null,
   "id": "f646d45d",
   "metadata": {},
   "outputs": [],
   "source": [
    "year, season, method, value_field, mask = '2014', 'Dry','rk','ResultValu', boundary_shp \n",
    "in_explanatory_rasters = gis_path + \"covariates/bathymetry/{}.tif\".format(dictArea[Area])\n",
    "\n",
    "in_features = dry_input_pt \n",
    "out_ga_layer = gis_path +\"{}{}{}.lyrx\".format(Para_ab, season.lower(), method.upper())\n",
    "out_raster = gis_path +\"{}{}{}.tif\".format(Para_ab, season.lower(),method.upper())\n",
    "\n",
    "dryRK_2014 = misc.interpolation.interpolation(method = method, input_point = in_features, out_raster = out_raster, \n",
    "                                              z_field = value_field, out_ga_layer = out_ga_layer, extent = extent, \n",
    "                                              mask = mask, in_explanatory_rasters = in_explanatory_rasters)\n",
    "\n",
    "season = 'Wet'\n",
    "in_features = wet_input_pt \n",
    "out_ga_layer = gis_path +\"{}{}{}.lyrx\".format(Para_ab, season.lower(), method.upper())\n",
    "out_raster = gis_path +\"{}{}{}.tif\".format(Para_ab, season.lower(),method.upper())\n",
    "\n",
    "wetRK_2014 = misc.interpolation.interpolation(method = method, input_point = in_features, out_raster = out_raster, \n",
    "                                              z_field = 'ResultValu', out_ga_layer = out_ga_layer, extent = extent, \n",
    "                                              mask = mask, in_explanatory_rasters = in_explanatory_rasters)"
   ]
  },
  {
   "cell_type": "code",
   "execution_count": null,
   "id": "cd00a5cf",
   "metadata": {},
   "outputs": [],
   "source": [
    "fig, axes = plt.subplots(1,2, figsize=(18, 8))\n",
    "\n",
    "fig.suptitle(\"{} (Parameter: {}).\".format(Area, Para),fontsize=20)\n",
    "\n",
    "misc.interpolation.plot_raster(gdfDryShp, extentShp, dryRK_2014, 'Dry Season', axes[0],fig)\n",
    "misc.interpolation.plot_raster(gdfWetShp, extentShp, wetRK_2014, 'Wet Season', axes[1],fig)"
   ]
  },
  {
   "cell_type": "markdown",
   "id": "429fb991",
   "metadata": {},
   "source": [
    "# 9. Validation of Interpolation: Total Nitrogen <a class=\"anchor\" id=\"tn_validation\"></a>\n",
    "## 9.1. Validation of Ordinary Kriging: Total Nitrogen <a class=\"anchor\" id=\"tn_val_ok\"></a>\n"
   ]
  },
  {
   "cell_type": "code",
   "execution_count": null,
   "id": "26c9b89d",
   "metadata": {},
   "outputs": [],
   "source": [
    "print(\"Interpolation assessment of Ordinary Kriging in dry season data\")\n",
    "display(dryOKStat)\n",
    "print(\"Interpolation assessment of Ordinary Kriging in wet season data\")\n",
    "display(wetOKStat)"
   ]
  },
  {
   "cell_type": "markdown",
   "id": "94877dce",
   "metadata": {},
   "source": [
    "## 9.2. Validation of IDW: Total Nitrogen <a class=\"anchor\" id=\"tn_val_idw\"></a>\n"
   ]
  },
  {
   "cell_type": "code",
   "execution_count": null,
   "id": "9d3baf80",
   "metadata": {},
   "outputs": [],
   "source": [
    "method, season, index = 'idw', 'dry', 'Inverse Distance Weighting'\n",
    "inLayer = gis_path +\"{}{}{}.lyrx\".format(Para_ab, season.lower(), method.upper())\n",
    "\n",
    "dryIDWStat = misc.interpolation.extract_val_result(inLayer,index)\n",
    "\n",
    "method, season = 'idw', 'wet'\n",
    "inLayer = gis_path +\"{}{}{}.lyrx\".format(Para_ab, season.lower(), method.upper())\n",
    "\n",
    "wetIDWStat = misc.interpolation.extract_val_result(inLayer,index)"
   ]
  },
  {
   "cell_type": "code",
   "execution_count": null,
   "id": "591236ee",
   "metadata": {},
   "outputs": [],
   "source": [
    "print(\"Interpolation assessment of Inverse Distance Weighting in dry season data\")\n",
    "display(dryIDWStat)\n",
    "print(\"Interpolation assessment of Inverse Distance Weighting in wet season data\")\n",
    "display(wetIDWStat)"
   ]
  },
  {
   "cell_type": "markdown",
   "id": "fdb551d2",
   "metadata": {},
   "source": [
    "## 9.3. Validation of Empirical Bayesian Kriging: Total Nitrogen <a class=\"anchor\" id=\"tn_val_ebk\"></a>\n"
   ]
  },
  {
   "cell_type": "code",
   "execution_count": null,
   "id": "44782465",
   "metadata": {},
   "outputs": [],
   "source": [
    "method, season, index = 'ebk', 'dry', 'Empirical Bayesian Kriging'\n",
    "inLayer = gis_path +\"{}{}{}.lyrx\".format(Para_ab, season.lower(), method.upper())\n",
    "\n",
    "dryEBKStat = misc.interpolation.extract_val_result(inLayer,index)\n",
    "\n",
    "method, season = 'ebk', 'wet'\n",
    "inLayer = gis_path +\"{}{}{}.lyrx\".format(Para_ab, season.lower(), method.upper())\n",
    "\n",
    "wetEBKStat = misc.interpolation.extract_val_result(inLayer,index)"
   ]
  },
  {
   "cell_type": "code",
   "execution_count": null,
   "id": "4666fd6a",
   "metadata": {},
   "outputs": [],
   "source": [
    "print(\"Interpolation assessment of Empirical Bayesian Kriging in dry season data\")\n",
    "display(dryEBKStat)\n",
    "print(\"Interpolation assessment of Empirical Bayesian Kriging in wet season data\")\n",
    "display(wetEBKStat)"
   ]
  },
  {
   "cell_type": "markdown",
   "id": "0b986347",
   "metadata": {},
   "source": [
    "## 9.4. Validation of Regression Kriging: Total Nitrogen <a class=\"anchor\" id=\"tn_val_rk\"></a>"
   ]
  },
  {
   "cell_type": "code",
   "execution_count": null,
   "id": "88f5c6b4",
   "metadata": {},
   "outputs": [],
   "source": [
    "method, season, index = 'rk', 'dry', 'Regression Kriging'\n",
    "inLayer = gis_path +\"{}{}{}.lyrx\".format(Para_ab, season.lower(), method.upper())\n",
    "\n",
    "dryEBKStat = misc.interpolation.extract_val_result(inLayer,index)\n",
    "\n",
    "season = 'wet'\n",
    "inLayer = gis_path +\"{}{}{}.lyrx\".format(Para_ab, season.lower(), method.upper())\n",
    "\n",
    "wetRKStat = misc.interpolation.extract_val_result(inLayer,index)"
   ]
  },
  {
   "cell_type": "code",
   "execution_count": null,
   "id": "51fdfd7f",
   "metadata": {},
   "outputs": [],
   "source": [
    "print(\"Interpolation assessment of Regression Kriging in dry season data\")\n",
    "display(dryRKStat)\n",
    "print(\"Interpolation assessment of Regression Kriging in wet season data\")\n",
    "display(wetRKStat)"
   ]
  },
  {
   "cell_type": "markdown",
   "id": "1e61f3fd",
   "metadata": {},
   "source": [
    "# 10. Validation Summary: All three variables <a class=\"anchor\" id=\"val_sum\"></a>"
   ]
  },
  {
   "cell_type": "code",
   "execution_count": null,
   "id": "7ae0f3e1",
   "metadata": {},
   "outputs": [],
   "source": [
    "print(\"Summary of validation result in dry season data: dissolved oxygen\")\n",
    "display(sumStatDry)\n",
    "print(\"Summary of validation result in wet season data: dissolved oxygen\")\n",
    "display(sumStatWet)\n",
    "\n",
    "print(\"Summary of validation result in dry season data: salinity\")\n",
    "display(sumStatDry2)\n",
    "print(\"Summary of validation result in wet season data: salinity\")\n",
    "display(sumStatWet2)\n",
    "\n",
    "print(\"Summary of validation result in dry season data: total nitrogen\")\n",
    "display(sumStatDry3)\n",
    "print(\"Summary of validation result in wet season data: total nitrogen\")\n",
    "display(sumStatWet3)"
   ]
  }
 ],
 "metadata": {
  "kernelspec": {
   "display_name": "Python 3 (ipykernel)",
   "language": "python",
   "name": "python3"
  },
  "language_info": {
   "codemirror_mode": {
    "name": "ipython",
    "version": 3
   },
   "file_extension": ".py",
   "mimetype": "text/x-python",
   "name": "python",
   "nbconvert_exporter": "python",
   "pygments_lexer": "ipython3",
   "version": "3.9.11"
  }
 },
 "nbformat": 4,
 "nbformat_minor": 5
}
