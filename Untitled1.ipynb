{
 "cells": [
  {
   "cell_type": "code",
   "execution_count": 1,
   "id": "939c522e",
   "metadata": {},
   "outputs": [],
   "source": [
    "import time, math, os, importlib\n",
    "import sklearn.metrics  \n",
    "import arcgisscripting\n",
    "import geopandas as gpd\n",
    "import matplotlib.pyplot as plt\n",
    "import numpy as np\n",
    "import pandas as pd\n",
    "import rasterio as rio\n",
    "import rasterio.mask\n",
    "import rasterio.plot as rio_pl\n",
    "import matplotlib.image as mpimg\n",
    "from datetime import datetime\n",
    "\n",
    "from rasterio.plot import show\n",
    "from rasterio.transform import Affine\n",
    "from rasterio.mask import mask\n",
    "from rasterio import MemoryFile\n",
    "from rasterio.profiles import DefaultGTiffProfile\n",
    "from scipy.spatial import Voronoi, voronoi_plot_2d\n",
    "from scipy.stats import sem\n",
    "from sklearn.metrics import mean_squared_error\n",
    "from shapely.geometry import box, Polygon, Point\n",
    "from shapely import wkt\n",
    "from sklearn.gaussian_process import GaussianProcessRegressor\n",
    "from sklearn.metrics import r2_score\n",
    "from sklearn.model_selection import train_test_split\n",
    "from sklearn.neighbors import KNeighborsRegressor\n",
    "import contextily as cx\n",
    "\n",
    "import arcpy\n",
    "from arcpy.sa import *\n",
    "import misc.preprocess\n",
    "import misc.interpolation\n",
    "arcpy.env.overwriteOutput = True"
   ]
  },
  {
   "cell_type": "code",
   "execution_count": 2,
   "id": "996e54c8",
   "metadata": {},
   "outputs": [],
   "source": [
    "# path = \"E:/Projects/SEACAR_WQ_Pilot/\"\n",
    "# gis_path = path+'GIS_data/'\n",
    "\n",
    "path = \"D:/Water_Quailty/\"\n",
    "gis_path = path+'GIS_data/'"
   ]
  },
  {
   "cell_type": "code",
   "execution_count": 3,
   "id": "93d9ae44",
   "metadata": {},
   "outputs": [
    {
     "name": "stderr",
     "output_type": "stream",
     "text": [
      "C:\\Users\\xiang11\\AppData\\Local\\ESRI\\conda\\envs\\arcgispro-py3-clone\\lib\\site-packages\\IPython\\core\\interactiveshell.py:3552: DtypeWarning: Columns (6,12) have mixed types.Specify dtype option on import or set low_memory=False.\n",
      "  exec(code_obj, self.user_global_ns, self.user_ns)\n"
     ]
    }
   ],
   "source": [
    "# Reload modules in external .py files after editing.\n",
    "dfAll = pd.read_csv(path + \"all_0214.csv\").drop(columns=['Unnamed: 0','Unnamed: 0.1','RowID','ValueQualifier'])\n",
    "# Convert SampleDate froms str to date\n",
    "dfAll['SampleDate'] = pd.to_datetime(dfAll['SampleDate']).dt.date"
   ]
  },
  {
   "cell_type": "code",
   "execution_count": 4,
   "id": "41305339",
   "metadata": {},
   "outputs": [],
   "source": [
    "col_ls = ['RowID','ParameterName','ParameterUnits','ProgramLocationID','ActivityType','ManagedAreaName',\n",
    "                   'SampleDate','Year','Month','ResultValue','ValueQualifier','Latitude_DD','Longitude_DD']\n",
    "para_ls = [\"Salinity\",\"Total Nitrogen\",\"Dissolved Oxygen\",\"Turbidity\",\"Secchi Depth\"]\n",
    "para_ls_ab = [\"S\",\"TN\",\"DO\",\"T\",\"SD\"]\n",
    "# Convert full MA names to short names\n",
    "dictArea    = {'Gasparilla Sound-Charlotte Harbor Aquatic Preserve':'Charlotte Harbor','Big Bend Seagrasses Aquatic Preserve':'Big Bend',\n",
    "                'Guana Tolomato Matanzas National Estuarine Research Reserve':'GTM Reserve','Estero Bay Aquatic Preserve':'Estero Bay',\n",
    "                'Biscayne Bay Aquatic Preserve':'Biscayne Bay','Matlacha Pass Aquatic Preserve':'Matlacha Pass AP',\n",
    "                'Lemon Bay Aquatic Preserve':'Lemon Bay','Cape Haze Aquatic Preserve':'Cape Haze','Pine Island Sound Aquatic Preserve':'Pine Island'}\n",
    "\n",
    "# Convert full MA names to MA name in ORCP_Managed_Areas_Oct2021\n",
    "dictArea2    = {'Gasparilla Sound-Charlotte Harbor Aquatic Preserve':'Gasparilla Sound-Charlotte Harbor','Big Bend Seagrasses Aquatic Preserve':'Big Bend Seagrasses',\n",
    "                'Guana Tolomato Matanzas National Estuarine Research Reserve':'Guana Tolomato Matanzas NERR','Estero Bay Aquatic Preserve':'Estero Bay',\n",
    "                'Biscayne Bay Aquatic Preserve':'Biscayne Bay','Matlacha Pass Aquatic Preserve':'Matlacha Pass',\n",
    "                'Lemon Bay Aquatic Preserve':'Lemon Bay','Cape Haze Aquatic Preserve':'Cape Haze','Pine Island Sound Aquatic Preserve':'Pine Island Sound'}\n",
    "\n",
    "dictPara = {\"Salinity\":'S','Total Nitrogen':'TN','Dissolved Oxygen':'DO','Turbidity':'T','Secchi Depth':'SD'}\n",
    "dictUnits   = {\"Salinity\":\"ppt\",\"Total Nitrogen\": \"mg/L\",\"Dissolved Oxygen\": \"mg/L\",\"Turbidity\": \"NTU\", \"Secchi Depth\": \"m\"}\n",
    "listArea    = dfAll[\"ManagedAreaName\"].unique()\n",
    "listPara    = [\"Salinity\",\"Total Nitrogen\",\"Dissolved Oxygen\",\"Turbidity\",\"Secchi Depth\"]\n",
    "SpatialRef, method, b_name = '3086','rk', 'ch'"
   ]
  },
  {
   "cell_type": "code",
   "execution_count": 15,
   "id": "1864a34e",
   "metadata": {
    "scrolled": true
   },
   "outputs": [
    {
     "data": {
      "text/html": [
       "<div>\n",
       "<style scoped>\n",
       "    .dataframe tbody tr th:only-of-type {\n",
       "        vertical-align: middle;\n",
       "    }\n",
       "\n",
       "    .dataframe tbody tr th {\n",
       "        vertical-align: top;\n",
       "    }\n",
       "\n",
       "    .dataframe thead th {\n",
       "        text-align: right;\n",
       "    }\n",
       "</style>\n",
       "<table border=\"1\" class=\"dataframe\">\n",
       "  <thead>\n",
       "    <tr style=\"text-align: right;\">\n",
       "      <th></th>\n",
       "      <th>Unnamed: 0</th>\n",
       "      <th>param</th>\n",
       "      <th>ma</th>\n",
       "      <th>st_Year</th>\n",
       "      <th>season</th>\n",
       "      <th>med_seamo_ma</th>\n",
       "      <th>s_start</th>\n",
       "      <th>s_end</th>\n",
       "      <th>Dissolved Oxygen</th>\n",
       "      <th>Salinity</th>\n",
       "      <th>Secchi Depth</th>\n",
       "      <th>Total Nitrogen</th>\n",
       "      <th>Turbidity</th>\n",
       "      <th>Start_Date</th>\n",
       "      <th>End_Date</th>\n",
       "    </tr>\n",
       "  </thead>\n",
       "  <tbody>\n",
       "    <tr>\n",
       "      <th>0</th>\n",
       "      <td>1</td>\n",
       "      <td>temp</td>\n",
       "      <td>Big Bend Seagrasses Aquatic Preserve</td>\n",
       "      <td>2004</td>\n",
       "      <td>Winter</td>\n",
       "      <td>15-Jan</td>\n",
       "      <td>1/15/2004</td>\n",
       "      <td>2/17/2004</td>\n",
       "      <td>169.0</td>\n",
       "      <td>164.0</td>\n",
       "      <td>94.0</td>\n",
       "      <td>16.0</td>\n",
       "      <td>80.0</td>\n",
       "      <td>2004-01-15</td>\n",
       "      <td>2004-02-17</td>\n",
       "    </tr>\n",
       "    <tr>\n",
       "      <th>1</th>\n",
       "      <td>2</td>\n",
       "      <td>temp</td>\n",
       "      <td>Big Bend Seagrasses Aquatic Preserve</td>\n",
       "      <td>2004</td>\n",
       "      <td>Spring</td>\n",
       "      <td>18-Feb</td>\n",
       "      <td>2/18/2004</td>\n",
       "      <td>6/13/2004</td>\n",
       "      <td>383.0</td>\n",
       "      <td>371.0</td>\n",
       "      <td>230.0</td>\n",
       "      <td>37.0</td>\n",
       "      <td>179.0</td>\n",
       "      <td>2004-02-18</td>\n",
       "      <td>2004-06-13</td>\n",
       "    </tr>\n",
       "    <tr>\n",
       "      <th>2</th>\n",
       "      <td>3</td>\n",
       "      <td>temp</td>\n",
       "      <td>Big Bend Seagrasses Aquatic Preserve</td>\n",
       "      <td>2004</td>\n",
       "      <td>Summer</td>\n",
       "      <td>14-Jun</td>\n",
       "      <td>6/14/2004</td>\n",
       "      <td>8/30/2004</td>\n",
       "      <td>359.0</td>\n",
       "      <td>353.0</td>\n",
       "      <td>197.0</td>\n",
       "      <td>48.0</td>\n",
       "      <td>194.0</td>\n",
       "      <td>2004-06-14</td>\n",
       "      <td>2004-08-30</td>\n",
       "    </tr>\n",
       "    <tr>\n",
       "      <th>3</th>\n",
       "      <td>4</td>\n",
       "      <td>temp</td>\n",
       "      <td>Big Bend Seagrasses Aquatic Preserve</td>\n",
       "      <td>2004</td>\n",
       "      <td>Fall</td>\n",
       "      <td>31-Aug</td>\n",
       "      <td>8/31/2004</td>\n",
       "      <td>1/14/2005</td>\n",
       "      <td>454.0</td>\n",
       "      <td>442.0</td>\n",
       "      <td>277.0</td>\n",
       "      <td>35.0</td>\n",
       "      <td>190.0</td>\n",
       "      <td>2004-08-31</td>\n",
       "      <td>2005-01-14</td>\n",
       "    </tr>\n",
       "    <tr>\n",
       "      <th>4</th>\n",
       "      <td>5</td>\n",
       "      <td>temp</td>\n",
       "      <td>Big Bend Seagrasses Aquatic Preserve</td>\n",
       "      <td>2005</td>\n",
       "      <td>Winter</td>\n",
       "      <td>15-Jan</td>\n",
       "      <td>1/15/2005</td>\n",
       "      <td>2/17/2005</td>\n",
       "      <td>198.0</td>\n",
       "      <td>191.0</td>\n",
       "      <td>83.0</td>\n",
       "      <td>29.0</td>\n",
       "      <td>127.0</td>\n",
       "      <td>2005-01-15</td>\n",
       "      <td>2005-02-17</td>\n",
       "    </tr>\n",
       "    <tr>\n",
       "      <th>...</th>\n",
       "      <td>...</td>\n",
       "      <td>...</td>\n",
       "      <td>...</td>\n",
       "      <td>...</td>\n",
       "      <td>...</td>\n",
       "      <td>...</td>\n",
       "      <td>...</td>\n",
       "      <td>...</td>\n",
       "      <td>...</td>\n",
       "      <td>...</td>\n",
       "      <td>...</td>\n",
       "      <td>...</td>\n",
       "      <td>...</td>\n",
       "      <td>...</td>\n",
       "      <td>...</td>\n",
       "    </tr>\n",
       "    <tr>\n",
       "      <th>294</th>\n",
       "      <td>295</td>\n",
       "      <td>temp</td>\n",
       "      <td>Matlacha Pass Aquatic Preserve</td>\n",
       "      <td>2020</td>\n",
       "      <td>Summer</td>\n",
       "      <td>6-Jun</td>\n",
       "      <td>6/6/2020</td>\n",
       "      <td>8/16/2020</td>\n",
       "      <td>6.0</td>\n",
       "      <td>3.0</td>\n",
       "      <td>6.0</td>\n",
       "      <td>6.0</td>\n",
       "      <td>NaN</td>\n",
       "      <td>2020-06-06</td>\n",
       "      <td>2020-08-16</td>\n",
       "    </tr>\n",
       "    <tr>\n",
       "      <th>295</th>\n",
       "      <td>296</td>\n",
       "      <td>temp</td>\n",
       "      <td>Matlacha Pass Aquatic Preserve</td>\n",
       "      <td>2020</td>\n",
       "      <td>Fall</td>\n",
       "      <td>17-Aug</td>\n",
       "      <td>8/17/2020</td>\n",
       "      <td>2/27/2021</td>\n",
       "      <td>15.0</td>\n",
       "      <td>12.0</td>\n",
       "      <td>9.0</td>\n",
       "      <td>9.0</td>\n",
       "      <td>13.0</td>\n",
       "      <td>2020-08-17</td>\n",
       "      <td>2021-02-27</td>\n",
       "    </tr>\n",
       "    <tr>\n",
       "      <th>296</th>\n",
       "      <td>297</td>\n",
       "      <td>temp</td>\n",
       "      <td>Matlacha Pass Aquatic Preserve</td>\n",
       "      <td>2021</td>\n",
       "      <td>Winter</td>\n",
       "      <td>28-Feb</td>\n",
       "      <td>2/28/2021</td>\n",
       "      <td>12/20/2021</td>\n",
       "      <td>48.0</td>\n",
       "      <td>47.0</td>\n",
       "      <td>41.0</td>\n",
       "      <td>13.0</td>\n",
       "      <td>45.0</td>\n",
       "      <td>2021-02-28</td>\n",
       "      <td>2021-12-20</td>\n",
       "    </tr>\n",
       "    <tr>\n",
       "      <th>297</th>\n",
       "      <td>298</td>\n",
       "      <td>temp</td>\n",
       "      <td>Matlacha Pass Aquatic Preserve</td>\n",
       "      <td>2021</td>\n",
       "      <td>Spring</td>\n",
       "      <td>21-Dec</td>\n",
       "      <td>12/21/2021</td>\n",
       "      <td>6/5/2021</td>\n",
       "      <td>NaN</td>\n",
       "      <td>NaN</td>\n",
       "      <td>NaN</td>\n",
       "      <td>NaN</td>\n",
       "      <td>NaN</td>\n",
       "      <td>2021-12-21</td>\n",
       "      <td>2021-06-05</td>\n",
       "    </tr>\n",
       "    <tr>\n",
       "      <th>298</th>\n",
       "      <td>299</td>\n",
       "      <td>temp</td>\n",
       "      <td>Matlacha Pass Aquatic Preserve</td>\n",
       "      <td>2021</td>\n",
       "      <td>Summer</td>\n",
       "      <td>6-Jun</td>\n",
       "      <td>6/6/2021</td>\n",
       "      <td>8/16/2021</td>\n",
       "      <td>10.0</td>\n",
       "      <td>10.0</td>\n",
       "      <td>4.0</td>\n",
       "      <td>10.0</td>\n",
       "      <td>10.0</td>\n",
       "      <td>2021-06-06</td>\n",
       "      <td>2021-08-16</td>\n",
       "    </tr>\n",
       "  </tbody>\n",
       "</table>\n",
       "<p>295 rows × 15 columns</p>\n",
       "</div>"
      ],
      "text/plain": [
       "     Unnamed: 0 param                                    ma  st_Year  season  \\\n",
       "0             1  temp  Big Bend Seagrasses Aquatic Preserve     2004  Winter   \n",
       "1             2  temp  Big Bend Seagrasses Aquatic Preserve     2004  Spring   \n",
       "2             3  temp  Big Bend Seagrasses Aquatic Preserve     2004  Summer   \n",
       "3             4  temp  Big Bend Seagrasses Aquatic Preserve     2004    Fall   \n",
       "4             5  temp  Big Bend Seagrasses Aquatic Preserve     2005  Winter   \n",
       "..          ...   ...                                   ...      ...     ...   \n",
       "294         295  temp        Matlacha Pass Aquatic Preserve     2020  Summer   \n",
       "295         296  temp        Matlacha Pass Aquatic Preserve     2020    Fall   \n",
       "296         297  temp        Matlacha Pass Aquatic Preserve     2021  Winter   \n",
       "297         298  temp        Matlacha Pass Aquatic Preserve     2021  Spring   \n",
       "298         299  temp        Matlacha Pass Aquatic Preserve     2021  Summer   \n",
       "\n",
       "    med_seamo_ma     s_start       s_end  Dissolved Oxygen  Salinity  \\\n",
       "0         15-Jan   1/15/2004   2/17/2004             169.0     164.0   \n",
       "1         18-Feb   2/18/2004   6/13/2004             383.0     371.0   \n",
       "2         14-Jun   6/14/2004   8/30/2004             359.0     353.0   \n",
       "3         31-Aug   8/31/2004   1/14/2005             454.0     442.0   \n",
       "4         15-Jan   1/15/2005   2/17/2005             198.0     191.0   \n",
       "..           ...         ...         ...               ...       ...   \n",
       "294        6-Jun    6/6/2020   8/16/2020               6.0       3.0   \n",
       "295       17-Aug   8/17/2020   2/27/2021              15.0      12.0   \n",
       "296       28-Feb   2/28/2021  12/20/2021              48.0      47.0   \n",
       "297       21-Dec  12/21/2021    6/5/2021               NaN       NaN   \n",
       "298        6-Jun    6/6/2021   8/16/2021              10.0      10.0   \n",
       "\n",
       "     Secchi Depth  Total Nitrogen  Turbidity Start_Date   End_Date  \n",
       "0            94.0            16.0       80.0 2004-01-15 2004-02-17  \n",
       "1           230.0            37.0      179.0 2004-02-18 2004-06-13  \n",
       "2           197.0            48.0      194.0 2004-06-14 2004-08-30  \n",
       "3           277.0            35.0      190.0 2004-08-31 2005-01-14  \n",
       "4            83.0            29.0      127.0 2005-01-15 2005-02-17  \n",
       "..            ...             ...        ...        ...        ...  \n",
       "294           6.0             6.0        NaN 2020-06-06 2020-08-16  \n",
       "295           9.0             9.0       13.0 2020-08-17 2021-02-27  \n",
       "296          41.0            13.0       45.0 2021-02-28 2021-12-20  \n",
       "297           NaN             NaN        NaN 2021-12-21 2021-06-05  \n",
       "298           4.0            10.0       10.0 2021-06-06 2021-08-16  \n",
       "\n",
       "[295 rows x 15 columns]"
      ]
     },
     "execution_count": 15,
     "metadata": {},
     "output_type": "execute_result"
    }
   ],
   "source": [
    "dfSeason = pd.read_csv(path + \"OEATUSF_Geospatial_TempSeasons_update.csv\")\n",
    "dfSeason[\"Start_Date\"] = pd.to_datetime(dfSeason['s_start'])\n",
    "dfSeason[\"End_Date\"] = pd.to_datetime(dfSeason['s_end'])\n",
    "dfSeason.dropna(subset=['Start_Date', 'End_Date'])"
   ]
  },
  {
   "cell_type": "code",
   "execution_count": 22,
   "id": "6ea063d4",
   "metadata": {},
   "outputs": [
    {
     "name": "stderr",
     "output_type": "stream",
     "text": [
      "C:\\Users\\xiang11\\AppData\\Local\\ESRI\\conda\\envs\\arcgispro-py3-clone\\lib\\site-packages\\ipykernel_launcher.py:6: UserWarning: Column names longer than 10 characters will be truncated when saved to ESRI Shapefile.\n",
      "  \n"
     ]
    }
   ],
   "source": [
    "    df,gdf= misc.preprocess.select_aggr_area_season(dfAll,\"2004-01-15\",\"2004-02-17\", 'Gasparilla Sound-Charlotte Harbor Aquatic Preserve', \"Salinity\")\n",
    "    gdf   = gdf.to_crs(int(SpatialRef))\n",
    "    fname = [dictArea['Gasparilla Sound-Charlotte Harbor Aquatic Preserve'],\"Winter\",dictPara[\"Salinity\"],\"2004\"]\n",
    "    input_pt = gis_path+\"input_point/{}/{}/{}_{}.shp\".format(*fname)\n",
    "    boundary_shp = gis_path+ 'managed_area_boundary/{}.shp'.format(dictArea['Gasparilla Sound-Charlotte Harbor Aquatic Preserve'][0:3])\n",
    "    gdf.to_file(input_pt,driver='ESRI Shapefile',crs=\"EPSG:\"+SpatialRef)\n",
    "    MA = gpd.read_file(gis_path + r\"managed_area_boundary/ORCP_Managed_Areas_Oct2021.shp\")\n",
    "    boundary = MA[MA['MA_Name']==dictArea2['Gasparilla Sound-Charlotte Harbor Aquatic Preserve']].to_crs(int(SpatialRef))\n",
    "    boundary.to_file(boundary_shp , driver='ESRI Shapefile',crs=\"EPSG:\"+SpatialRef)\n",
    "    extent = str(boundary.geometry.total_bounds).replace('[','').replace(']','')"
   ]
  },
  {
   "cell_type": "code",
   "execution_count": 92,
   "id": "bfbaac16",
   "metadata": {},
   "outputs": [
    {
     "name": "stdout",
     "output_type": "stream",
     "text": [
      "['D:/Water_Quailty/GIS_data/covariates/popden/Charlotte Harbor.tif', 'D:/Water_Quailty/GIS_data/covariates/LDI/Charlotte Harbor.tif']\n"
     ]
    }
   ],
   "source": [
    "covarites = [\"popden\",\"LDI\"]\n",
    "if type(covarites) == str:\n",
    "    in_explanatory_rasters = gis_path + \"covariates/{}/{}.tif\".format(covarites, dictArea['Gasparilla Sound-Charlotte Harbor Aquatic Preserve'])\n",
    "elif type(covarites) == list:\n",
    "    in_explanatory_rasters = []\n",
    "    for i in range(len(covarites)):\n",
    "        in_explanatory_raster = str(gis_path + \"covariates/{}/{}.tif\".format(covarites[i], dictArea['Gasparilla Sound-Charlotte Harbor Aquatic Preserve']))\n",
    "        in_explanatory_rasters.append(in_explanatory_raster)\n",
    "print(in_explanatory_rasters)"
   ]
  },
  {
   "cell_type": "code",
   "execution_count": 91,
   "id": "8740db65",
   "metadata": {},
   "outputs": [
    {
     "data": {
      "text/plain": [
       "['D:/Water_Quailty/GIS_data/covariates/LDI/Charlotte Harbor.tif']"
      ]
     },
     "execution_count": 91,
     "metadata": {},
     "output_type": "execute_result"
    }
   ],
   "source": [
    "in_explanatory_rasters"
   ]
  },
  {
   "cell_type": "code",
   "execution_count": 59,
   "id": "78e43e00",
   "metadata": {},
   "outputs": [],
   "source": [
    "a = [1].append(1)"
   ]
  },
  {
   "cell_type": "code",
   "execution_count": 61,
   "id": "13e74456",
   "metadata": {},
   "outputs": [],
   "source": [
    "a = [1]"
   ]
  },
  {
   "cell_type": "code",
   "execution_count": 63,
   "id": "75891e03",
   "metadata": {},
   "outputs": [],
   "source": [
    "a.append(1)"
   ]
  },
  {
   "cell_type": "code",
   "execution_count": 64,
   "id": "767e0e71",
   "metadata": {},
   "outputs": [
    {
     "data": {
      "text/plain": [
       "[1, 1]"
      ]
     },
     "execution_count": 64,
     "metadata": {},
     "output_type": "execute_result"
    }
   ],
   "source": [
    "a"
   ]
  },
  {
   "cell_type": "code",
   "execution_count": 95,
   "id": "1c417849",
   "metadata": {},
   "outputs": [
    {
     "name": "stdout",
     "output_type": "stream",
     "text": [
      "Total Nitrogena\n"
     ]
    }
   ],
   "source": [
    "print(listPara[1]+\"a\")"
   ]
  },
  {
   "cell_type": "code",
   "execution_count": 97,
   "id": "a0b16d56",
   "metadata": {},
   "outputs": [],
   "source": [
    "    MA = gpd.read_file(gis_path + r\"managed_area_boundary/ORCP_Managed_Areas_Oct2021.shp\")\n",
    "    boundary = MA[MA['MA_Name']==dictArea2['Gasparilla Sound-Charlotte Harbor Aquatic Preserve']].to_crs(int(SpatialRef))\n",
    "    boundary.to_file(boundary_shp , driver='ESRI Shapefile',crs=\"EPSG:\"+SpatialRef)\n",
    "    extent = str(boundary.geometry.total_bounds).replace('[','').replace(']','')"
   ]
  },
  {
   "cell_type": "code",
   "execution_count": 98,
   "id": "ce4533de",
   "metadata": {},
   "outputs": [
    {
     "data": {
      "text/plain": [
       "'570047.2497 300176.5824 599619.6457 333834.1364'"
      ]
     },
     "execution_count": 98,
     "metadata": {},
     "output_type": "execute_result"
    }
   ],
   "source": [
    "extent"
   ]
  },
  {
   "cell_type": "code",
   "execution_count": null,
   "id": "eecaaaac",
   "metadata": {},
   "outputs": [],
   "source": []
  }
 ],
 "metadata": {
  "kernelspec": {
   "display_name": "Python 3 (ipykernel)",
   "language": "python",
   "name": "python3"
  },
  "language_info": {
   "codemirror_mode": {
    "name": "ipython",
    "version": 3
   },
   "file_extension": ".py",
   "mimetype": "text/x-python",
   "name": "python",
   "nbconvert_exporter": "python",
   "pygments_lexer": "ipython3",
   "version": "3.7.16"
  }
 },
 "nbformat": 4,
 "nbformat_minor": 5
}
