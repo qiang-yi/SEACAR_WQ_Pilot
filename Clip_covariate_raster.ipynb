{
 "cells": [
  {
   "cell_type": "markdown",
   "id": "80313319",
   "metadata": {},
   "source": [
    "# Spatial Interpolation of WQ data\n",
    "\n",
    "This document includes Python codes that clip raster within managed area"
   ]
  },
  {
   "cell_type": "code",
   "execution_count": null,
   "id": "31cb6cb1",
   "metadata": {},
   "outputs": [],
   "source": [
    "import rasterio as rio\n",
    "from rasterio.plot import show\n",
    "import geopandas as gpd"
   ]
  },
  {
   "cell_type": "code",
   "execution_count": null,
   "id": "1e213d3f",
   "metadata": {},
   "outputs": [],
   "source": [
    "path = \"E:/Projects/SEACAR_WQ_Pilot/\"\n",
    "gis_path = path+'GIS_data/'\n",
    "cov_path = gis_path+'covariates/'\n",
    "\n",
    "col_ls = ['RowID','ParameterName','ParameterUnits','ProgramLocationID','ActivityType','ManagedAreaName',\n",
    "                   'SampleDate','Year','Month','ResultValue','ValueQualifier','Latitude_DD','Longitude_DD']\n",
    "para_ls = [\"Salinity\",\"Total Nitrogen\",\"Dissolved Oxygen\",\"Turbidity\",\"Secchi Depth\"]\n",
    "\n",
    "dictArea    = {'Gasparilla Sound-Charlotte Harbor Aquatic Preserve':'Charlotte Harbor','Big Bend Seagrasses Aquatic Preserve':'Big Bend',\n",
    "                'Guana Tolomato Matanzas National Estuarine Research Reserve':'GTM Reserve','Estero Bay Aquatic Preserve':'Estero Bay',\n",
    "                'Biscayne Bay Aquatic Preserve':'Biscayne Bay','Matlacha Pass Aquatic Preserve':'Matlacha Pass AP',\n",
    "                'Lemon Bay Aquatic Preserve':'Lemon Bay','Cape Haze Aquatic Preserve':'Cape Haze AP','Pine Island Sound Aquatic Preserve':'Pine Island'}\n",
    "dictUnits   = {\"Salinity\":\"ppt\",\"Total Nitrogen\": \"mg/L\",\"Dissolved Oxygen\": \"mg/L\",\"Turbidity\": \"NTU\", \"Secchi Depth\": \"m\"}\n",
    "listArea    = dfCon_orig[\"ManagedAreaName\"].unique()\n",
    "listPara    = [\"Salinity\",\"Total Nitrogen\",\"Dissolved Oxygen\",\"Turbidity\",\"Secchi Depth\"] \n",
    "drySeason   = [11,12,1,2,3,4]\n",
    "wetSeason = [5,6,7,8,9,10]\n",
    "\n",
    "\n",
    "Area = 'Gasparilla Sound-Charlotte Harbor Aquatic Preserve'\n",
    "Para = 'Dissolved Oxygen'\n",
    "SpatialRef = '3086'\n",
    "dry_start,dry_end = '11/01/2016','04/30/2017'\n",
    "wet_start,wet_end = '05/01/2017','10/31/2017'"
   ]
  },
  {
   "cell_type": "code",
   "execution_count": null,
   "id": "e586f708",
   "metadata": {},
   "outputs": [],
   "source": [
    "MA = gpd.read_file(gis_path+\"ORCP_Managed_Areas_Oct2021.shp\")\n",
    "CH = MA[MA['MA_Name']=='Gasparilla Sound-Charlotte Harbor'].to_crs(int(SpatialRef))\n",
    "CH.plot()"
   ]
  },
  {
   "cell_type": "code",
   "execution_count": null,
   "id": "2219d2e4",
   "metadata": {},
   "outputs": [],
   "source": [
    "with rio.open(cov_path + \"NCEI_DEM.tif\", \"r+\") as dasy:\n",
    "    rio.plot.show(dasy.read(1))"
   ]
  },
  {
   "cell_type": "code",
   "execution_count": null,
   "id": "27871167",
   "metadata": {},
   "outputs": [],
   "source": []
  }
 ],
 "metadata": {
  "kernelspec": {
   "display_name": "Python 3 (ipykernel)",
   "language": "python",
   "name": "python3"
  },
  "language_info": {
   "codemirror_mode": {
    "name": "ipython",
    "version": 3
   },
   "file_extension": ".py",
   "mimetype": "text/x-python",
   "name": "python",
   "nbconvert_exporter": "python",
   "pygments_lexer": "ipython3",
   "version": "3.9.11"
  }
 },
 "nbformat": 4,
 "nbformat_minor": 5
}
